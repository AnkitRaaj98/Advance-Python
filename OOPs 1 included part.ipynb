{
 "cells": [
  {
   "cell_type": "code",
   "execution_count": 1,
   "id": "87e86e04",
   "metadata": {},
   "outputs": [],
   "source": [
    "import mydict"
   ]
  },
  {
   "cell_type": "code",
   "execution_count": 3,
   "id": "fea67b83",
   "metadata": {},
   "outputs": [],
   "source": [
    "d = mydict.dict_parsing({\"k1\":\"ankit\",\"k2\":[1,2,3,4]})"
   ]
  },
  {
   "cell_type": "code",
   "execution_count": 4,
   "id": "2573504b",
   "metadata": {},
   "outputs": [
    {
     "data": {
      "text/plain": [
       "['k1', 'k2']"
      ]
     },
     "execution_count": 4,
     "metadata": {},
     "output_type": "execute_result"
    }
   ],
   "source": [
    "d.getkeys()"
   ]
  },
  {
   "cell_type": "code",
   "execution_count": 5,
   "id": "82adb7bf",
   "metadata": {},
   "outputs": [],
   "source": [
    "from mydict import dict_parsing"
   ]
  },
  {
   "cell_type": "code",
   "execution_count": 6,
   "id": "f1012eda",
   "metadata": {},
   "outputs": [],
   "source": [
    "d1 = mydict.dict_parsing({\"k1\":\"ankit\",\"k2\":[1,2,3,4]})"
   ]
  },
  {
   "cell_type": "code",
   "execution_count": 7,
   "id": "b03e6556",
   "metadata": {},
   "outputs": [
    {
     "data": {
      "text/plain": [
       "['k1', 'k2']"
      ]
     },
     "execution_count": 7,
     "metadata": {},
     "output_type": "execute_result"
    }
   ],
   "source": [
    "d.getkeys()"
   ]
  },
  {
   "cell_type": "code",
   "execution_count": 1,
   "id": "799f1ce1",
   "metadata": {},
   "outputs": [],
   "source": [
    "from mydict import dict_parsing1 #we can keep multiple classes in single module"
   ]
  },
  {
   "cell_type": "code",
   "execution_count": 4,
   "id": "960596da",
   "metadata": {},
   "outputs": [],
   "source": [
    "d1 = dict_parsing1({\"k1\":\"ankit\",\"k2\":[1,2,3,4]})"
   ]
  },
  {
   "cell_type": "code",
   "execution_count": 5,
   "id": "cd48b7c2",
   "metadata": {},
   "outputs": [
    {
     "data": {
      "text/plain": [
       "['ankit', [1, 2, 3, 4]]"
      ]
     },
     "execution_count": 5,
     "metadata": {},
     "output_type": "execute_result"
    }
   ],
   "source": [
    "d1.getvalues()"
   ]
  },
  {
   "cell_type": "markdown",
   "id": "3f1b280a",
   "metadata": {},
   "source": [
    "q1.create our own package for all thye list function\n",
    "q2.create our own package for all thye tuple function\n",
    "q3.create our own package for all thye dict function\n",
    "q4.create our own package for all thye set function"
   ]
  },
  {
   "cell_type": "markdown",
   "id": "b08724cd",
   "metadata": {},
   "source": [
    "restriction:\n",
    "    always use exception handling\n",
    "    never use print statement\n",
    "    always use logging while writing a code and log every activity performed by code in respective logging file\n",
    "    \n",
    "submit:sudhanshu@ineuron.ai"
   ]
  }
 ],
 "metadata": {
  "kernelspec": {
   "display_name": "Python 3 (ipykernel)",
   "language": "python",
   "name": "python3"
  },
  "language_info": {
   "codemirror_mode": {
    "name": "ipython",
    "version": 3
   },
   "file_extension": ".py",
   "mimetype": "text/x-python",
   "name": "python",
   "nbconvert_exporter": "python",
   "pygments_lexer": "ipython3",
   "version": "3.9.12"
  }
 },
 "nbformat": 4,
 "nbformat_minor": 5
}
