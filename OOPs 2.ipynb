{
 "cells": [
  {
   "cell_type": "markdown",
   "id": "223c5ecb",
   "metadata": {},
   "source": [
    "# Inheritence"
   ]
  },
  {
   "cell_type": "code",
   "execution_count": 1,
   "id": "761b0d0e",
   "metadata": {},
   "outputs": [],
   "source": [
    "class xyz:\n",
    "    def __init__(self, a ,b ,c):\n",
    "        self.a=a\n",
    "        self.b=b\n",
    "        self.c=c\n",
    "        \n",
    "    def test(self):\n",
    "        print(\"this is my first method of xyz class\")\n",
    "        \n",
    "    def test1(self):\n",
    "        print(\"this is my test1 meth of xyz class\")\n",
    "        \n",
    "    def test2(self):\n",
    "        print(\"this is my test2 meth of xyz class\")\n",
    "    "
   ]
  },
  {
   "cell_type": "code",
   "execution_count": 9,
   "id": "49b74148",
   "metadata": {},
   "outputs": [],
   "source": [
    "p = xyz(1,2,4)"
   ]
  },
  {
   "cell_type": "code",
   "execution_count": 10,
   "id": "05ddd44b",
   "metadata": {},
   "outputs": [
    {
     "name": "stdout",
     "output_type": "stream",
     "text": [
      "this is my test1 meth of xyz class\n"
     ]
    }
   ],
   "source": [
    "p.test1()"
   ]
  },
  {
   "cell_type": "code",
   "execution_count": 11,
   "id": "f6475bfd",
   "metadata": {},
   "outputs": [],
   "source": [
    "class xyz1(xyz):\n",
    "    pass"
   ]
  },
  {
   "cell_type": "code",
   "execution_count": 14,
   "id": "3111338c",
   "metadata": {},
   "outputs": [],
   "source": [
    "q = xyz1(5,6,8)"
   ]
  },
  {
   "cell_type": "code",
   "execution_count": 15,
   "id": "4f561edf",
   "metadata": {},
   "outputs": [
    {
     "name": "stdout",
     "output_type": "stream",
     "text": [
      "this is my test1 meth of xyz class\n"
     ]
    }
   ],
   "source": [
    "q.test1()"
   ]
  },
  {
   "cell_type": "code",
   "execution_count": 16,
   "id": "d07ab2c0",
   "metadata": {},
   "outputs": [
    {
     "data": {
      "text/plain": [
       "5"
      ]
     },
     "execution_count": 16,
     "metadata": {},
     "output_type": "execute_result"
    }
   ],
   "source": [
    "q.a"
   ]
  },
  {
   "cell_type": "code",
   "execution_count": 17,
   "id": "1f36ebbc",
   "metadata": {},
   "outputs": [],
   "source": [
    "class xyz1(xyz):\n",
    "    def test(self):\n",
    "        print(\"THIS IS A TEST METH AVAILABL IN xyz1\")\n",
    "        "
   ]
  },
  {
   "cell_type": "code",
   "execution_count": 18,
   "id": "77c6a98c",
   "metadata": {},
   "outputs": [],
   "source": [
    "g = xyz1(45,65,85)"
   ]
  },
  {
   "cell_type": "code",
   "execution_count": 19,
   "id": "e9a5bc8c",
   "metadata": {},
   "outputs": [
    {
     "name": "stdout",
     "output_type": "stream",
     "text": [
      "THIS IS A TEST METH AVAILABL IN xyz1\n"
     ]
    }
   ],
   "source": [
    "g.test()"
   ]
  },
  {
   "cell_type": "code",
   "execution_count": 30,
   "id": "c77b62a9",
   "metadata": {},
   "outputs": [],
   "source": [
    "class xyz():\n",
    "    def __init__(self , a , b , c):\n",
    "        self.a = a\n",
    "        self.b = b\n",
    "        self.c = c\n",
    "        \n",
    "    def test(self):\n",
    "        print(\"this is my meth of xyz classs\")\n",
    "        \n",
    "class xyz1:\n",
    "    \n",
    "    def __init__(self, p,q,r):\n",
    "        self.p = p\n",
    "        self.q = q\n",
    "        self.r = r\n",
    "        \n",
    "    def test1(self):\n",
    "        print(\"test is a meth form class xyz1\")\n",
    "        \n",
    "class child(xyz1,xyz):\n",
    "    def __init__(self,*args,**kwargs):\n",
    "        xyz.__init__(self,*args)\n",
    "        xyz1.__init__(self,**kwargs)"
   ]
  },
  {
   "cell_type": "code",
   "execution_count": 36,
   "id": "8cb62604",
   "metadata": {},
   "outputs": [],
   "source": [
    "n = child(4,5,6,p = 3,q = 4,r = 5)"
   ]
  },
  {
   "cell_type": "code",
   "execution_count": 37,
   "id": "0da4a2e4",
   "metadata": {},
   "outputs": [
    {
     "data": {
      "text/plain": [
       "3"
      ]
     },
     "execution_count": 37,
     "metadata": {},
     "output_type": "execute_result"
    }
   ],
   "source": [
    "n.p"
   ]
  },
  {
   "cell_type": "code",
   "execution_count": 38,
   "id": "30fb6666",
   "metadata": {},
   "outputs": [
    {
     "data": {
      "text/plain": [
       "4"
      ]
     },
     "execution_count": 38,
     "metadata": {},
     "output_type": "execute_result"
    }
   ],
   "source": [
    "n.a"
   ]
  },
  {
   "cell_type": "code",
   "execution_count": 39,
   "id": "377121de",
   "metadata": {},
   "outputs": [
    {
     "name": "stdout",
     "output_type": "stream",
     "text": [
      "test is a meth form class xyz1\n"
     ]
    }
   ],
   "source": [
    "n.test1()"
   ]
  },
  {
   "cell_type": "code",
   "execution_count": 46,
   "id": "8f1fe62a",
   "metadata": {},
   "outputs": [],
   "source": [
    "class xyz():\n",
    "    def __init__(self , a , b , c):\n",
    "        self.a = a\n",
    "        self.b = b\n",
    "        self.c = c\n",
    "        \n",
    "    def test(self):\n",
    "        print(\"this is my meth of xyz classs\")\n",
    "        \n",
    "class xyz1(xyz):\n",
    "    \n",
    "    def test1(self):\n",
    "        print(\"test is a meth form class xyz1\")\n",
    "        \n",
    "class xyz2(xyz1):\n",
    "    \n",
    "    def test2(self):\n",
    "        print(\"test is a meth form class xyz2\")\n",
    "        \n",
    "class xyz3(xyz2):\n",
    "    \n",
    "    def test3(self):\n",
    "        print(\"test is a meth form class xyz3\")"
   ]
  },
  {
   "cell_type": "code",
   "execution_count": 47,
   "id": "2f1dad87",
   "metadata": {},
   "outputs": [],
   "source": [
    "v = xyz2(5,6,7)"
   ]
  },
  {
   "cell_type": "code",
   "execution_count": 48,
   "id": "fbfe2a45",
   "metadata": {},
   "outputs": [],
   "source": [
    "m = xyz3(2,4,5)"
   ]
  },
  {
   "cell_type": "code",
   "execution_count": 49,
   "id": "50828952",
   "metadata": {},
   "outputs": [
    {
     "data": {
      "text/plain": [
       "4"
      ]
     },
     "execution_count": 49,
     "metadata": {},
     "output_type": "execute_result"
    }
   ],
   "source": [
    "m.b"
   ]
  },
  {
   "cell_type": "code",
   "execution_count": 55,
   "id": "2ae7f5e3",
   "metadata": {},
   "outputs": [],
   "source": [
    "class file:\n",
    "    \n",
    "    def __init__(self, r,w):\n",
    "        self.r = r\n",
    "        self.w = w\n",
    "        \n",
    "    def read(self):\n",
    "        print(\"this is my reading file\")\n",
    "        \n",
    "    def write(self):\n",
    "        print(\"this is my write file\")\n",
    "        \n",
    "class child(file):\n",
    "    \n",
    "    def test(self):\n",
    "        pass"
   ]
  },
  {
   "cell_type": "code",
   "execution_count": 56,
   "id": "029fe69f",
   "metadata": {},
   "outputs": [],
   "source": [
    "b = child(5,5)"
   ]
  },
  {
   "cell_type": "code",
   "execution_count": 57,
   "id": "d746ac01",
   "metadata": {},
   "outputs": [
    {
     "name": "stdout",
     "output_type": "stream",
     "text": [
      "this is my reading file\n"
     ]
    }
   ],
   "source": [
    "b.read()"
   ]
  },
  {
   "cell_type": "code",
   "execution_count": 58,
   "id": "d8ed6efb",
   "metadata": {},
   "outputs": [
    {
     "name": "stdout",
     "output_type": "stream",
     "text": [
      "this is my write file\n"
     ]
    }
   ],
   "source": [
    "b.write()"
   ]
  },
  {
   "cell_type": "code",
   "execution_count": 66,
   "id": "2e4d717a",
   "metadata": {},
   "outputs": [],
   "source": [
    "import logging\n",
    "\n",
    "logging.basicConfig(filename=\"list.log\" , level = logging.DEBUG,format=\"%(asctime)s %(levelname)s %(message)s\",filemode='w')\n",
    "\n",
    "class file:\n",
    "    \n",
    "    def __init(self,filename):\n",
    "        logging.info(\"Creating file instance variable\")\n",
    "        self.file = filename\n",
    "        \n",
    "    def read(self):\n",
    "        logging.info(\"executing read method\")\n",
    "        try:\n",
    "            with open(f\"{self.file}.txt\",'r') as f:\n",
    "                data = f.read()\n",
    "                return data\n",
    "        except FileNotFoundError as e:\n",
    "                logging.error(\"Error occured while opening the file\")\n",
    "                logging.exception(f\"Error is {e}\")\n",
    "                \n",
    "    def write(self,data):\n",
    "        logging.info(\"executing write method\")\n",
    "        try:\n",
    "            with open(f\"{self.file}.txt\",'w') as f:\n",
    "                data = f.write(data)\n",
    "        except FileNotFoundError as e:\n",
    "                logging.error(\"Something is going wrong\")\n",
    "                \n",
    "            \n",
    "            \n",
    "            \n",
    "class child(file):\n",
    "    \n",
    "    def test(self):\n",
    "        pass\n",
    "            "
   ]
  },
  {
   "cell_type": "code",
   "execution_count": 69,
   "id": "c6af750f",
   "metadata": {},
   "outputs": [],
   "source": [
    "a = child()"
   ]
  },
  {
   "cell_type": "code",
   "execution_count": 74,
   "id": "c011a0a4",
   "metadata": {},
   "outputs": [
    {
     "data": {
      "text/plain": [
       "<bound method file.read of <__main__.child object at 0x0000021BCDF2DD60>>"
      ]
     },
     "execution_count": 74,
     "metadata": {},
     "output_type": "execute_result"
    }
   ],
   "source": [
    "a.read"
   ]
  },
  {
   "cell_type": "code",
   "execution_count": 75,
   "id": "d29c2680",
   "metadata": {},
   "outputs": [
    {
     "data": {
      "text/plain": [
       "<bound method file.write of <__main__.child object at 0x0000021BCDF2DD60>>"
      ]
     },
     "execution_count": 75,
     "metadata": {},
     "output_type": "execute_result"
    }
   ],
   "source": [
    "a.write"
   ]
  },
  {
   "cell_type": "markdown",
   "id": "53303d5a",
   "metadata": {},
   "source": [
    "ENCAPSULATION-IN ORDER TO HIDE THE INFORMATION SO NOBODY CAN MODIFIED OUR CODE\n",
    "PUBLIC PRIVATE PROTECTED"
   ]
  },
  {
   "cell_type": "code",
   "execution_count": 29,
   "id": "6b019408",
   "metadata": {},
   "outputs": [],
   "source": [
    "class test:\n",
    "    def __init__(self):\n",
    "        self.a=4\n",
    "        \n",
    "class test1(test):\n",
    "    pass\n",
    "u = test()"
   ]
  },
  {
   "cell_type": "code",
   "execution_count": 30,
   "id": "b92bcc36",
   "metadata": {},
   "outputs": [
    {
     "data": {
      "text/plain": [
       "4"
      ]
     },
     "execution_count": 30,
     "metadata": {},
     "output_type": "execute_result"
    }
   ],
   "source": [
    "u.a"
   ]
  },
  {
   "cell_type": "code",
   "execution_count": 31,
   "id": "fd1619a4",
   "metadata": {},
   "outputs": [],
   "source": [
    "v = test1()"
   ]
  },
  {
   "cell_type": "code",
   "execution_count": 32,
   "id": "6f8ddf5e",
   "metadata": {},
   "outputs": [
    {
     "data": {
      "text/plain": [
       "4"
      ]
     },
     "execution_count": 32,
     "metadata": {},
     "output_type": "execute_result"
    }
   ],
   "source": [
    "v.a"
   ]
  },
  {
   "cell_type": "code",
   "execution_count": 33,
   "id": "4820e81b",
   "metadata": {},
   "outputs": [],
   "source": [
    "class test:\n",
    "    def __init__(self):\n",
    "        self.a=4\n",
    "        \n",
    "class test1(test):\n",
    "    def __init__(self):\n",
    "        self.a=7\n",
    "u = test()"
   ]
  },
  {
   "cell_type": "code",
   "execution_count": 34,
   "id": "23c4367b",
   "metadata": {},
   "outputs": [
    {
     "data": {
      "text/plain": [
       "4"
      ]
     },
     "execution_count": 34,
     "metadata": {},
     "output_type": "execute_result"
    }
   ],
   "source": [
    "u.a"
   ]
  },
  {
   "cell_type": "code",
   "execution_count": 35,
   "id": "df2d6100",
   "metadata": {},
   "outputs": [],
   "source": [
    "v = test1()"
   ]
  },
  {
   "cell_type": "code",
   "execution_count": 36,
   "id": "6dd941c2",
   "metadata": {},
   "outputs": [
    {
     "data": {
      "text/plain": [
       "7"
      ]
     },
     "execution_count": 36,
     "metadata": {},
     "output_type": "execute_result"
    }
   ],
   "source": [
    "v.a"
   ]
  },
  {
   "cell_type": "code",
   "execution_count": 37,
   "id": "b65594b0",
   "metadata": {},
   "outputs": [],
   "source": [
    "class test:\n",
    "    def __init__(self):\n",
    "        self._a=4 #single underscore(_) follow any variable makes them protected & at the time of execution there also we have \n",
    "                  # to put (_)\n",
    "        \n",
    "class test1(test):\n",
    "    def __init__(self):\n",
    "        self._a = 7\n",
    "        \n",
    "u = test()"
   ]
  },
  {
   "cell_type": "code",
   "execution_count": 38,
   "id": "c737ed77",
   "metadata": {},
   "outputs": [
    {
     "data": {
      "text/plain": [
       "4"
      ]
     },
     "execution_count": 38,
     "metadata": {},
     "output_type": "execute_result"
    }
   ],
   "source": [
    "u._a"
   ]
  },
  {
   "cell_type": "code",
   "execution_count": 39,
   "id": "36f8cf94",
   "metadata": {},
   "outputs": [],
   "source": [
    "v = test1()"
   ]
  },
  {
   "cell_type": "code",
   "execution_count": 40,
   "id": "76367f06",
   "metadata": {},
   "outputs": [
    {
     "data": {
      "text/plain": [
       "7"
      ]
     },
     "execution_count": 40,
     "metadata": {},
     "output_type": "execute_result"
    }
   ],
   "source": [
    "v._a"
   ]
  },
  {
   "cell_type": "code",
   "execution_count": 41,
   "id": "9435efb0",
   "metadata": {},
   "outputs": [],
   "source": [
    "class test:\n",
    "    def __init__(self):\n",
    "        self.__a=4 #double underscore (__) follow any character is called private. \n",
    "        \n",
    "class test1(test):\n",
    "    def __init__(self):\n",
    "        self.__a = 7\n",
    "        \n",
    "u = test()"
   ]
  },
  {
   "cell_type": "markdown",
   "id": "52ebc0b6",
   "metadata": {},
   "source": [
    "#double underscore (__) follow any character is called private."
   ]
  },
  {
   "cell_type": "markdown",
   "id": "2bb710da",
   "metadata": {},
   "source": [
    "#single underscore(_) follow any variable makes them protected & at the time of execution there also we have \n",
    " to put (_)"
   ]
  },
  {
   "cell_type": "code",
   "execution_count": 42,
   "id": "2e998e56",
   "metadata": {},
   "outputs": [],
   "source": [
    "class test:\n",
    "     def __init__(self,a,b,c):\n",
    "            self._a=a\n",
    "            self.__b=b\n",
    "            self.c=c\n",
    "            \n",
    "v = test(4,5,6)"
   ]
  },
  {
   "cell_type": "code",
   "execution_count": 43,
   "id": "9b0c9755",
   "metadata": {},
   "outputs": [
    {
     "data": {
      "text/plain": [
       "4"
      ]
     },
     "execution_count": 43,
     "metadata": {},
     "output_type": "execute_result"
    }
   ],
   "source": [
    "v._a #"
   ]
  },
  {
   "cell_type": "code",
   "execution_count": 44,
   "id": "b392c27e",
   "metadata": {},
   "outputs": [
    {
     "ename": "AttributeError",
     "evalue": "'test' object has no attribute '__a'",
     "output_type": "error",
     "traceback": [
      "\u001b[1;31m---------------------------------------------------------------------------\u001b[0m",
      "\u001b[1;31mAttributeError\u001b[0m                            Traceback (most recent call last)",
      "Input \u001b[1;32mIn [44]\u001b[0m, in \u001b[0;36m<cell line: 1>\u001b[1;34m()\u001b[0m\n\u001b[1;32m----> 1\u001b[0m \u001b[43mv\u001b[49m\u001b[38;5;241;43m.\u001b[39;49m\u001b[43m__a\u001b[49m\n",
      "\u001b[1;31mAttributeError\u001b[0m: 'test' object has no attribute '__a'"
     ]
    }
   ],
   "source": [
    "v.__a"
   ]
  },
  {
   "cell_type": "code",
   "execution_count": 45,
   "id": "dcc2c909",
   "metadata": {},
   "outputs": [
    {
     "data": {
      "text/plain": [
       "5"
      ]
     },
     "execution_count": 45,
     "metadata": {},
     "output_type": "execute_result"
    }
   ],
   "source": [
    "#how to execute private\n",
    "v._test__b #object name dot (_) class name (__) variable name  "
   ]
  },
  {
   "cell_type": "code",
   "execution_count": 46,
   "id": "07767ee9",
   "metadata": {},
   "outputs": [],
   "source": [
    "class test:\n",
    "     def __init__(self,a,b,c):\n",
    "            self._a=a\n",
    "            self.__b=b\n",
    "            self.c=c\n",
    "            \n",
    "class test1(test):\n",
    "    pass\n",
    "            \n",
    "v = test(4,5,6)"
   ]
  },
  {
   "cell_type": "code",
   "execution_count": 47,
   "id": "b661b1af",
   "metadata": {},
   "outputs": [
    {
     "data": {
      "text/plain": [
       "4"
      ]
     },
     "execution_count": 47,
     "metadata": {},
     "output_type": "execute_result"
    }
   ],
   "source": [
    "v._a"
   ]
  },
  {
   "cell_type": "code",
   "execution_count": 48,
   "id": "721de592",
   "metadata": {},
   "outputs": [
    {
     "data": {
      "text/plain": [
       "5"
      ]
     },
     "execution_count": 48,
     "metadata": {},
     "output_type": "execute_result"
    }
   ],
   "source": [
    "v._test__b"
   ]
  },
  {
   "cell_type": "code",
   "execution_count": 49,
   "id": "965dafa6",
   "metadata": {},
   "outputs": [
    {
     "data": {
      "text/plain": [
       "6"
      ]
     },
     "execution_count": 49,
     "metadata": {},
     "output_type": "execute_result"
    }
   ],
   "source": [
    "v.c"
   ]
  },
  {
   "cell_type": "code",
   "execution_count": 50,
   "id": "dbc2bcc1",
   "metadata": {},
   "outputs": [],
   "source": [
    "u = test1(4,5,7)"
   ]
  },
  {
   "cell_type": "code",
   "execution_count": 51,
   "id": "1d8ae1be",
   "metadata": {},
   "outputs": [
    {
     "data": {
      "text/plain": [
       "4"
      ]
     },
     "execution_count": 51,
     "metadata": {},
     "output_type": "execute_result"
    }
   ],
   "source": [
    "u._a"
   ]
  },
  {
   "cell_type": "code",
   "execution_count": 52,
   "id": "758c80a0",
   "metadata": {},
   "outputs": [
    {
     "data": {
      "text/plain": [
       "7"
      ]
     },
     "execution_count": 52,
     "metadata": {},
     "output_type": "execute_result"
    }
   ],
   "source": [
    "u.c"
   ]
  },
  {
   "cell_type": "code",
   "execution_count": 53,
   "id": "664dc836",
   "metadata": {},
   "outputs": [
    {
     "ename": "AttributeError",
     "evalue": "'test1' object has no attribute '_test1__b'",
     "output_type": "error",
     "traceback": [
      "\u001b[1;31m---------------------------------------------------------------------------\u001b[0m",
      "\u001b[1;31mAttributeError\u001b[0m                            Traceback (most recent call last)",
      "Input \u001b[1;32mIn [53]\u001b[0m, in \u001b[0;36m<cell line: 1>\u001b[1;34m()\u001b[0m\n\u001b[1;32m----> 1\u001b[0m \u001b[43mu\u001b[49m\u001b[38;5;241;43m.\u001b[39;49m\u001b[43m_test1__b\u001b[49m\n",
      "\u001b[1;31mAttributeError\u001b[0m: 'test1' object has no attribute '_test1__b'"
     ]
    }
   ],
   "source": [
    "u._test1__b"
   ]
  },
  {
   "cell_type": "code",
   "execution_count": 54,
   "id": "11e0fe43",
   "metadata": {},
   "outputs": [
    {
     "data": {
      "text/plain": [
       "5"
      ]
     },
     "execution_count": 54,
     "metadata": {},
     "output_type": "execute_result"
    }
   ],
   "source": [
    "u._test__b #for private we have to execute with the parent class name and not with child class name it will give error."
   ]
  }
 ],
 "metadata": {
  "kernelspec": {
   "display_name": "Python 3 (ipykernel)",
   "language": "python",
   "name": "python3"
  },
  "language_info": {
   "codemirror_mode": {
    "name": "ipython",
    "version": 3
   },
   "file_extension": ".py",
   "mimetype": "text/x-python",
   "name": "python",
   "nbconvert_exporter": "python",
   "pygments_lexer": "ipython3",
   "version": "3.9.12"
  }
 },
 "nbformat": 4,
 "nbformat_minor": 5
}
