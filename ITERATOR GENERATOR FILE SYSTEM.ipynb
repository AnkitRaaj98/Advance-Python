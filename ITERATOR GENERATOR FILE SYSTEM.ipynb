{
 "cells": [
  {
   "cell_type": "code",
   "execution_count": 1,
   "id": "b205bbf4",
   "metadata": {},
   "outputs": [],
   "source": [
    "l=[1,2,3,4,5]"
   ]
  },
  {
   "cell_type": "code",
   "execution_count": 2,
   "id": "17fa5f9e",
   "metadata": {},
   "outputs": [
    {
     "ename": "TypeError",
     "evalue": "'list' object is not an iterator",
     "output_type": "error",
     "traceback": [
      "\u001b[1;31m---------------------------------------------------------------------------\u001b[0m",
      "\u001b[1;31mTypeError\u001b[0m                                 Traceback (most recent call last)",
      "Input \u001b[1;32mIn [2]\u001b[0m, in \u001b[0;36m<cell line: 1>\u001b[1;34m()\u001b[0m\n\u001b[1;32m----> 1\u001b[0m \u001b[38;5;28;43mnext\u001b[39;49m\u001b[43m(\u001b[49m\u001b[43ml\u001b[49m\u001b[43m)\u001b[49m\n",
      "\u001b[1;31mTypeError\u001b[0m: 'list' object is not an iterator"
     ]
    }
   ],
   "source": [
    "next(l)"
   ]
  },
  {
   "cell_type": "code",
   "execution_count": 3,
   "id": "35d122d7",
   "metadata": {},
   "outputs": [],
   "source": [
    "l=iter(l)"
   ]
  },
  {
   "cell_type": "code",
   "execution_count": 4,
   "id": "c4d7670a",
   "metadata": {},
   "outputs": [
    {
     "data": {
      "text/plain": [
       "1"
      ]
     },
     "execution_count": 4,
     "metadata": {},
     "output_type": "execute_result"
    }
   ],
   "source": [
    "next(l)"
   ]
  },
  {
   "cell_type": "code",
   "execution_count": 5,
   "id": "e0c684cc",
   "metadata": {},
   "outputs": [
    {
     "data": {
      "text/plain": [
       "2"
      ]
     },
     "execution_count": 5,
     "metadata": {},
     "output_type": "execute_result"
    }
   ],
   "source": [
    "next(l)"
   ]
  },
  {
   "cell_type": "code",
   "execution_count": 6,
   "id": "7843d8db",
   "metadata": {},
   "outputs": [
    {
     "data": {
      "text/plain": [
       "3"
      ]
     },
     "execution_count": 6,
     "metadata": {},
     "output_type": "execute_result"
    }
   ],
   "source": [
    "next(l)"
   ]
  },
  {
   "cell_type": "code",
   "execution_count": 7,
   "id": "98ffe086",
   "metadata": {},
   "outputs": [
    {
     "data": {
      "text/plain": [
       "4"
      ]
     },
     "execution_count": 7,
     "metadata": {},
     "output_type": "execute_result"
    }
   ],
   "source": [
    "next(l)"
   ]
  },
  {
   "cell_type": "code",
   "execution_count": 8,
   "id": "ee4452cf",
   "metadata": {},
   "outputs": [
    {
     "data": {
      "text/plain": [
       "5"
      ]
     },
     "execution_count": 8,
     "metadata": {},
     "output_type": "execute_result"
    }
   ],
   "source": [
    "next(l)"
   ]
  },
  {
   "cell_type": "code",
   "execution_count": 9,
   "id": "68545ef6",
   "metadata": {},
   "outputs": [
    {
     "ename": "StopIteration",
     "evalue": "",
     "output_type": "error",
     "traceback": [
      "\u001b[1;31m---------------------------------------------------------------------------\u001b[0m",
      "\u001b[1;31mStopIteration\u001b[0m                             Traceback (most recent call last)",
      "Input \u001b[1;32mIn [9]\u001b[0m, in \u001b[0;36m<cell line: 1>\u001b[1;34m()\u001b[0m\n\u001b[1;32m----> 1\u001b[0m \u001b[38;5;28;43mnext\u001b[39;49m\u001b[43m(\u001b[49m\u001b[43ml\u001b[49m\u001b[43m)\u001b[49m\n",
      "\u001b[1;31mStopIteration\u001b[0m: "
     ]
    }
   ],
   "source": [
    "next(l)"
   ]
  },
  {
   "cell_type": "code",
   "execution_count": 10,
   "id": "3ed3b39a",
   "metadata": {},
   "outputs": [],
   "source": [
    "a=56"
   ]
  },
  {
   "cell_type": "code",
   "execution_count": 11,
   "id": "83b45786",
   "metadata": {},
   "outputs": [
    {
     "ename": "TypeError",
     "evalue": "'int' object is not an iterator",
     "output_type": "error",
     "traceback": [
      "\u001b[1;31m---------------------------------------------------------------------------\u001b[0m",
      "\u001b[1;31mTypeError\u001b[0m                                 Traceback (most recent call last)",
      "Input \u001b[1;32mIn [11]\u001b[0m, in \u001b[0;36m<cell line: 1>\u001b[1;34m()\u001b[0m\n\u001b[1;32m----> 1\u001b[0m \u001b[38;5;28;43mnext\u001b[39;49m\u001b[43m(\u001b[49m\u001b[43ma\u001b[49m\u001b[43m)\u001b[49m\n",
      "\u001b[1;31mTypeError\u001b[0m: 'int' object is not an iterator"
     ]
    }
   ],
   "source": [
    "next(a)"
   ]
  },
  {
   "cell_type": "code",
   "execution_count": 12,
   "id": "df12cd9c",
   "metadata": {},
   "outputs": [
    {
     "ename": "TypeError",
     "evalue": "'int' object is not iterable",
     "output_type": "error",
     "traceback": [
      "\u001b[1;31m---------------------------------------------------------------------------\u001b[0m",
      "\u001b[1;31mTypeError\u001b[0m                                 Traceback (most recent call last)",
      "Input \u001b[1;32mIn [12]\u001b[0m, in \u001b[0;36m<cell line: 1>\u001b[1;34m()\u001b[0m\n\u001b[1;32m----> 1\u001b[0m a\u001b[38;5;241m=\u001b[39m\u001b[38;5;28;43miter\u001b[39;49m\u001b[43m(\u001b[49m\u001b[43ma\u001b[49m\u001b[43m)\u001b[49m\n",
      "\u001b[1;31mTypeError\u001b[0m: 'int' object is not iterable"
     ]
    }
   ],
   "source": [
    "a=iter(a)"
   ]
  },
  {
   "cell_type": "code",
   "execution_count": 13,
   "id": "a87f634e",
   "metadata": {},
   "outputs": [],
   "source": [
    "t=(5,6,7,88,)"
   ]
  },
  {
   "cell_type": "code",
   "execution_count": 15,
   "id": "f17b6137",
   "metadata": {},
   "outputs": [],
   "source": [
    "t=iter(t)"
   ]
  },
  {
   "cell_type": "code",
   "execution_count": 16,
   "id": "f86655b2",
   "metadata": {},
   "outputs": [
    {
     "data": {
      "text/plain": [
       "5"
      ]
     },
     "execution_count": 16,
     "metadata": {},
     "output_type": "execute_result"
    }
   ],
   "source": [
    "next(t)"
   ]
  },
  {
   "cell_type": "code",
   "execution_count": 17,
   "id": "fffaec99",
   "metadata": {},
   "outputs": [
    {
     "data": {
      "text/plain": [
       "6"
      ]
     },
     "execution_count": 17,
     "metadata": {},
     "output_type": "execute_result"
    }
   ],
   "source": [
    "next(t)"
   ]
  },
  {
   "cell_type": "code",
   "execution_count": 18,
   "id": "602bde0d",
   "metadata": {},
   "outputs": [
    {
     "data": {
      "text/plain": [
       "7"
      ]
     },
     "execution_count": 18,
     "metadata": {},
     "output_type": "execute_result"
    }
   ],
   "source": [
    "next(t)"
   ]
  },
  {
   "cell_type": "code",
   "execution_count": 19,
   "id": "ec36401e",
   "metadata": {},
   "outputs": [
    {
     "data": {
      "text/plain": [
       "88"
      ]
     },
     "execution_count": 19,
     "metadata": {},
     "output_type": "execute_result"
    }
   ],
   "source": [
    "next(t)"
   ]
  },
  {
   "cell_type": "code",
   "execution_count": 24,
   "id": "05d3b37b",
   "metadata": {},
   "outputs": [],
   "source": [
    "r=range(6)"
   ]
  },
  {
   "cell_type": "code",
   "execution_count": 25,
   "id": "3ecfbc3b",
   "metadata": {},
   "outputs": [
    {
     "ename": "TypeError",
     "evalue": "'range' object is not an iterator",
     "output_type": "error",
     "traceback": [
      "\u001b[1;31m---------------------------------------------------------------------------\u001b[0m",
      "\u001b[1;31mTypeError\u001b[0m                                 Traceback (most recent call last)",
      "Input \u001b[1;32mIn [25]\u001b[0m, in \u001b[0;36m<cell line: 1>\u001b[1;34m()\u001b[0m\n\u001b[1;32m----> 1\u001b[0m \u001b[38;5;28;43mnext\u001b[39;49m\u001b[43m(\u001b[49m\u001b[43mr\u001b[49m\u001b[43m)\u001b[49m\n",
      "\u001b[1;31mTypeError\u001b[0m: 'range' object is not an iterator"
     ]
    }
   ],
   "source": [
    "next(r)"
   ]
  },
  {
   "cell_type": "code",
   "execution_count": 26,
   "id": "50a479fb",
   "metadata": {},
   "outputs": [],
   "source": [
    "r=iter(r)"
   ]
  },
  {
   "cell_type": "code",
   "execution_count": 27,
   "id": "b148a819",
   "metadata": {},
   "outputs": [
    {
     "data": {
      "text/plain": [
       "0"
      ]
     },
     "execution_count": 27,
     "metadata": {},
     "output_type": "execute_result"
    }
   ],
   "source": [
    "next(r)"
   ]
  },
  {
   "cell_type": "markdown",
   "id": "65b2c62d",
   "metadata": {},
   "source": [
    "# Generator"
   ]
  },
  {
   "cell_type": "code",
   "execution_count": 29,
   "id": "9165af6b",
   "metadata": {},
   "outputs": [
    {
     "data": {
      "text/plain": [
       "[0, 2, 4, 6, 8, 10, 12, 14, 16, 18]"
      ]
     },
     "execution_count": 29,
     "metadata": {},
     "output_type": "execute_result"
    }
   ],
   "source": [
    "list(range(0,20,2))"
   ]
  },
  {
   "cell_type": "code",
   "execution_count": 37,
   "id": "61e3f01b",
   "metadata": {},
   "outputs": [],
   "source": [
    "def gencube(n):\n",
    "    l=[]\n",
    "    for i in range(n):\n",
    "        l.append(i**3)\n",
    "    return l"
   ]
  },
  {
   "cell_type": "code",
   "execution_count": 38,
   "id": "5ef3d9d3",
   "metadata": {},
   "outputs": [
    {
     "data": {
      "text/plain": [
       "[0, 1, 8, 27, 64, 125]"
      ]
     },
     "execution_count": 38,
     "metadata": {},
     "output_type": "execute_result"
    }
   ],
   "source": [
    "gencube(6)"
   ]
  },
  {
   "cell_type": "code",
   "execution_count": null,
   "id": "c261e505",
   "metadata": {},
   "outputs": [],
   "source": [
    "#range function is creating the data set and throwing the data into it's console and not waiting for fully outcome."
   ]
  },
  {
   "cell_type": "code",
   "execution_count": 42,
   "id": "9dd01e70",
   "metadata": {},
   "outputs": [],
   "source": [
    "def gencube(n):\n",
    "    \n",
    "    for i in range(n):\n",
    "        yield i**3  #yield is a operator which converts function as generator"
   ]
  },
  {
   "cell_type": "code",
   "execution_count": 43,
   "id": "0f06fb84",
   "metadata": {},
   "outputs": [
    {
     "data": {
      "text/plain": [
       "<generator object gencube at 0x000001A52FF2C120>"
      ]
     },
     "execution_count": 43,
     "metadata": {},
     "output_type": "execute_result"
    }
   ],
   "source": [
    "gencube(10)"
   ]
  },
  {
   "cell_type": "code",
   "execution_count": 45,
   "id": "95e717aa",
   "metadata": {},
   "outputs": [
    {
     "name": "stdout",
     "output_type": "stream",
     "text": [
      "0\n",
      "1\n",
      "8\n",
      "27\n",
      "64\n",
      "125\n",
      "216\n",
      "343\n",
      "512\n"
     ]
    }
   ],
   "source": [
    "for i in gencube(9):\n",
    "    print(i)"
   ]
  },
  {
   "cell_type": "code",
   "execution_count": 48,
   "id": "6a219efd",
   "metadata": {},
   "outputs": [],
   "source": [
    "#YIELD always help us out internally in terms of doing memory menagement.\n",
    "#With the help of this we can create our own function like range function.Overall it saves the memory consumption."
   ]
  },
  {
   "cell_type": "code",
   "execution_count": 53,
   "id": "84c52a45",
   "metadata": {},
   "outputs": [],
   "source": [
    "def fib(n):\n",
    "    a=1\n",
    "    b=1\n",
    "    for i in range(n):\n",
    "        yield a,i\n",
    "        a,b = b , a+b\n",
    "        "
   ]
  },
  {
   "cell_type": "code",
   "execution_count": 54,
   "id": "7f3e419d",
   "metadata": {},
   "outputs": [
    {
     "name": "stdout",
     "output_type": "stream",
     "text": [
      "(1, 0)\n",
      "(1, 1)\n",
      "(2, 2)\n",
      "(3, 3)\n",
      "(5, 4)\n",
      "(8, 5)\n",
      "(13, 6)\n",
      "(21, 7)\n",
      "(34, 8)\n",
      "(55, 9)\n"
     ]
    }
   ],
   "source": [
    "for i in fib(10):\n",
    "    print(i)"
   ]
  },
  {
   "cell_type": "code",
   "execution_count": 59,
   "id": "15bbf595",
   "metadata": {},
   "outputs": [],
   "source": [
    "def fib1(n):\n",
    "    a=1\n",
    "    b=1\n",
    "    output = []\n",
    "    for i in range(n):\n",
    "        output.append(a)\n",
    "        a,b = b , a+b\n",
    "    return output"
   ]
  },
  {
   "cell_type": "code",
   "execution_count": 61,
   "id": "f837a170",
   "metadata": {},
   "outputs": [
    {
     "data": {
      "text/plain": [
       "[1, 1, 2, 3, 5, 8, 13, 21, 34, 55]"
      ]
     },
     "execution_count": 61,
     "metadata": {},
     "output_type": "execute_result"
    }
   ],
   "source": [
    "fib1(10) #But it is a heavy memory operation"
   ]
  },
  {
   "cell_type": "code",
   "execution_count": 69,
   "id": "eeeeb09d",
   "metadata": {},
   "outputs": [],
   "source": [
    "def fib2(n):\n",
    "    a=0;\n",
    "    b=1;\n",
    "    for i in range(n):\n",
    "         print(type(print(a)))\n",
    "         a, b = b , a+b\n",
    "    \n",
    "       "
   ]
  },
  {
   "cell_type": "code",
   "execution_count": 70,
   "id": "bb9f6eb8",
   "metadata": {},
   "outputs": [
    {
     "name": "stdout",
     "output_type": "stream",
     "text": [
      "0\n",
      "<class 'NoneType'>\n",
      "1\n",
      "<class 'NoneType'>\n",
      "1\n",
      "<class 'NoneType'>\n",
      "2\n",
      "<class 'NoneType'>\n",
      "3\n",
      "<class 'NoneType'>\n",
      "5\n",
      "<class 'NoneType'>\n",
      "8\n",
      "<class 'NoneType'>\n",
      "13\n",
      "<class 'NoneType'>\n",
      "21\n",
      "<class 'NoneType'>\n",
      "34\n",
      "<class 'NoneType'>\n"
     ]
    }
   ],
   "source": [
    "fib2(10)"
   ]
  },
  {
   "cell_type": "markdown",
   "id": "9416632e",
   "metadata": {},
   "source": [
    "FILE SYSTEM"
   ]
  },
  {
   "cell_type": "code",
   "execution_count": 71,
   "id": "5ff89bef",
   "metadata": {},
   "outputs": [
    {
     "name": "stdout",
     "output_type": "stream",
     "text": [
      "something in console\n"
     ]
    }
   ],
   "source": [
    "print(\"something in console\")"
   ]
  },
  {
   "cell_type": "code",
   "execution_count": 89,
   "id": "903b47a7",
   "metadata": {},
   "outputs": [],
   "source": [
    "f = open(\"test.txt\",\"w\")"
   ]
  },
  {
   "cell_type": "code",
   "execution_count": 90,
   "id": "eca9685a",
   "metadata": {},
   "outputs": [
    {
     "data": {
      "text/plain": [
       "['In',\n",
       " 'Out',\n",
       " '_',\n",
       " '_16',\n",
       " '_17',\n",
       " '_18',\n",
       " '_19',\n",
       " '_20',\n",
       " '_22',\n",
       " '_27',\n",
       " '_28',\n",
       " '_29',\n",
       " '_33',\n",
       " '_35',\n",
       " '_36',\n",
       " '_38',\n",
       " '_4',\n",
       " '_41',\n",
       " '_43',\n",
       " '_5',\n",
       " '_6',\n",
       " '_60',\n",
       " '_61',\n",
       " '_7',\n",
       " '_73',\n",
       " '_77',\n",
       " '_78',\n",
       " '_8',\n",
       " '_81',\n",
       " '_83',\n",
       " '_86',\n",
       " '_88',\n",
       " '__',\n",
       " '___',\n",
       " '__builtin__',\n",
       " '__builtins__',\n",
       " '__doc__',\n",
       " '__loader__',\n",
       " '__name__',\n",
       " '__package__',\n",
       " '__spec__',\n",
       " '_dh',\n",
       " '_exit_code',\n",
       " '_i',\n",
       " '_i1',\n",
       " '_i10',\n",
       " '_i11',\n",
       " '_i12',\n",
       " '_i13',\n",
       " '_i14',\n",
       " '_i15',\n",
       " '_i16',\n",
       " '_i17',\n",
       " '_i18',\n",
       " '_i19',\n",
       " '_i2',\n",
       " '_i20',\n",
       " '_i21',\n",
       " '_i22',\n",
       " '_i23',\n",
       " '_i24',\n",
       " '_i25',\n",
       " '_i26',\n",
       " '_i27',\n",
       " '_i28',\n",
       " '_i29',\n",
       " '_i3',\n",
       " '_i30',\n",
       " '_i31',\n",
       " '_i32',\n",
       " '_i33',\n",
       " '_i34',\n",
       " '_i35',\n",
       " '_i36',\n",
       " '_i37',\n",
       " '_i38',\n",
       " '_i39',\n",
       " '_i4',\n",
       " '_i40',\n",
       " '_i41',\n",
       " '_i42',\n",
       " '_i43',\n",
       " '_i44',\n",
       " '_i45',\n",
       " '_i46',\n",
       " '_i47',\n",
       " '_i48',\n",
       " '_i49',\n",
       " '_i5',\n",
       " '_i50',\n",
       " '_i51',\n",
       " '_i52',\n",
       " '_i53',\n",
       " '_i54',\n",
       " '_i55',\n",
       " '_i56',\n",
       " '_i57',\n",
       " '_i58',\n",
       " '_i59',\n",
       " '_i6',\n",
       " '_i60',\n",
       " '_i61',\n",
       " '_i62',\n",
       " '_i63',\n",
       " '_i64',\n",
       " '_i65',\n",
       " '_i66',\n",
       " '_i67',\n",
       " '_i68',\n",
       " '_i69',\n",
       " '_i7',\n",
       " '_i70',\n",
       " '_i71',\n",
       " '_i72',\n",
       " '_i73',\n",
       " '_i74',\n",
       " '_i75',\n",
       " '_i76',\n",
       " '_i77',\n",
       " '_i78',\n",
       " '_i79',\n",
       " '_i8',\n",
       " '_i80',\n",
       " '_i81',\n",
       " '_i82',\n",
       " '_i83',\n",
       " '_i84',\n",
       " '_i85',\n",
       " '_i86',\n",
       " '_i87',\n",
       " '_i88',\n",
       " '_i89',\n",
       " '_i9',\n",
       " '_i90',\n",
       " '_ih',\n",
       " '_ii',\n",
       " '_iii',\n",
       " '_oh',\n",
       " 'a',\n",
       " 'exit',\n",
       " 'f',\n",
       " 'fib',\n",
       " 'fib1',\n",
       " 'fib2',\n",
       " 'fibn1',\n",
       " 'gencube',\n",
       " 'get_ipython',\n",
       " 'i',\n",
       " 'l',\n",
       " 'quit',\n",
       " 'r',\n",
       " 't']"
      ]
     },
     "execution_count": 90,
     "metadata": {},
     "output_type": "execute_result"
    }
   ],
   "source": [
    "dir() #if i am going to call dir (so it is give me current directiry)"
   ]
  },
  {
   "cell_type": "code",
   "execution_count": 91,
   "id": "0e8f6ee9",
   "metadata": {},
   "outputs": [
    {
     "name": "stdout",
     "output_type": "stream",
     "text": [
      " Volume in drive C is Windows"
     ]
    },
    {
     "name": "stderr",
     "output_type": "stream",
     "text": [
      "File Not Found\n"
     ]
    },
    {
     "name": "stdout",
     "output_type": "stream",
     "text": [
      "\n",
      " Volume Serial Number is 4085-8304\n",
      "\n",
      " Directory of C:\\Users\\ABHI\n",
      "\n",
      "\n",
      " Directory of C:\\Users\\ABHI\n",
      "\n",
      "\n",
      " Directory of C:\\Users\\ABHI\n",
      "\n",
      "\n",
      " Directory of C:\\Users\\ABHI\n",
      "\n",
      "\n",
      " Directory of C:\\Users\\ABHI\n",
      "\n",
      "\n",
      " Directory of C:\\Users\\ABHI\n",
      "\n",
      "\n",
      " Directory of C:\\Users\\ABHI\n",
      "\n",
      "\n",
      " Directory of C:\\Users\\ABHI\n",
      "\n",
      "\n",
      " Directory of C:\\Users\\ABHI\n",
      "\n",
      "\n",
      " Directory of C:\\Users\\ABHI\n",
      "\n",
      "\n",
      " Directory of C:\\Users\\ABHI\n",
      "\n",
      "\n",
      " Directory of C:\\Users\\ABHI\n",
      "\n",
      "\n",
      " Directory of C:\\Users\\ABHI\n",
      "\n",
      "\n",
      " Directory of C:\\Users\\ABHI\n",
      "\n",
      "\n",
      " Directory of C:\\Users\\ABHI\n",
      "\n",
      "\n",
      " Directory of C:\\Users\\ABHI\n",
      "\n",
      "\n",
      " Directory of C:\\Users\\ABHI\n",
      "\n",
      "\n",
      " Directory of C:\\Users\\ABHI\n",
      "\n",
      "\n",
      " Directory of C:\\Users\\ABHI\n",
      "\n",
      "\n",
      " Directory of C:\\Users\\ABHI\n",
      "\n",
      "\n",
      " Directory of C:\\Users\\ABHI\n",
      "\n"
     ]
    }
   ],
   "source": [
    "%ls #if i am going to call ls (it will give all the  list which is available in my current dirctory )"
   ]
  },
  {
   "cell_type": "code",
   "execution_count": 92,
   "id": "e5d94e94",
   "metadata": {},
   "outputs": [
    {
     "data": {
      "text/plain": [
       "'C:\\\\Users\\\\ABHI'"
      ]
     },
     "execution_count": 92,
     "metadata": {},
     "output_type": "execute_result"
    }
   ],
   "source": [
    "pwd() # it gives us present in which i am weorking"
   ]
  },
  {
   "cell_type": "code",
   "execution_count": 102,
   "id": "b2bc4ab3",
   "metadata": {},
   "outputs": [],
   "source": [
    "f = open(\"test.txt\",\"w\")"
   ]
  },
  {
   "cell_type": "code",
   "execution_count": 103,
   "id": "78ec265d",
   "metadata": {},
   "outputs": [
    {
     "data": {
      "text/plain": [
       "61"
      ]
     },
     "execution_count": 103,
     "metadata": {},
     "output_type": "execute_result"
    }
   ],
   "source": [
    "f.write(\"this is my first file operationt to something in my test2.txt\")"
   ]
  },
  {
   "cell_type": "code",
   "execution_count": 104,
   "id": "e85d91c4",
   "metadata": {},
   "outputs": [],
   "source": [
    "f.close()"
   ]
  },
  {
   "cell_type": "code",
   "execution_count": 105,
   "id": "6f2fca17",
   "metadata": {},
   "outputs": [
    {
     "name": "stdout",
     "output_type": "stream",
     "text": [
      "Writing test2.txt\n"
     ]
    }
   ],
   "source": [
    "%%writefile test2.txt\n",
    "this is a data i would like to store in my file"
   ]
  },
  {
   "cell_type": "code",
   "execution_count": 106,
   "id": "02bd1cf7",
   "metadata": {},
   "outputs": [
    {
     "name": "stdout",
     "output_type": "stream",
     "text": [
      " Volume in drive C is Windows\n",
      " Volume Serial Number is 4085-8304\n",
      "\n",
      " Directory of C:\\Users\\ABHI\n",
      "\n",
      "04/21/2023  07:17 AM    <DIR>          .\n",
      "04/21/2023  07:17 AM    <DIR>          ..\n",
      "03/04/2022  08:42 AM    <DIR>          .atom\n",
      "01/09/2023  04:10 AM                 6 .bash_history\n",
      "02/23/2023  10:24 PM    <DIR>          .conda\n",
      "07/14/2022  09:40 PM                25 .condarc\n",
      "07/14/2022  09:39 PM    <DIR>          .continuum\n",
      "10/18/2021  12:02 PM    <DIR>          .eclipse\n",
      "03/26/2023  04:06 AM                53 .git-for-windows-updater\n",
      "04/21/2023  03:04 AM    <DIR>          .ipynb_checkpoints\n",
      "07/14/2022  09:42 PM    <DIR>          .ipython\n",
      "02/23/2023  11:29 AM    <DIR>          .jupyter\n",
      "03/24/2022  01:53 AM    <DIR>          .m2\n",
      "02/23/2023  11:28 AM    <DIR>          .matplotlib\n",
      "03/23/2022  11:58 PM    <DIR>          .tooling\n",
      "03/17/2022  04:36 AM    <DIR>          .vscode\n",
      "02/06/2022  09:41 PM    <DIR>          3D Objects\n",
      "07/14/2022  09:35 PM    <DIR>          anaconda3\n",
      "02/06/2022  09:41 PM    <DIR>          Contacts\n",
      "04/09/2023  09:37 AM    <DIR>          Desktop\n",
      "07/14/2022  09:35 PM    <DIR>          Documents\n",
      "04/20/2023  12:32 AM    <DIR>          Downloads\n",
      "02/06/2022  09:41 PM    <DIR>          Favorites\n",
      "07/15/2022  12:51 AM             2,620 First_program.ipynb\n",
      "03/03/2023  01:44 AM            24,083 For Loops While Loops.ipynb\n",
      "03/05/2023  06:11 AM            15,166 Function 1.ipynb\n",
      "03/06/2023  03:00 AM            32,057 Functions 2.ipynb\n",
      "08/06/2022  11:46 PM               860 functions using list and string .ipynb\n",
      "08/14/2022  09:34 AM            29,407 Functions.ipynb\n",
      "02/25/2023  12:43 PM            14,577 If ,Else & For Loop.ipynb\n",
      "04/21/2023  07:16 AM            21,314 ITERATOR GENERATOR FILE SYSTEM.ipynb\n",
      "08/11/2022  01:59 AM            10,483 lecture 3.ipynb\n",
      "02/06/2022  09:41 PM    <DIR>          Links\n",
      "07/27/2022  06:06 AM             6,739 LIST.ipynb\n",
      "08/02/2022  11:59 PM               589 list1.ipynb\n",
      "08/04/2022  12:11 AM               589 Loops.ipynb\n",
      "02/06/2022  09:41 PM    <DIR>          Music\n",
      "02/26/2023  02:32 PM             1,531 My Cosmetics.ipynb\n",
      "01/21/2022  04:56 AM    <DIR>          OneDrive\n",
      "08/13/2022  04:01 AM            10,586 Patterns.ipynb\n",
      "02/06/2022  09:41 PM    <DIR>          Pictures\n",
      "03/24/2022  01:14 AM    <DIR>          Postman\n",
      "04/19/2023  12:05 AM             5,948 PYTHON BASICS ASSIGNMENT 1.ipynb\n",
      "04/20/2023  12:32 AM            10,721 PYTHON BASICS ASSIGNMENT 2.ipynb\n",
      "02/23/2023  06:14 AM            15,972 Python Basics.ipynb\n",
      "08/10/2022  01:48 AM               646 python numbers.ipynb\n",
      "03/04/2023  03:48 AM             6,515 Python Program Discussion In Loops  .ipynb\n",
      "03/04/2023  06:02 AM             9,589 Python Program Discussion In Loops.ipynb\n",
      "02/06/2022  09:41 PM    <DIR>          Saved Games\n",
      "02/06/2022  09:41 PM    <DIR>          Searches\n",
      "07/14/2022  09:51 PM               916 second_program.ipynb\n",
      "08/15/2022  04:27 AM            26,965 sets.ipynb\n",
      "02/23/2023  11:33 AM               718 String ,Lists ,Indexing .ipynb\n",
      "02/24/2023  03:38 AM            43,911 String ,Lists ,Indexing.ipynb\n",
      "04/21/2023  07:14 AM                61 test.txt\n",
      "04/21/2023  07:17 AM                49 test2.txt\n",
      "02/25/2023  03:05 AM            40,003 Tuple ,Set & Dict.ipynb\n",
      "07/16/2022  01:30 AM             1,175 Untitled.ipynb\n",
      "07/17/2022  11:38 AM               589 Untitled1.ipynb\n",
      "02/23/2023  11:23 AM               589 Untitled10.ipynb\n",
      "02/23/2023  11:43 AM                72 Untitled11.ipynb\n",
      "02/23/2023  11:30 AM                72 Untitled12.ipynb\n",
      "04/20/2023  02:55 AM               589 Untitled13.ipynb\n",
      "07/28/2022  01:58 AM               589 Untitled2.ipynb\n",
      "08/13/2022  08:18 AM            10,010 Untitled3.ipynb\n",
      "08/14/2022  05:04 AM            40,575 Untitled4.ipynb\n",
      "09/05/2022  03:04 AM               589 Untitled5.ipynb\n",
      "09/10/2022  10:13 PM               589 Untitled6.ipynb\n",
      "09/23/2022  12:19 AM               589 Untitled7.ipynb\n",
      "02/22/2023  01:56 AM               589 Untitled8.ipynb\n",
      "02/23/2023  11:19 AM               589 Untitled9.ipynb\n",
      "03/29/2022  07:32 AM    <DIR>          Videos\n",
      "09/11/2022  05:25 AM         9,192,878 working with files.ipynb\n",
      "              45 File(s)      9,582,782 bytes\n",
      "              28 Dir(s)  68,170,989,568 bytes free\n"
     ]
    }
   ],
   "source": [
    "%ls"
   ]
  },
  {
   "cell_type": "code",
   "execution_count": 111,
   "id": "bb471659",
   "metadata": {},
   "outputs": [],
   "source": [
    "f = open(\"test.txt\")"
   ]
  },
  {
   "cell_type": "code",
   "execution_count": 112,
   "id": "423ae2af",
   "metadata": {},
   "outputs": [
    {
     "data": {
      "text/plain": [
       "'this is my first file operationt to something in my test2.txt'"
      ]
     },
     "execution_count": 112,
     "metadata": {},
     "output_type": "execute_result"
    }
   ],
   "source": [
    "f.read()# with help of this we can see my file text directly from here itself no need to open file exclusively"
   ]
  },
  {
   "cell_type": "code",
   "execution_count": 113,
   "id": "eb5ec749",
   "metadata": {},
   "outputs": [
    {
     "ename": "UnsupportedOperation",
     "evalue": "not writable",
     "output_type": "error",
     "traceback": [
      "\u001b[1;31m---------------------------------------------------------------------------\u001b[0m",
      "\u001b[1;31mUnsupportedOperation\u001b[0m                      Traceback (most recent call last)",
      "Input \u001b[1;32mIn [113]\u001b[0m, in \u001b[0;36m<cell line: 1>\u001b[1;34m()\u001b[0m\n\u001b[1;32m----> 1\u001b[0m \u001b[43mf\u001b[49m\u001b[38;5;241;43m.\u001b[39;49m\u001b[43mwrite\u001b[49m\u001b[43m(\u001b[49m\u001b[38;5;124;43m\"\u001b[39;49m\u001b[38;5;124;43mthis is in read mode\u001b[39;49m\u001b[38;5;124;43m\"\u001b[39;49m\u001b[43m)\u001b[49m\n",
      "\u001b[1;31mUnsupportedOperation\u001b[0m: not writable"
     ]
    }
   ],
   "source": [
    "f.write(\"this is in read mode\")"
   ]
  },
  {
   "cell_type": "code",
   "execution_count": 114,
   "id": "cff80e7e",
   "metadata": {},
   "outputs": [
    {
     "data": {
      "text/plain": [
       "''"
      ]
     },
     "execution_count": 114,
     "metadata": {},
     "output_type": "execute_result"
    }
   ],
   "source": [
    "f.read() # the cursor moves to the end of line that's why it gives empty "
   ]
  },
  {
   "cell_type": "code",
   "execution_count": 115,
   "id": "4302383c",
   "metadata": {},
   "outputs": [],
   "source": [
    "#how to reset my cursor"
   ]
  },
  {
   "cell_type": "code",
   "execution_count": 116,
   "id": "d3e161d2",
   "metadata": {},
   "outputs": [
    {
     "data": {
      "text/plain": [
       "5"
      ]
     },
     "execution_count": 116,
     "metadata": {},
     "output_type": "execute_result"
    }
   ],
   "source": [
    "f.seek(5)"
   ]
  },
  {
   "cell_type": "code",
   "execution_count": 117,
   "id": "f4ccb8a1",
   "metadata": {},
   "outputs": [
    {
     "data": {
      "text/plain": [
       "'is my first file operationt to something in my test2.txt'"
      ]
     },
     "execution_count": 117,
     "metadata": {},
     "output_type": "execute_result"
    }
   ],
   "source": [
    "f.read()"
   ]
  },
  {
   "cell_type": "code",
   "execution_count": 118,
   "id": "a956a684",
   "metadata": {},
   "outputs": [
    {
     "data": {
      "text/plain": [
       "0"
      ]
     },
     "execution_count": 118,
     "metadata": {},
     "output_type": "execute_result"
    }
   ],
   "source": [
    "f.seek(0)"
   ]
  },
  {
   "cell_type": "code",
   "execution_count": 119,
   "id": "cd71d59c",
   "metadata": {},
   "outputs": [
    {
     "data": {
      "text/plain": [
       "'this is my first file operationt to something in my test2.txt'"
      ]
     },
     "execution_count": 119,
     "metadata": {},
     "output_type": "execute_result"
    }
   ],
   "source": [
    "f.read()"
   ]
  },
  {
   "cell_type": "code",
   "execution_count": 120,
   "id": "4baa4bdf",
   "metadata": {},
   "outputs": [],
   "source": [
    "#if we want to know that our cursor is at what position"
   ]
  },
  {
   "cell_type": "code",
   "execution_count": 121,
   "id": "2a0c629f",
   "metadata": {},
   "outputs": [
    {
     "data": {
      "text/plain": [
       "61"
      ]
     },
     "execution_count": 121,
     "metadata": {},
     "output_type": "execute_result"
    }
   ],
   "source": [
    "f.tell()"
   ]
  },
  {
   "cell_type": "code",
   "execution_count": 122,
   "id": "71885351",
   "metadata": {},
   "outputs": [
    {
     "data": {
      "text/plain": [
       "5"
      ]
     },
     "execution_count": 122,
     "metadata": {},
     "output_type": "execute_result"
    }
   ],
   "source": [
    "f.seek(5)"
   ]
  },
  {
   "cell_type": "code",
   "execution_count": 123,
   "id": "5b552788",
   "metadata": {},
   "outputs": [
    {
     "data": {
      "text/plain": [
       "5"
      ]
     },
     "execution_count": 123,
     "metadata": {},
     "output_type": "execute_result"
    }
   ],
   "source": [
    "f.tell()"
   ]
  },
  {
   "cell_type": "code",
   "execution_count": 124,
   "id": "0e00d74b",
   "metadata": {},
   "outputs": [],
   "source": [
    "f.close()"
   ]
  },
  {
   "cell_type": "code",
   "execution_count": 127,
   "id": "1f4c10e3",
   "metadata": {},
   "outputs": [],
   "source": [
    "f = open(\"test.txt\" , \"r+\")"
   ]
  },
  {
   "cell_type": "code",
   "execution_count": 128,
   "id": "e9e45fea",
   "metadata": {},
   "outputs": [
    {
     "data": {
      "text/plain": [
       "'this is my first file operationt to something in my test2.txt'"
      ]
     },
     "execution_count": 128,
     "metadata": {},
     "output_type": "execute_result"
    }
   ],
   "source": [
    "f.read()"
   ]
  },
  {
   "cell_type": "code",
   "execution_count": 129,
   "id": "852b7ed2",
   "metadata": {},
   "outputs": [
    {
     "data": {
      "text/plain": [
       "''"
      ]
     },
     "execution_count": 129,
     "metadata": {},
     "output_type": "execute_result"
    }
   ],
   "source": [
    "f.readline()"
   ]
  },
  {
   "cell_type": "code",
   "execution_count": 130,
   "id": "4615828b",
   "metadata": {},
   "outputs": [
    {
     "data": {
      "text/plain": [
       "61"
      ]
     },
     "execution_count": 130,
     "metadata": {},
     "output_type": "execute_result"
    }
   ],
   "source": [
    "f.tell()"
   ]
  },
  {
   "cell_type": "code",
   "execution_count": 131,
   "id": "582ca3a1",
   "metadata": {},
   "outputs": [
    {
     "data": {
      "text/plain": [
       "0"
      ]
     },
     "execution_count": 131,
     "metadata": {},
     "output_type": "execute_result"
    }
   ],
   "source": [
    "f.seek(0)"
   ]
  },
  {
   "cell_type": "code",
   "execution_count": 132,
   "id": "0c33d2f9",
   "metadata": {},
   "outputs": [
    {
     "data": {
      "text/plain": [
       "'this is my first file operationt to something in my test2.txt'"
      ]
     },
     "execution_count": 132,
     "metadata": {},
     "output_type": "execute_result"
    }
   ],
   "source": [
    "f.readline()"
   ]
  },
  {
   "cell_type": "code",
   "execution_count": 136,
   "id": "f8403fb4",
   "metadata": {},
   "outputs": [
    {
     "data": {
      "text/plain": [
       "'here is to some changesa from our side.'"
      ]
     },
     "execution_count": 136,
     "metadata": {},
     "output_type": "execute_result"
    }
   ],
   "source": [
    "f.readline()"
   ]
  },
  {
   "cell_type": "code",
   "execution_count": 137,
   "id": "9a4cfb49",
   "metadata": {},
   "outputs": [],
   "source": [
    "#read for whole text and readline is for line by line"
   ]
  },
  {
   "cell_type": "code",
   "execution_count": 143,
   "id": "d0aa5633",
   "metadata": {},
   "outputs": [],
   "source": [
    "f = open('google.txt', \"w\")"
   ]
  },
  {
   "cell_type": "code",
   "execution_count": 155,
   "id": "85c60ee7",
   "metadata": {},
   "outputs": [
    {
     "data": {
      "text/plain": [
       "3174"
      ]
     },
     "execution_count": 155,
     "metadata": {},
     "output_type": "execute_result"
    }
   ],
   "source": [
    "f.write(\"\"\"Google LLC  is an American multinational technology company focusing on online advertising, search engine technology, cloud computing, computer software, quantum computing, e-commerce, artificial intelligence,[9] and consumer electronics. It has been referred to as \"the most powerful company in the world\"[10] and one of the world's most valuable brands due to its market dominance, data collection, and technological advantages in the area of artificial intelligence.[11][12][13] Its parent company Alphabet is considered one of the Big Five American information technology companies, alongside Amazon, Apple, Meta, and Microsoft.\n",
    "\n",
    "Google was founded on September 4, 1998, by computer scientists Larry Page and Sergey Brin while they were PhD students at Stanford University in California. Together they own about 14% of its publicly listed shares and control 56% of its stockholder voting power through super-voting stock. The company went public via an initial public offering (IPO) in 2004. In 2015, Google was reorganized as a wholly owned subsidiary of Alphabet Inc. Google is Alphabet's largest subsidiary and is a holding company for Alphabet's internet properties and interests. Sundar Pichai was appointed CEO of Google on October 24, 2015, replacing Larry Page, who became the CEO of Alphabet. On December 3, 2019, Pichai also became the CEO of Alphabet.[14]\n",
    "\n",
    "The company has since rapidly grown to offer a multitude of products and services beyond Google Search, many of which hold dominant market positions. These products address a wide range of use cases, including email (Gmail), navigation (Waze & Maps), cloud computing (Cloud), web browsing (Chrome), video sharing (YouTube), productivity (Workspace), operating systems (Android), cloud storage (Drive), language translation (Translate), photo storage (Photos), video calling (Meet), smart home (Nest), smartphones (Pixel), wearable technology (Pixel Watch & Fitbit), music streaming (YouTube Music), video on demand (YouTube TV), artificial intelligence (Google Assistant), machine learning APIs (TensorFlow), AI chips (TPU), and more. Discontinued Google products include gaming (Stadia), Glass, Google+, Reader, Play Music, Nexus, Hangouts, and Inbox by Gmail.[15][16]\n",
    "\n",
    "Google's other ventures outside of Internet services and consumer electronics include quantum computing (Sycamore), self-driving cars (Waymo, formerly the Google Self-Driving Car Project), smart cities (Sidewalk Labs), and transformer models (Google Brain).[17]\n",
    "\n",
    "Google and YouTube are the two most visited websites worldwide followed by Facebook and Twitter. Google is also the largest search engine, mapping and navigation application, email provider, office suite, video sharing platform, photo and cloud storage provider, mobile operating system, web browser, ML framework, and AI virtual assistant provider in the world as measured by market share. On the list of most valuable brands, Google is ranked second by Forbes[18] and fourth by Interbrand.[19] It has received significant criticism involving issues such as privacy concerns, tax avoidance, censorship, search neutrality, antitrust and abuse of its monopoly position.\"\"\")"
   ]
  },
  {
   "cell_type": "code",
   "execution_count": 156,
   "id": "dc7d93d9",
   "metadata": {},
   "outputs": [],
   "source": [
    "f.close()"
   ]
  },
  {
   "cell_type": "code",
   "execution_count": 157,
   "id": "ba080c96",
   "metadata": {},
   "outputs": [],
   "source": [
    "f = open(\"google.txt\" , \"r+\")"
   ]
  },
  {
   "cell_type": "code",
   "execution_count": 158,
   "id": "08c29528",
   "metadata": {},
   "outputs": [
    {
     "data": {
      "text/plain": [
       "'Google was founded on September 4, 1998, by computer scientists Larry Page and Sergey Brin while they were PhD students at Stanford University in California. Together they own about 14% of its publicly listed shares and control 56% of its stockholder voting power through super-voting stock. The company went public via an initial public offering (IPO) in 2004. In 2015, Google was reorganized as a wholly owned subsidiary of Alphabet Inc. Google is Alphabet\\'s largest subsidiary and is a holding company for Alphabet\\'s internet properties and interests. Sundar Pichai was appointed CEO of Google on October 24, 2015, replacing Larry Page, who became the CEO of Alphabet. On December 3, 2019, Pichai also became the CEO of Alphabet.Google was founded on September 4, 1998, by computer scientists Larry Page and Sergey Brin while they were PhD students at Stanford University in California. Together they own about 14% of its publicly listed shares and control 56% of its stockholder voting power through super-voting stock. The company went public via an initial public offering (IPO) in 2004. In 2015, Google was reorganized as a wholly owned subsidiary of Alphabet Inc. Google is Alphabet\\'s largest subsidiary and is a holding company for Alphabet\\'s internet properties and interests. Sundar Pichai was appointed CEO of Google on October 24, 2015, replacing Larry Page, who became the CEO of Alphabet. On December 3, 2019, Pichai also became the CEO of Alphabet.The company has since rapidly grown to offer a multitude of products and services beyond Google Search, many of which hold dominant market positions. These products address a wide range of use cases, including email (Gmail), navigation (Waze & Maps), cloud computing (Cloud), web browsing (Chrome), video sharing (YouTube), productivity (Workspace), operating systems (Android), cloud storage (Drive), language translation (Translate), photo storage (Photos), video calling (Meet), smart home (Nest), smartphones (Pixel), wearable technology (Pixel Watch & Fitbit), music streaming (YouTube Music), video on demand (YouTube TV), artificial intelligence (Google Assistant), machine learning APIs (TensorFlow), AI chips (TPU), and more. Discontinued Google products include gaming (Stadia), Glass, Google+, Reader, Play Music, Nexus, Hangouts, and Inbox by Gmail.Google\\'s other ventures outside of Internet services and consumer electronics include quantum computing (Sycamore), self-driving cars (Waymo, formerly the Google Self-Driving Car Project), smart cities (Sidewalk Labs), and transformer models (Google Brain).Google and YouTube are the two most visited websites worldwide followed by Facebook and Twitter. Google is also the largest search engine, mapping and navigation application, email provider, office suite, video sharing platform, photo and cloud storage provider, mobile operating system, web browser, ML framework, and AI virtual assistant provider in the world as measured by market share. On the list of most valuable brands, Google is ranked second by Forbes[18] and fourth by Interbrand.[19] It has received significant criticism involving issues such as privacy concerns, tax avoidance, censorship, search neutrality, antitrust and abuse of its monopoly position.Google LLC  is an American multinational technology company focusing on online advertising, search engine technology, cloud computing, computer software, quantum computing, e-commerce, artificial intelligence,[9] and consumer electronics. It has been referred to as \"the most powerful company in the world\"[10] and one of the world\\'s most valuable brands due to its market dominance, data collection, and technological advantages in the area of artificial intelligence.[11][12][13] Its parent company Alphabet is considered one of the Big Five American information technology companies, alongside Amazon, Apple, Meta, and Microsoft.\\n\\nGoogle was founded on September 4, 1998, by computer scientists Larry Page and Sergey Brin while they were PhD students at Stanford University in California. Together they own about 14% of its publicly listed shares and control 56% of its stockholder voting power through super-voting stock. The company went public via an initial public offering (IPO) in 2004. In 2015, Google was reorganized as a wholly owned subsidiary of Alphabet Inc. Google is Alphabet\\'s largest subsidiary and is a holding company for Alphabet\\'s internet properties and interests. Sundar Pichai was appointed CEO of Google on October 24, 2015, replacing Larry Page, who became the CEO of Alphabet. On December 3, 2019, Pichai also became the CEO of Alphabet.[14]\\n\\nThe company has since rapidly grown to offer a multitude of products and services beyond Google Search, many of which hold dominant market positions. These products address a wide range of use cases, including email (Gmail), navigation (Waze & Maps), cloud computing (Cloud), web browsing (Chrome), video sharing (YouTube), productivity (Workspace), operating systems (Android), cloud storage (Drive), language translation (Translate), photo storage (Photos), video calling (Meet), smart home (Nest), smartphones (Pixel), wearable technology (Pixel Watch & Fitbit), music streaming (YouTube Music), video on demand (YouTube TV), artificial intelligence (Google Assistant), machine learning APIs (TensorFlow), AI chips (TPU), and more. Discontinued Google products include gaming (Stadia), Glass, Google+, Reader, Play Music, Nexus, Hangouts, and Inbox by Gmail.[15][16]\\n\\nGoogle\\'s other ventures outside of Internet services and consumer electronics include quantum computing (Sycamore), self-driving cars (Waymo, formerly the Google Self-Driving Car Project), smart cities (Sidewalk Labs), and transformer models (Google Brain).[17]\\n\\nGoogle and YouTube are the two most visited websites worldwide followed by Facebook and Twitter. Google is also the largest search engine, mapping and navigation application, email provider, office suite, video sharing platform, photo and cloud storage provider, mobile operating system, web browser, ML framework, and AI virtual assistant provider in the world as measured by market share. On the list of most valuable brands, Google is ranked second by Forbes[18] and fourth by Interbrand.[19] It has received significant criticism involving issues such as privacy concerns, tax avoidance, censorship, search neutrality, antitrust and abuse of its monopoly position.'"
      ]
     },
     "execution_count": 158,
     "metadata": {},
     "output_type": "execute_result"
    }
   ],
   "source": [
    "f.read()"
   ]
  },
  {
   "cell_type": "code",
   "execution_count": 159,
   "id": "b3c8cec8",
   "metadata": {},
   "outputs": [
    {
     "data": {
      "text/plain": [
       "0"
      ]
     },
     "execution_count": 159,
     "metadata": {},
     "output_type": "execute_result"
    }
   ],
   "source": [
    "f.seek(0)"
   ]
  },
  {
   "cell_type": "code",
   "execution_count": 160,
   "id": "a7bc5814",
   "metadata": {},
   "outputs": [
    {
     "data": {
      "text/plain": [
       "'Google was founded on September 4, 1998, by computer scientists Larry Page and Sergey Brin while they were PhD students at Stanford University in California. Together they own about 14% of its publicly listed shares and control 56% of its stockholder voting power through super-voting stock. The company went public via an initial public offering (IPO) in 2004. In 2015, Google was reorganized as a wholly owned subsidiary of Alphabet Inc. Google is Alphabet\\'s largest subsidiary and is a holding company for Alphabet\\'s internet properties and interests. Sundar Pichai was appointed CEO of Google on October 24, 2015, replacing Larry Page, who became the CEO of Alphabet. On December 3, 2019, Pichai also became the CEO of Alphabet.Google was founded on September 4, 1998, by computer scientists Larry Page and Sergey Brin while they were PhD students at Stanford University in California. Together they own about 14% of its publicly listed shares and control 56% of its stockholder voting power through super-voting stock. The company went public via an initial public offering (IPO) in 2004. In 2015, Google was reorganized as a wholly owned subsidiary of Alphabet Inc. Google is Alphabet\\'s largest subsidiary and is a holding company for Alphabet\\'s internet properties and interests. Sundar Pichai was appointed CEO of Google on October 24, 2015, replacing Larry Page, who became the CEO of Alphabet. On December 3, 2019, Pichai also became the CEO of Alphabet.The company has since rapidly grown to offer a multitude of products and services beyond Google Search, many of which hold dominant market positions. These products address a wide range of use cases, including email (Gmail), navigation (Waze & Maps), cloud computing (Cloud), web browsing (Chrome), video sharing (YouTube), productivity (Workspace), operating systems (Android), cloud storage (Drive), language translation (Translate), photo storage (Photos), video calling (Meet), smart home (Nest), smartphones (Pixel), wearable technology (Pixel Watch & Fitbit), music streaming (YouTube Music), video on demand (YouTube TV), artificial intelligence (Google Assistant), machine learning APIs (TensorFlow), AI chips (TPU), and more. Discontinued Google products include gaming (Stadia), Glass, Google+, Reader, Play Music, Nexus, Hangouts, and Inbox by Gmail.Google\\'s other ventures outside of Internet services and consumer electronics include quantum computing (Sycamore), self-driving cars (Waymo, formerly the Google Self-Driving Car Project), smart cities (Sidewalk Labs), and transformer models (Google Brain).Google and YouTube are the two most visited websites worldwide followed by Facebook and Twitter. Google is also the largest search engine, mapping and navigation application, email provider, office suite, video sharing platform, photo and cloud storage provider, mobile operating system, web browser, ML framework, and AI virtual assistant provider in the world as measured by market share. On the list of most valuable brands, Google is ranked second by Forbes[18] and fourth by Interbrand.[19] It has received significant criticism involving issues such as privacy concerns, tax avoidance, censorship, search neutrality, antitrust and abuse of its monopoly position.Google LLC  is an American multinational technology company focusing on online advertising, search engine technology, cloud computing, computer software, quantum computing, e-commerce, artificial intelligence,[9] and consumer electronics. It has been referred to as \"the most powerful company in the world\"[10] and one of the world\\'s most valuable brands due to its market dominance, data collection, and technological advantages in the area of artificial intelligence.[11][12][13] Its parent company Alphabet is considered one of the Big Five American information technology companies, alongside Amazon, Apple, Meta, and Microsoft.\\n'"
      ]
     },
     "execution_count": 160,
     "metadata": {},
     "output_type": "execute_result"
    }
   ],
   "source": [
    "f.readline()"
   ]
  },
  {
   "cell_type": "code",
   "execution_count": 161,
   "id": "4f0a9746",
   "metadata": {},
   "outputs": [
    {
     "data": {
      "text/plain": [
       "'\\n'"
      ]
     },
     "execution_count": 161,
     "metadata": {},
     "output_type": "execute_result"
    }
   ],
   "source": [
    "f.readline()"
   ]
  },
  {
   "cell_type": "code",
   "execution_count": 162,
   "id": "6f66930b",
   "metadata": {},
   "outputs": [
    {
     "data": {
      "text/plain": [
       "\"Google was founded on September 4, 1998, by computer scientists Larry Page and Sergey Brin while they were PhD students at Stanford University in California. Together they own about 14% of its publicly listed shares and control 56% of its stockholder voting power through super-voting stock. The company went public via an initial public offering (IPO) in 2004. In 2015, Google was reorganized as a wholly owned subsidiary of Alphabet Inc. Google is Alphabet's largest subsidiary and is a holding company for Alphabet's internet properties and interests. Sundar Pichai was appointed CEO of Google on October 24, 2015, replacing Larry Page, who became the CEO of Alphabet. On December 3, 2019, Pichai also became the CEO of Alphabet.[14]\\n\""
      ]
     },
     "execution_count": 162,
     "metadata": {},
     "output_type": "execute_result"
    }
   ],
   "source": [
    "f.readline()"
   ]
  },
  {
   "cell_type": "code",
   "execution_count": 163,
   "id": "6a35ac7c",
   "metadata": {},
   "outputs": [
    {
     "data": {
      "text/plain": [
       "'\\n'"
      ]
     },
     "execution_count": 163,
     "metadata": {},
     "output_type": "execute_result"
    }
   ],
   "source": [
    "f.readline()"
   ]
  },
  {
   "cell_type": "code",
   "execution_count": 164,
   "id": "246e9871",
   "metadata": {},
   "outputs": [
    {
     "data": {
      "text/plain": [
       "'The company has since rapidly grown to offer a multitude of products and services beyond Google Search, many of which hold dominant market positions. These products address a wide range of use cases, including email (Gmail), navigation (Waze & Maps), cloud computing (Cloud), web browsing (Chrome), video sharing (YouTube), productivity (Workspace), operating systems (Android), cloud storage (Drive), language translation (Translate), photo storage (Photos), video calling (Meet), smart home (Nest), smartphones (Pixel), wearable technology (Pixel Watch & Fitbit), music streaming (YouTube Music), video on demand (YouTube TV), artificial intelligence (Google Assistant), machine learning APIs (TensorFlow), AI chips (TPU), and more. Discontinued Google products include gaming (Stadia), Glass, Google+, Reader, Play Music, Nexus, Hangouts, and Inbox by Gmail.[15][16]\\n'"
      ]
     },
     "execution_count": 164,
     "metadata": {},
     "output_type": "execute_result"
    }
   ],
   "source": [
    "f.readline()"
   ]
  },
  {
   "cell_type": "code",
   "execution_count": 165,
   "id": "babf3737",
   "metadata": {},
   "outputs": [],
   "source": [
    "f.close()"
   ]
  },
  {
   "cell_type": "code",
   "execution_count": 217,
   "id": "d8e46969",
   "metadata": {},
   "outputs": [
    {
     "name": "stdout",
     "output_type": "stream",
     "text": [
      "GooglThis is my file write op at 5th locationomputer scientists Larry Page and Sergey Brin while they were PhD students at Stanford University in California. Together they own about 14% of its publicly listed shares and control 56% of its stockholder voting power through super-voting stock. The company went public via an initial public offering (IPO) in 2004. In 2015, Google was reorganized as a wholly owned subsidiary of Alphabet Inc. Google is Alphabet's largest subsidiary and is a holding company for Alphabet's internet properties and interests. Sundar Pichai was appointed CEO of Google on October 24, 2015, replacing Larry Page, who became the CEO of Alphabet. On December 3, 2019, Pichai also became the CEO of Alphabet.Google was founded on September 4, 1998, by computer scientists Larry Page and Sergey Brin while they were PhD students at Stanford University in California. Together they own about 14% of its publicly listed shares and control 56% of its stockholder voting power through super-voting stock. The company went public via an initial public offering (IPO) in 2004. In 2015, Google was reorganized as a wholly owned subsidiary of Alphabet Inc. Google is Alphabet's largest subsidiary and is a holding company for Alphabet's internet properties and interests. Sundar Pichai was appointed CEO of Google on October 24, 2015, replacing Larry Page, who became the CEO of Alphabet. On December 3, 2019, Pichai also became the CEO of Alphabet.The company has since rapidly grown to offer a multitude of products and services beyond Google Search, many of which hold dominant market positions. These products address a wide range of use cases, including email (Gmail), navigation (Waze & Maps), cloud computing (Cloud), web browsing (Chrome), video sharing (YouTube), productivity (Workspace), operating systems (Android), cloud storage (Drive), language translation (Translate), photo storage (Photos), video calling (Meet), smart home (Nest), smartphones (Pixel), wearable technology (Pixel Watch & Fitbit), music streaming (YouTube Music), video on demand (YouTube TV), artificial intelligence (Google Assistant), machine learning APIs (TensorFlow), AI chips (TPU), and more. Discontinued Google products include gaming (Stadia), Glass, Google+, Reader, Play Music, Nexus, Hangouts, and Inbox by Gmail.Google's other ventures outside of Internet services and consumer electronics include quantum computing (Sycamore), self-driving cars (Waymo, formerly the Google Self-Driving Car Project), smart cities (Sidewalk Labs), and transformer models (Google Brain).Google and YouTube are the two most visited websites worldwide followed by Facebook and Twitter. Google is also the largest search engine, mapping and navigation application, email provider, office suite, video sharing platform, photo and cloud storage provider, mobile operating system, web browser, ML framework, and AI virtual assistant provider in the world as measured by market share. On the list of most valuable brands, Google is ranked second by Forbes[18] and fourth by Interbrand.[19] It has received significant criticism involving issues such as privacy concerns, tax avoidance, censorship, search neutrality, antitrust and abuse of its monopoly position.Google LLC  is an American multinational technology company focusing on online advertising, search engine technology, cloud computing, computer software, quantum computing, e-commerce, artificial intelligence,[9] and consumer electronics. It has been referred to as \"the most powerful company in the world\"[10] and one of the world's most valuable brands due to its market dominance, data collection, and technological advantages in the area of artificial intelligence.[11][12][13] Its parent company Alphabet is considered one of the Big Five American information technology companies, alongside Amazon, Apple, Meta, and Microsoft.\n",
      "\n",
      "Google was founded on September 4, 1998, by computer scientists Larry Page and Sergey Brin while they were PhD students at Stanford University in California. Together they own about 14% of its publicly listed shares and control 56% of its stockholder voting power through super-voting stock. The company went public via an initial public offering (IPO) in 2004. In 2015, Google was reorganized as a wholly owned subsidiary of Alphabet Inc. Google is Alphabet's largest subsidiary and is a holding company for Alphabet's internet properties and interests. Sundar Pichai was appointed CEO of Google on October 24, 2015, replacing Larry Page, who became the CEO of Alphabet. On December 3, 2019, Pichai also became the CEO of Alphabet.[14]\n",
      "\n",
      "The company has since rapidly grown to offer a multitude of products and services beyond Google Search, many of which hold dominant market positions. These products address a wide range of use cases, including email (Gmail), navigation (Waze & Maps), cloud computing (Cloud), web browsing (Chrome), video sharing (YouTube), productivity (Workspace), operating systems (Android), cloud storage (Drive), language translation (Translate), photo storage (Photos), video calling (Meet), smart home (Nest), smartphones (Pixel), wearable technology (Pixel Watch & Fitbit), music streaming (YouTube Music), video on demand (YouTube TV), artificial intelligence (Google Assistant), machine learning APIs (TensorFlow), AI chips (TPU), and more. Discontinued Google products include gaming (Stadia), Glass, Google+, Reader, Play Music, Nexus, Hangouts, and Inbox by Gmail.[15][16]\n",
      "\n",
      "Google's other ventures outside of Internet services and consumer electronics include quantum computing (Sycamore), self-driving cars (Waymo, formerly the Google Self-Driving Car Project), smart cities (Sidewalk Labs), and transformer models (Google Brain).[17]\n",
      "\n",
      "Google and YouTube are the two most visited websites worldwide followed by Facebook and Twitter. Google is also the largest search engine, mapping and navigation application, email provider, office suite, video sharing platform, photo and cloud storage provider, mobile operating system, web browser, ML framework, and AI virtual assistant provider in the world as measured by market share. On the list of most valuable brands, Google is ranked second by Forbes[18] and fourth by Interbrand.[19] It has received significant criticism involving issues such as privacy concerns, tax avoidance, censorship, search neutrality, antitrust and abuse of its monopoly position.this is r+ for both mode reading and writing"
     ]
    }
   ],
   "source": [
    "f = open(\"google.txt\",\"r+\")\n",
    "for line in f:\n",
    "    print(line , end =\"\")"
   ]
  },
  {
   "cell_type": "code",
   "execution_count": 218,
   "id": "1e2e0464",
   "metadata": {},
   "outputs": [],
   "source": [
    "#r+ is mode open for both reading and writing"
   ]
  },
  {
   "cell_type": "code",
   "execution_count": 219,
   "id": "e0031f70",
   "metadata": {},
   "outputs": [
    {
     "data": {
      "text/plain": [
       "44"
      ]
     },
     "execution_count": 219,
     "metadata": {},
     "output_type": "execute_result"
    }
   ],
   "source": [
    "f.write(\"this is r+ for both mode reading and writing\")"
   ]
  },
  {
   "cell_type": "code",
   "execution_count": 220,
   "id": "f2da0f24",
   "metadata": {},
   "outputs": [],
   "source": [
    "f.close()"
   ]
  },
  {
   "cell_type": "code",
   "execution_count": 242,
   "id": "c00a5a37",
   "metadata": {},
   "outputs": [],
   "source": [
    "f = open(\"google.txt\" , \"r+\")"
   ]
  },
  {
   "cell_type": "code",
   "execution_count": 243,
   "id": "0780665d",
   "metadata": {},
   "outputs": [
    {
     "data": {
      "text/plain": [
       "5"
      ]
     },
     "execution_count": 243,
     "metadata": {},
     "output_type": "execute_result"
    }
   ],
   "source": [
    "f.seek(5)"
   ]
  },
  {
   "cell_type": "code",
   "execution_count": 244,
   "id": "63142b13",
   "metadata": {},
   "outputs": [
    {
     "data": {
      "text/plain": [
       "40"
      ]
     },
     "execution_count": 244,
     "metadata": {},
     "output_type": "execute_result"
    }
   ],
   "source": [
    "f.write(\"This is my file write op at 5th location\")"
   ]
  },
  {
   "cell_type": "code",
   "execution_count": 245,
   "id": "92588275",
   "metadata": {},
   "outputs": [],
   "source": [
    "f.close()"
   ]
  },
  {
   "cell_type": "code",
   "execution_count": 1,
   "id": "90865460",
   "metadata": {},
   "outputs": [],
   "source": [
    "f = open(\"google.txt\" , \"r+\")"
   ]
  },
  {
   "cell_type": "code",
   "execution_count": 2,
   "id": "ac793747",
   "metadata": {},
   "outputs": [
    {
     "data": {
      "text/plain": [
       "9"
      ]
     },
     "execution_count": 2,
     "metadata": {},
     "output_type": "execute_result"
    }
   ],
   "source": [
    "len(f.readlines())"
   ]
  },
  {
   "cell_type": "code",
   "execution_count": 3,
   "id": "a4250a03",
   "metadata": {},
   "outputs": [],
   "source": [
    "l = f.readlines()"
   ]
  },
  {
   "cell_type": "code",
   "execution_count": 4,
   "id": "0a2718a5",
   "metadata": {},
   "outputs": [
    {
     "data": {
      "text/plain": [
       "[]"
      ]
     },
     "execution_count": 4,
     "metadata": {},
     "output_type": "execute_result"
    }
   ],
   "source": [
    "l"
   ]
  },
  {
   "cell_type": "code",
   "execution_count": 6,
   "id": "b101b8e2",
   "metadata": {},
   "outputs": [
    {
     "ename": "SyntaxError",
     "evalue": "invalid syntax (335052996.py, line 2)",
     "output_type": "error",
     "traceback": [
      "\u001b[1;36m  Input \u001b[1;32mIn [6]\u001b[1;36m\u001b[0m\n\u001b[1;33m    for i in l[0].split()\u001b[0m\n\u001b[1;37m                         ^\u001b[0m\n\u001b[1;31mSyntaxError\u001b[0m\u001b[1;31m:\u001b[0m invalid syntax\n"
     ]
    }
   ],
   "source": [
    "l1 = []\n",
    "for i in l[0].split()\n",
    "    l1.append(i[o]) "
   ]
  },
  {
   "cell_type": "code",
   "execution_count": 7,
   "id": "cb1c8aed",
   "metadata": {},
   "outputs": [
    {
     "ename": "NameError",
     "evalue": "name 'l1' is not defined",
     "output_type": "error",
     "traceback": [
      "\u001b[1;31m---------------------------------------------------------------------------\u001b[0m",
      "\u001b[1;31mNameError\u001b[0m                                 Traceback (most recent call last)",
      "Input \u001b[1;32mIn [7]\u001b[0m, in \u001b[0;36m<cell line: 1>\u001b[1;34m()\u001b[0m\n\u001b[1;32m----> 1\u001b[0m \u001b[43ml1\u001b[49m\n",
      "\u001b[1;31mNameError\u001b[0m: name 'l1' is not defined"
     ]
    }
   ],
   "source": [
    "l1"
   ]
  },
  {
   "cell_type": "code",
   "execution_count": 9,
   "id": "dba2a93a",
   "metadata": {},
   "outputs": [
    {
     "name": "stdout",
     "output_type": "stream",
     "text": [
      " Volume in drive C is Windows\n",
      " Volume Serial Number is 4085-8304\n",
      "\n",
      " Directory of C:\\Users\\ABHI\n",
      "\n",
      "04/21/2023  11:52 AM    <DIR>          .\n",
      "04/21/2023  11:52 AM    <DIR>          ..\n",
      "03/04/2022  08:42 AM    <DIR>          .atom\n",
      "01/09/2023  04:10 AM                 6 .bash_history\n",
      "02/23/2023  10:24 PM    <DIR>          .conda\n",
      "07/14/2022  09:40 PM                25 .condarc\n",
      "07/14/2022  09:39 PM    <DIR>          .continuum\n",
      "10/18/2021  12:02 PM    <DIR>          .eclipse\n",
      "03/26/2023  04:06 AM                53 .git-for-windows-updater\n",
      "04/21/2023  03:04 AM    <DIR>          .ipynb_checkpoints\n",
      "07/14/2022  09:42 PM    <DIR>          .ipython\n",
      "02/23/2023  11:29 AM    <DIR>          .jupyter\n",
      "03/24/2022  01:53 AM    <DIR>          .m2\n",
      "02/23/2023  11:28 AM    <DIR>          .matplotlib\n",
      "03/23/2022  11:58 PM    <DIR>          .tooling\n",
      "03/17/2022  04:36 AM    <DIR>          .vscode\n",
      "02/06/2022  09:41 PM    <DIR>          3D Objects\n",
      "07/14/2022  09:35 PM    <DIR>          anaconda3\n",
      "02/06/2022  09:41 PM    <DIR>          Contacts\n",
      "04/09/2023  09:37 AM    <DIR>          Desktop\n",
      "07/14/2022  09:35 PM    <DIR>          Documents\n",
      "04/20/2023  12:32 AM    <DIR>          Downloads\n",
      "02/06/2022  09:41 PM    <DIR>          Favorites\n",
      "07/15/2022  12:51 AM             2,620 First_program.ipynb\n",
      "03/03/2023  01:44 AM            24,083 For Loops While Loops.ipynb\n",
      "03/05/2023  06:11 AM            15,166 Function 1.ipynb\n",
      "03/06/2023  03:00 AM            32,057 Functions 2.ipynb\n",
      "08/06/2022  11:46 PM               860 functions using list and string .ipynb\n",
      "08/14/2022  09:34 AM            29,407 Functions.ipynb\n",
      "04/21/2023  11:45 AM             6,520 google.txt\n",
      "02/25/2023  12:43 PM            14,577 If ,Else & For Loop.ipynb\n",
      "04/21/2023  11:52 AM            63,731 ITERATOR GENERATOR FILE SYSTEM.ipynb\n",
      "08/11/2022  01:59 AM            10,483 lecture 3.ipynb\n",
      "02/06/2022  09:41 PM    <DIR>          Links\n",
      "07/27/2022  06:06 AM             6,739 LIST.ipynb\n",
      "08/02/2022  11:59 PM               589 list1.ipynb\n",
      "08/04/2022  12:11 AM               589 Loops.ipynb\n",
      "02/06/2022  09:41 PM    <DIR>          Music\n",
      "02/26/2023  02:32 PM             1,531 My Cosmetics.ipynb\n",
      "01/21/2022  04:56 AM    <DIR>          OneDrive\n",
      "08/13/2022  04:01 AM            10,586 Patterns.ipynb\n",
      "02/06/2022  09:41 PM    <DIR>          Pictures\n",
      "03/24/2022  01:14 AM    <DIR>          Postman\n",
      "04/19/2023  12:05 AM             5,948 PYTHON BASICS ASSIGNMENT 1.ipynb\n",
      "04/20/2023  12:32 AM            10,721 PYTHON BASICS ASSIGNMENT 2.ipynb\n",
      "02/23/2023  06:14 AM            15,972 Python Basics.ipynb\n",
      "08/10/2022  01:48 AM               646 python numbers.ipynb\n",
      "03/04/2023  03:48 AM             6,515 Python Program Discussion In Loops  .ipynb\n",
      "03/04/2023  06:02 AM             9,589 Python Program Discussion In Loops.ipynb\n",
      "02/06/2022  09:41 PM    <DIR>          Saved Games\n",
      "02/06/2022  09:41 PM    <DIR>          Searches\n",
      "07/14/2022  09:51 PM               916 second_program.ipynb\n",
      "08/15/2022  04:27 AM            26,965 sets.ipynb\n",
      "02/23/2023  11:33 AM               718 String ,Lists ,Indexing .ipynb\n",
      "02/24/2023  03:38 AM            43,911 String ,Lists ,Indexing.ipynb\n",
      "04/21/2023  07:37 AM               104 test.txt\n",
      "04/21/2023  07:17 AM                49 test2.txt\n",
      "02/25/2023  03:05 AM            40,003 Tuple ,Set & Dict.ipynb\n",
      "07/16/2022  01:30 AM             1,175 Untitled.ipynb\n",
      "07/17/2022  11:38 AM               589 Untitled1.ipynb\n",
      "02/23/2023  11:23 AM               589 Untitled10.ipynb\n",
      "02/23/2023  11:43 AM                72 Untitled11.ipynb\n",
      "02/23/2023  11:30 AM                72 Untitled12.ipynb\n",
      "04/20/2023  02:55 AM               589 Untitled13.ipynb\n",
      "07/28/2022  01:58 AM               589 Untitled2.ipynb\n",
      "08/13/2022  08:18 AM            10,010 Untitled3.ipynb\n",
      "08/14/2022  05:04 AM            40,575 Untitled4.ipynb\n",
      "09/05/2022  03:04 AM               589 Untitled5.ipynb\n",
      "09/10/2022  10:13 PM               589 Untitled6.ipynb\n",
      "09/23/2022  12:19 AM               589 Untitled7.ipynb\n",
      "02/22/2023  01:56 AM               589 Untitled8.ipynb\n",
      "02/23/2023  11:19 AM               589 Untitled9.ipynb\n",
      "03/29/2022  07:32 AM    <DIR>          Videos\n",
      "09/11/2022  05:25 AM         9,192,878 working with files.ipynb\n",
      "              46 File(s)      9,631,762 bytes\n",
      "              28 Dir(s)  68,137,291,776 bytes free\n"
     ]
    }
   ],
   "source": [
    "%ls"
   ]
  },
  {
   "cell_type": "code",
   "execution_count": 11,
   "id": "394fdebd",
   "metadata": {},
   "outputs": [
    {
     "data": {
      "text/plain": [
       "'google.txt'"
      ]
     },
     "execution_count": 11,
     "metadata": {},
     "output_type": "execute_result"
    }
   ],
   "source": [
    "f = open(\"google.txt\" , \"r+\")\n",
    "f.name"
   ]
  },
  {
   "cell_type": "code",
   "execution_count": 12,
   "id": "ff701540",
   "metadata": {},
   "outputs": [],
   "source": [
    "l  = [\"this is my line one\", \"this is my line on2\",\"this is my line on3\",\"this is my line 4\"]"
   ]
  },
  {
   "cell_type": "code",
   "execution_count": 13,
   "id": "3b2897ae",
   "metadata": {},
   "outputs": [
    {
     "data": {
      "text/plain": [
       "35"
      ]
     },
     "execution_count": 13,
     "metadata": {},
     "output_type": "execute_result"
    }
   ],
   "source": [
    "f.write(\"I can write lines at current cursor\")"
   ]
  },
  {
   "cell_type": "code",
   "execution_count": 14,
   "id": "58d4d29f",
   "metadata": {},
   "outputs": [],
   "source": [
    "f.writelines(l)"
   ]
  },
  {
   "cell_type": "code",
   "execution_count": 15,
   "id": "be825042",
   "metadata": {},
   "outputs": [],
   "source": [
    "f.close()"
   ]
  },
  {
   "cell_type": "code",
   "execution_count": 16,
   "id": "ae864d78",
   "metadata": {},
   "outputs": [
    {
     "data": {
      "text/plain": [
       "4"
      ]
     },
     "execution_count": 16,
     "metadata": {},
     "output_type": "execute_result"
    }
   ],
   "source": [
    "f = open(\"google.txt\" , \"r+\")\n",
    "f.fileno()"
   ]
  },
  {
   "cell_type": "code",
   "execution_count": 19,
   "id": "38b7e11f",
   "metadata": {},
   "outputs": [],
   "source": [
    "f.close()"
   ]
  },
  {
   "cell_type": "code",
   "execution_count": 20,
   "id": "ff986a67",
   "metadata": {},
   "outputs": [
    {
     "name": "stdout",
     "output_type": "stream",
     "text": [
      " Volume in drive C is Windows\n",
      " Volume Serial Number is 4085-8304\n",
      "\n",
      " Directory of C:\\Users\\ABHI\n",
      "\n",
      "04/21/2023  12:08 PM    <DIR>          .\n",
      "04/21/2023  12:08 PM    <DIR>          ..\n",
      "03/04/2022  08:42 AM    <DIR>          .atom\n",
      "01/09/2023  04:10 AM                 6 .bash_history\n",
      "02/23/2023  10:24 PM    <DIR>          .conda\n",
      "07/14/2022  09:40 PM                25 .condarc\n",
      "07/14/2022  09:39 PM    <DIR>          .continuum\n",
      "10/18/2021  12:02 PM    <DIR>          .eclipse\n",
      "03/26/2023  04:06 AM                53 .git-for-windows-updater\n",
      "04/21/2023  03:04 AM    <DIR>          .ipynb_checkpoints\n",
      "07/14/2022  09:42 PM    <DIR>          .ipython\n",
      "02/23/2023  11:29 AM    <DIR>          .jupyter\n",
      "03/24/2022  01:53 AM    <DIR>          .m2\n",
      "02/23/2023  11:28 AM    <DIR>          .matplotlib\n",
      "03/23/2022  11:58 PM    <DIR>          .tooling\n",
      "03/17/2022  04:36 AM    <DIR>          .vscode\n",
      "02/06/2022  09:41 PM    <DIR>          3D Objects\n",
      "07/14/2022  09:35 PM    <DIR>          anaconda3\n",
      "02/06/2022  09:41 PM    <DIR>          Contacts\n",
      "04/09/2023  09:37 AM    <DIR>          Desktop\n",
      "07/14/2022  09:35 PM    <DIR>          Documents\n",
      "04/20/2023  12:32 AM    <DIR>          Downloads\n",
      "02/06/2022  09:41 PM    <DIR>          Favorites\n",
      "07/15/2022  12:51 AM             2,620 First_program.ipynb\n",
      "03/03/2023  01:44 AM            24,083 For Loops While Loops.ipynb\n",
      "03/05/2023  06:11 AM            15,166 Function 1.ipynb\n",
      "03/06/2023  03:00 AM            32,057 Functions 2.ipynb\n",
      "08/06/2022  11:46 PM               860 functions using list and string .ipynb\n",
      "08/14/2022  09:34 AM            29,407 Functions.ipynb\n",
      "04/21/2023  12:02 PM             6,520 google.txt\n",
      "02/25/2023  12:43 PM            14,577 If ,Else & For Loop.ipynb\n",
      "04/21/2023  12:08 PM            76,295 ITERATOR GENERATOR FILE SYSTEM.ipynb\n",
      "08/11/2022  01:59 AM            10,483 lecture 3.ipynb\n",
      "02/06/2022  09:41 PM    <DIR>          Links\n",
      "07/27/2022  06:06 AM             6,739 LIST.ipynb\n",
      "08/02/2022  11:59 PM               589 list1.ipynb\n",
      "08/04/2022  12:11 AM               589 Loops.ipynb\n",
      "02/06/2022  09:41 PM    <DIR>          Music\n",
      "02/26/2023  02:32 PM             1,531 My Cosmetics.ipynb\n",
      "01/21/2022  04:56 AM    <DIR>          OneDrive\n",
      "08/13/2022  04:01 AM            10,586 Patterns.ipynb\n",
      "02/06/2022  09:41 PM    <DIR>          Pictures\n",
      "03/24/2022  01:14 AM    <DIR>          Postman\n",
      "04/19/2023  12:05 AM             5,948 PYTHON BASICS ASSIGNMENT 1.ipynb\n",
      "04/20/2023  12:32 AM            10,721 PYTHON BASICS ASSIGNMENT 2.ipynb\n",
      "02/23/2023  06:14 AM            15,972 Python Basics.ipynb\n",
      "08/10/2022  01:48 AM               646 python numbers.ipynb\n",
      "03/04/2023  03:48 AM             6,515 Python Program Discussion In Loops  .ipynb\n",
      "03/04/2023  06:02 AM             9,589 Python Program Discussion In Loops.ipynb\n",
      "02/06/2022  09:41 PM    <DIR>          Saved Games\n",
      "02/06/2022  09:41 PM    <DIR>          Searches\n",
      "07/14/2022  09:51 PM               916 second_program.ipynb\n",
      "08/15/2022  04:27 AM            26,965 sets.ipynb\n",
      "02/23/2023  11:33 AM               718 String ,Lists ,Indexing .ipynb\n",
      "02/24/2023  03:38 AM            43,911 String ,Lists ,Indexing.ipynb\n",
      "04/21/2023  07:37 AM               104 test.txt\n",
      "04/21/2023  07:17 AM                49 test2.txt\n",
      "02/25/2023  03:05 AM            40,003 Tuple ,Set & Dict.ipynb\n",
      "07/16/2022  01:30 AM             1,175 Untitled.ipynb\n",
      "07/17/2022  11:38 AM               589 Untitled1.ipynb\n",
      "02/23/2023  11:23 AM               589 Untitled10.ipynb\n",
      "02/23/2023  11:43 AM                72 Untitled11.ipynb\n",
      "02/23/2023  11:30 AM                72 Untitled12.ipynb\n",
      "04/20/2023  02:55 AM               589 Untitled13.ipynb\n",
      "07/28/2022  01:58 AM               589 Untitled2.ipynb\n",
      "08/13/2022  08:18 AM            10,010 Untitled3.ipynb\n",
      "08/14/2022  05:04 AM            40,575 Untitled4.ipynb\n",
      "09/05/2022  03:04 AM               589 Untitled5.ipynb\n",
      "09/10/2022  10:13 PM               589 Untitled6.ipynb\n",
      "09/23/2022  12:19 AM               589 Untitled7.ipynb\n",
      "02/22/2023  01:56 AM               589 Untitled8.ipynb\n",
      "02/23/2023  11:19 AM               589 Untitled9.ipynb\n",
      "03/29/2022  07:32 AM    <DIR>          Videos\n",
      "09/11/2022  05:25 AM         9,192,878 working with files.ipynb\n",
      "              46 File(s)      9,644,326 bytes\n",
      "              28 Dir(s)  68,135,391,232 bytes free\n"
     ]
    }
   ],
   "source": [
    "%ls"
   ]
  },
  {
   "cell_type": "code",
   "execution_count": 26,
   "id": "c8a16ffa",
   "metadata": {},
   "outputs": [],
   "source": [
    "import os"
   ]
  },
  {
   "cell_type": "code",
   "execution_count": 27,
   "id": "dc8aaed9",
   "metadata": {},
   "outputs": [
    {
     "ename": "FileNotFoundError",
     "evalue": "[WinError 2] The system cannot find the file specified: 'google.txt'",
     "output_type": "error",
     "traceback": [
      "\u001b[1;31m---------------------------------------------------------------------------\u001b[0m",
      "\u001b[1;31mFileNotFoundError\u001b[0m                         Traceback (most recent call last)",
      "Input \u001b[1;32mIn [27]\u001b[0m, in \u001b[0;36m<cell line: 1>\u001b[1;34m()\u001b[0m\n\u001b[1;32m----> 1\u001b[0m \u001b[43mos\u001b[49m\u001b[38;5;241;43m.\u001b[39;49m\u001b[43mremove\u001b[49m\u001b[43m(\u001b[49m\u001b[38;5;124;43m\"\u001b[39;49m\u001b[38;5;124;43mgoogle.txt\u001b[39;49m\u001b[38;5;124;43m\"\u001b[39;49m\u001b[43m)\u001b[49m\n",
      "\u001b[1;31mFileNotFoundError\u001b[0m: [WinError 2] The system cannot find the file specified: 'google.txt'"
     ]
    }
   ],
   "source": [
    "os.remove(\"google.txt\")"
   ]
  },
  {
   "cell_type": "code",
   "execution_count": 29,
   "id": "503fe17c",
   "metadata": {},
   "outputs": [
    {
     "name": "stdout",
     "output_type": "stream",
     "text": [
      " Volume in drive C is Windows\n",
      " Volume Serial Number is 4085-8304\n",
      "\n",
      " Directory of C:\\Users\\ABHI\n",
      "\n",
      "04/21/2023  12:10 PM    <DIR>          .\n",
      "04/21/2023  12:10 PM    <DIR>          ..\n",
      "03/04/2022  08:42 AM    <DIR>          .atom\n",
      "01/09/2023  04:10 AM                 6 .bash_history\n",
      "02/23/2023  10:24 PM    <DIR>          .conda\n",
      "07/14/2022  09:40 PM                25 .condarc\n",
      "07/14/2022  09:39 PM    <DIR>          .continuum\n",
      "10/18/2021  12:02 PM    <DIR>          .eclipse\n",
      "03/26/2023  04:06 AM                53 .git-for-windows-updater\n",
      "04/21/2023  03:04 AM    <DIR>          .ipynb_checkpoints\n",
      "07/14/2022  09:42 PM    <DIR>          .ipython\n",
      "02/23/2023  11:29 AM    <DIR>          .jupyter\n",
      "03/24/2022  01:53 AM    <DIR>          .m2\n",
      "02/23/2023  11:28 AM    <DIR>          .matplotlib\n",
      "03/23/2022  11:58 PM    <DIR>          .tooling\n",
      "03/17/2022  04:36 AM    <DIR>          .vscode\n",
      "02/06/2022  09:41 PM    <DIR>          3D Objects\n",
      "07/14/2022  09:35 PM    <DIR>          anaconda3\n",
      "02/06/2022  09:41 PM    <DIR>          Contacts\n",
      "04/09/2023  09:37 AM    <DIR>          Desktop\n",
      "07/14/2022  09:35 PM    <DIR>          Documents\n",
      "04/20/2023  12:32 AM    <DIR>          Downloads\n",
      "02/06/2022  09:41 PM    <DIR>          Favorites\n",
      "07/15/2022  12:51 AM             2,620 First_program.ipynb\n",
      "03/03/2023  01:44 AM            24,083 For Loops While Loops.ipynb\n",
      "03/05/2023  06:11 AM            15,166 Function 1.ipynb\n",
      "03/06/2023  03:00 AM            32,057 Functions 2.ipynb\n",
      "08/06/2022  11:46 PM               860 functions using list and string .ipynb\n",
      "08/14/2022  09:34 AM            29,407 Functions.ipynb\n",
      "02/25/2023  12:43 PM            14,577 If ,Else & For Loop.ipynb\n",
      "04/21/2023  12:10 PM            77,489 ITERATOR GENERATOR FILE SYSTEM.ipynb\n",
      "08/11/2022  01:59 AM            10,483 lecture 3.ipynb\n",
      "02/06/2022  09:41 PM    <DIR>          Links\n",
      "07/27/2022  06:06 AM             6,739 LIST.ipynb\n",
      "08/02/2022  11:59 PM               589 list1.ipynb\n",
      "08/04/2022  12:11 AM               589 Loops.ipynb\n",
      "02/06/2022  09:41 PM    <DIR>          Music\n",
      "02/26/2023  02:32 PM             1,531 My Cosmetics.ipynb\n",
      "01/21/2022  04:56 AM    <DIR>          OneDrive\n",
      "08/13/2022  04:01 AM            10,586 Patterns.ipynb\n",
      "02/06/2022  09:41 PM    <DIR>          Pictures\n",
      "03/24/2022  01:14 AM    <DIR>          Postman\n",
      "04/19/2023  12:05 AM             5,948 PYTHON BASICS ASSIGNMENT 1.ipynb\n",
      "04/20/2023  12:32 AM            10,721 PYTHON BASICS ASSIGNMENT 2.ipynb\n",
      "02/23/2023  06:14 AM            15,972 Python Basics.ipynb\n",
      "08/10/2022  01:48 AM               646 python numbers.ipynb\n",
      "03/04/2023  03:48 AM             6,515 Python Program Discussion In Loops  .ipynb\n",
      "03/04/2023  06:02 AM             9,589 Python Program Discussion In Loops.ipynb\n",
      "02/06/2022  09:41 PM    <DIR>          Saved Games\n",
      "02/06/2022  09:41 PM    <DIR>          Searches\n",
      "07/14/2022  09:51 PM               916 second_program.ipynb\n",
      "08/15/2022  04:27 AM            26,965 sets.ipynb\n",
      "02/23/2023  11:33 AM               718 String ,Lists ,Indexing .ipynb\n",
      "02/24/2023  03:38 AM            43,911 String ,Lists ,Indexing.ipynb\n",
      "04/21/2023  07:37 AM               104 test.txt\n",
      "04/21/2023  07:17 AM                49 test2.txt\n",
      "02/25/2023  03:05 AM            40,003 Tuple ,Set & Dict.ipynb\n",
      "07/16/2022  01:30 AM             1,175 Untitled.ipynb\n",
      "07/17/2022  11:38 AM               589 Untitled1.ipynb\n",
      "02/23/2023  11:23 AM               589 Untitled10.ipynb\n",
      "02/23/2023  11:43 AM                72 Untitled11.ipynb\n",
      "02/23/2023  11:30 AM                72 Untitled12.ipynb\n",
      "04/20/2023  02:55 AM               589 Untitled13.ipynb\n",
      "07/28/2022  01:58 AM               589 Untitled2.ipynb\n",
      "08/13/2022  08:18 AM            10,010 Untitled3.ipynb\n",
      "08/14/2022  05:04 AM            40,575 Untitled4.ipynb\n",
      "09/05/2022  03:04 AM               589 Untitled5.ipynb\n",
      "09/10/2022  10:13 PM               589 Untitled6.ipynb\n",
      "09/23/2022  12:19 AM               589 Untitled7.ipynb\n",
      "02/22/2023  01:56 AM               589 Untitled8.ipynb\n",
      "02/23/2023  11:19 AM               589 Untitled9.ipynb\n",
      "03/29/2022  07:32 AM    <DIR>          Videos\n",
      "09/11/2022  05:25 AM         9,192,878 working with files.ipynb\n",
      "              45 File(s)      9,639,000 bytes\n",
      "              28 Dir(s)  68,135,194,624 bytes free\n"
     ]
    }
   ],
   "source": [
    "%ls"
   ]
  },
  {
   "cell_type": "code",
   "execution_count": 30,
   "id": "609bd2df",
   "metadata": {},
   "outputs": [
    {
     "data": {
      "text/plain": [
       "['.atom',\n",
       " '.bash_history',\n",
       " '.conda',\n",
       " '.condarc',\n",
       " '.continuum',\n",
       " '.eclipse',\n",
       " '.git-for-windows-updater',\n",
       " '.ipynb_checkpoints',\n",
       " '.ipython',\n",
       " '.jupyter',\n",
       " '.m2',\n",
       " '.matplotlib',\n",
       " '.tooling',\n",
       " '.vscode',\n",
       " '3D Objects',\n",
       " 'anaconda3',\n",
       " 'AppData',\n",
       " 'Application Data',\n",
       " 'Contacts',\n",
       " 'Cookies',\n",
       " 'Desktop',\n",
       " 'Documents',\n",
       " 'Downloads',\n",
       " 'Favorites',\n",
       " 'First_program.ipynb',\n",
       " 'For Loops While Loops.ipynb',\n",
       " 'Function 1.ipynb',\n",
       " 'Functions 2.ipynb',\n",
       " 'functions using list and string .ipynb',\n",
       " 'Functions.ipynb',\n",
       " 'If ,Else & For Loop.ipynb',\n",
       " 'IntelGraphicsProfiles',\n",
       " 'ITERATOR GENERATOR FILE SYSTEM.ipynb',\n",
       " 'lecture 3.ipynb',\n",
       " 'Links',\n",
       " 'LIST.ipynb',\n",
       " 'list1.ipynb',\n",
       " 'Local Settings',\n",
       " 'Loops.ipynb',\n",
       " 'MicrosoftEdgeBackups',\n",
       " 'Music',\n",
       " 'My Cosmetics.ipynb',\n",
       " 'My Documents',\n",
       " 'NetHood',\n",
       " 'NTUSER.DAT',\n",
       " 'ntuser.dat.LOG1',\n",
       " 'ntuser.dat.LOG2',\n",
       " 'NTUSER.DAT{00da4c15-eb00-11ea-94ec-90489ad6081b}.TM.blf',\n",
       " 'NTUSER.DAT{00da4c15-eb00-11ea-94ec-90489ad6081b}.TMContainer00000000000000000001.regtrans-ms',\n",
       " 'NTUSER.DAT{00da4c15-eb00-11ea-94ec-90489ad6081b}.TMContainer00000000000000000002.regtrans-ms',\n",
       " 'ntuser.ini',\n",
       " 'OneDrive',\n",
       " 'Patterns.ipynb',\n",
       " 'Pictures',\n",
       " 'Postman',\n",
       " 'PrintHood',\n",
       " 'PYTHON BASICS ASSIGNMENT 1.ipynb',\n",
       " 'PYTHON BASICS ASSIGNMENT 2.ipynb',\n",
       " 'Python Basics.ipynb',\n",
       " 'python numbers.ipynb',\n",
       " 'Python Program Discussion In Loops  .ipynb',\n",
       " 'Python Program Discussion In Loops.ipynb',\n",
       " 'Recent',\n",
       " 'Saved Games',\n",
       " 'Searches',\n",
       " 'second_program.ipynb',\n",
       " 'SendTo',\n",
       " 'sets.ipynb',\n",
       " 'Start Menu',\n",
       " 'String ,Lists ,Indexing .ipynb',\n",
       " 'String ,Lists ,Indexing.ipynb',\n",
       " 'Templates',\n",
       " 'test.txt',\n",
       " 'test2.txt',\n",
       " 'Tuple ,Set & Dict.ipynb',\n",
       " 'Untitled.ipynb',\n",
       " 'Untitled1.ipynb',\n",
       " 'Untitled10.ipynb',\n",
       " 'Untitled11.ipynb',\n",
       " 'Untitled12.ipynb',\n",
       " 'Untitled13.ipynb',\n",
       " 'Untitled2.ipynb',\n",
       " 'Untitled3.ipynb',\n",
       " 'Untitled4.ipynb',\n",
       " 'Untitled5.ipynb',\n",
       " 'Untitled6.ipynb',\n",
       " 'Untitled7.ipynb',\n",
       " 'Untitled8.ipynb',\n",
       " 'Untitled9.ipynb',\n",
       " 'Videos',\n",
       " 'working with files.ipynb']"
      ]
     },
     "execution_count": 30,
     "metadata": {},
     "output_type": "execute_result"
    }
   ],
   "source": [
    "os.listdir()"
   ]
  },
  {
   "cell_type": "code",
   "execution_count": 31,
   "id": "b864f6ea",
   "metadata": {},
   "outputs": [
    {
     "data": {
      "text/plain": [
       "'C:\\\\Users\\\\ABHI'"
      ]
     },
     "execution_count": 31,
     "metadata": {},
     "output_type": "execute_result"
    }
   ],
   "source": [
    "os.getcwd()"
   ]
  },
  {
   "cell_type": "code",
   "execution_count": null,
   "id": "52c2d9e2",
   "metadata": {},
   "outputs": [],
   "source": []
  }
 ],
 "metadata": {
  "kernelspec": {
   "display_name": "Python 3 (ipykernel)",
   "language": "python",
   "name": "python3"
  },
  "language_info": {
   "codemirror_mode": {
    "name": "ipython",
    "version": 3
   },
   "file_extension": ".py",
   "mimetype": "text/x-python",
   "name": "python",
   "nbconvert_exporter": "python",
   "pygments_lexer": "ipython3",
   "version": "3.9.12"
  }
 },
 "nbformat": 4,
 "nbformat_minor": 5
}
