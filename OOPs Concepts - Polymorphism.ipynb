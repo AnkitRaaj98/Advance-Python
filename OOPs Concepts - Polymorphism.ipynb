{
 "cells": [
  {
   "cell_type": "markdown",
   "id": "ec36ea7a",
   "metadata": {},
   "source": [
    "# POLYMORPHISM"
   ]
  },
  {
   "cell_type": "markdown",
   "id": "b2a3d613",
   "metadata": {},
   "source": [
    "It means multiple form ,one thing but nature changes with respect to situations. "
   ]
  },
  {
   "cell_type": "code",
   "execution_count": 9,
   "id": "5b3001b8",
   "metadata": {},
   "outputs": [],
   "source": [
    "def test1(a,b):\n",
    "    return a+b"
   ]
  },
  {
   "cell_type": "code",
   "execution_count": 10,
   "id": "811a8114",
   "metadata": {},
   "outputs": [
    {
     "data": {
      "text/plain": [
       "8"
      ]
     },
     "execution_count": 10,
     "metadata": {},
     "output_type": "execute_result"
    }
   ],
   "source": [
    "test1(4,4)"
   ]
  },
  {
   "cell_type": "code",
   "execution_count": 11,
   "id": "3ef38162",
   "metadata": {},
   "outputs": [
    {
     "data": {
      "text/plain": [
       "'ANKITkumar'"
      ]
     },
     "execution_count": 11,
     "metadata": {},
     "output_type": "execute_result"
    }
   ],
   "source": [
    "test1(\"ANKIT\",\"kumar\")"
   ]
  },
  {
   "cell_type": "code",
   "execution_count": 13,
   "id": "747039cd",
   "metadata": {},
   "outputs": [],
   "source": [
    "class insta:\n",
    "    def share_stories(self):\n",
    "        print(\"this will share my stories\")\n",
    "        \n",
    "class facebook:\n",
    "    def share_stories(self):\n",
    "        print(\"this will share facebook stories\")"
   ]
  },
  {
   "cell_type": "code",
   "execution_count": 14,
   "id": "52c51297",
   "metadata": {},
   "outputs": [],
   "source": [
    "def sharestories(app):\n",
    "    app.share_stories()"
   ]
  },
  {
   "cell_type": "code",
   "execution_count": 15,
   "id": "5b5b1e47",
   "metadata": {},
   "outputs": [],
   "source": [
    "i = insta()\n",
    "f = facebook()"
   ]
  },
  {
   "cell_type": "code",
   "execution_count": 17,
   "id": "d885da09",
   "metadata": {},
   "outputs": [
    {
     "name": "stdout",
     "output_type": "stream",
     "text": [
      "this will share my stories\n"
     ]
    }
   ],
   "source": [
    "sharestories(i)"
   ]
  },
  {
   "cell_type": "code",
   "execution_count": 18,
   "id": "4fe4bcdd",
   "metadata": {},
   "outputs": [
    {
     "name": "stdout",
     "output_type": "stream",
     "text": [
      "this will share facebook stories\n"
     ]
    }
   ],
   "source": [
    "sharestories(f)"
   ]
  },
  {
   "cell_type": "code",
   "execution_count": 24,
   "id": "c3018965",
   "metadata": {},
   "outputs": [],
   "source": [
    "class sociaL_media:\n",
    "    def share_stories(self):\n",
    "        print(\"share a stories\")\n",
    "    def upload_pic(self):\n",
    "        print(\"this will help youb to upload pic on social media\")\n",
    "        \n",
    "class facebook(sociaL_media):\n",
    "    def share_stories(self):\n",
    "        print(\"this is a fun sharing an story for facebook\")\n",
    "        \n",
    "class insta(sociaL_media):\n",
    "    def share_stories(self):\n",
    "        print(\"this will print a story from insta\")\n",
    "    "
   ]
  },
  {
   "cell_type": "code",
   "execution_count": 25,
   "id": "a50045f5",
   "metadata": {},
   "outputs": [],
   "source": [
    "f = facebook()\n",
    "i = insta()"
   ]
  },
  {
   "cell_type": "code",
   "execution_count": 26,
   "id": "3d7c7801",
   "metadata": {},
   "outputs": [
    {
     "name": "stdout",
     "output_type": "stream",
     "text": [
      "this is a fun sharing an story for facebook\n"
     ]
    }
   ],
   "source": [
    "f.share_stories()"
   ]
  },
  {
   "cell_type": "code",
   "execution_count": 27,
   "id": "c7c12886",
   "metadata": {},
   "outputs": [
    {
     "name": "stdout",
     "output_type": "stream",
     "text": [
      "this will print a story from insta\n"
     ]
    }
   ],
   "source": [
    "i.share_stories()"
   ]
  },
  {
   "cell_type": "code",
   "execution_count": 5,
   "id": "77b61cba",
   "metadata": {},
   "outputs": [],
   "source": [
    "class test(Exception):\n",
    "    def __init__(self,msg, myval):\n",
    "        self.msg = msg\n",
    "        self.myval = myval"
   ]
  },
  {
   "cell_type": "code",
   "execution_count": 6,
   "id": "bbd1f095",
   "metadata": {},
   "outputs": [
    {
     "name": "stdout",
     "output_type": "stream",
     "text": [
      "('this is my own exception class', 'ankit')\n"
     ]
    }
   ],
   "source": [
    "try :\n",
    "    raise(test(\"this is my own exception class\",\"ankit\"))\n",
    "except test as t:\n",
    "    print(t)"
   ]
  },
  {
   "cell_type": "code",
   "execution_count": 8,
   "id": "7066f8ad",
   "metadata": {},
   "outputs": [],
   "source": [
    "class multiple:\n",
    "    \n",
    "    def __init__(self,a,b):\n",
    "        self.a=a\n",
    "        self.b=b\n",
    "        \n",
    "    def test(self):\n",
    "        print(\"this is my multilevel class\")\n",
    "        \n",
    "class abc(multiple):\n",
    "    \n",
    "    def test1(self):\n",
    "        print(\"this is my abc class\")\n",
    "        \n",
    "class xyz(abc):\n",
    "    \n",
    "    def test2(self):\n",
    "        pass"
   ]
  },
  {
   "cell_type": "code",
   "execution_count": 10,
   "id": "78d5463b",
   "metadata": {},
   "outputs": [],
   "source": [
    "a = abc(4,6)"
   ]
  },
  {
   "cell_type": "code",
   "execution_count": 11,
   "id": "ff2928a1",
   "metadata": {},
   "outputs": [
    {
     "name": "stdout",
     "output_type": "stream",
     "text": [
      "this is my abc class\n"
     ]
    }
   ],
   "source": [
    "a.test1()"
   ]
  },
  {
   "cell_type": "code",
   "execution_count": 20,
   "id": "6bfb8153",
   "metadata": {},
   "outputs": [],
   "source": [
    "class poly:\n",
    "    def ask_no(self):\n",
    "        print(\"ask no from a girl\")\n",
    "        \n",
    "    def ask_add(self):\n",
    "        print(\"ask_add of a girl\")\n",
    "        \n",
    "class form(poly):\n",
    "    def askfor_date(self):\n",
    "        print(\"ask a girl for romantic night\")\n",
    "\n",
    "class phism(poly):\n",
    "    def askfor_date(self):\n",
    "        print(\"ask to girl for oyo\")"
   ]
  },
  {
   "cell_type": "code",
   "execution_count": 21,
   "id": "a7410b64",
   "metadata": {},
   "outputs": [],
   "source": [
    "f = form()\n",
    "p = phism()"
   ]
  },
  {
   "cell_type": "code",
   "execution_count": 22,
   "id": "fc6121d5",
   "metadata": {},
   "outputs": [
    {
     "name": "stdout",
     "output_type": "stream",
     "text": [
      "ask no from a girl\n"
     ]
    }
   ],
   "source": [
    "f.ask_no()"
   ]
  },
  {
   "cell_type": "code",
   "execution_count": 24,
   "id": "cdf935ee",
   "metadata": {},
   "outputs": [
    {
     "name": "stdout",
     "output_type": "stream",
     "text": [
      "ask a girl for romantic night\n"
     ]
    }
   ],
   "source": [
    "f.askfor_date()"
   ]
  },
  {
   "cell_type": "code",
   "execution_count": 25,
   "id": "14bbb2b8",
   "metadata": {},
   "outputs": [],
   "source": [
    "#Multiple Inheritance\n",
    "\n",
    "#Parent class1\n",
    "class Batch_Number:\n",
    "    batchnumber = \"\"\n",
    "    \n",
    "    def __init__(self, a, b):\n",
    "        self.a = a\n",
    "        self.b = b\n",
    "        \n",
    "    @staticmethod  #with the help of this we can make any local func. as static func. not as instance func.\n",
    "    def batch():\n",
    "        print(self.batchnumber)\n",
    "        \n",
    "#Parent class2\n",
    "class course_name:\n",
    "    cname = \"\"\n",
    "    def course(self):\n",
    "        print(self.cname)\n",
    "        \n",
    "#Child class\n",
    "class Student(Batch_Number, course_name):\n",
    "    def xyz(self):\n",
    "        print(\"Batch :\", self.batchnumber)\n",
    "        print(\"course :\",self.cname)\n",
    "        \n"
   ]
  },
  {
   "cell_type": "code",
   "execution_count": 26,
   "id": "e58aeb8b",
   "metadata": {},
   "outputs": [
    {
     "name": "stdout",
     "output_type": "stream",
     "text": [
      "Batch : 2\n",
      "course : FSDS\n"
     ]
    }
   ],
   "source": [
    "#Child class\n",
    "s1 = Student(1,2)\n",
    "s1.batchnumber = \"2\"\n",
    "s1.cname = \"FSDS\"\n",
    "s1.xyz()"
   ]
  },
  {
   "cell_type": "code",
   "execution_count": 27,
   "id": "5346ecc8",
   "metadata": {},
   "outputs": [
    {
     "data": {
      "text/plain": [
       "''"
      ]
     },
     "execution_count": 27,
     "metadata": {},
     "output_type": "execute_result"
    }
   ],
   "source": [
    "bn1 = Batch_Number(1,2,)\n",
    "bn1.a\n",
    "bn1.batchnumber"
   ]
  },
  {
   "cell_type": "code",
   "execution_count": 28,
   "id": "6954e527",
   "metadata": {},
   "outputs": [
    {
     "data": {
      "text/plain": [
       "''"
      ]
     },
     "execution_count": 28,
     "metadata": {},
     "output_type": "execute_result"
    }
   ],
   "source": [
    "Batch_Number.batchnumber"
   ]
  },
  {
   "cell_type": "code",
   "execution_count": 29,
   "id": "0b90e49c",
   "metadata": {},
   "outputs": [],
   "source": [
    "bn1.batchnumber = \"ankit\""
   ]
  },
  {
   "cell_type": "code",
   "execution_count": 30,
   "id": "0a45de0b",
   "metadata": {},
   "outputs": [
    {
     "data": {
      "text/plain": [
       "'ankit'"
      ]
     },
     "execution_count": 30,
     "metadata": {},
     "output_type": "execute_result"
    }
   ],
   "source": [
    "bn1.batchnumber"
   ]
  },
  {
   "cell_type": "code",
   "execution_count": 31,
   "id": "d3b39f75",
   "metadata": {},
   "outputs": [
    {
     "data": {
      "text/plain": [
       "'ankit'"
      ]
     },
     "execution_count": 31,
     "metadata": {},
     "output_type": "execute_result"
    }
   ],
   "source": [
    "bn1.batchnumber"
   ]
  },
  {
   "cell_type": "code",
   "execution_count": 41,
   "id": "61ff36dc",
   "metadata": {},
   "outputs": [],
   "source": [
    "#Parent class1\n",
    "class Batch_Number:\n",
    "    batchnumber = \"FSDS\"\n",
    "    \n",
    "    def __init__(self, a, b):\n",
    "        self.a = a\n",
    "        self.b = b\n",
    "        \n",
    "    @staticmethod  #with the help of this we can make any local func. as static func. not as instance func.\n",
    "    def batch():\n",
    "        print(\"this is a static method\")"
   ]
  },
  {
   "cell_type": "code",
   "execution_count": 42,
   "id": "b43edb36",
   "metadata": {},
   "outputs": [
    {
     "name": "stdout",
     "output_type": "stream",
     "text": [
      "this is a static method\n"
     ]
    }
   ],
   "source": [
    "Batch_Number.batch()"
   ]
  },
  {
   "cell_type": "markdown",
   "id": "50f1027e",
   "metadata": {},
   "source": [
    "what is the meaning of decorator?\n",
    "\n",
    "Decrators are specially design func. which is going to help other func. or instances to behave as per the definition."
   ]
  },
  {
   "cell_type": "code",
   "execution_count": 43,
   "id": "0a42fc08",
   "metadata": {},
   "outputs": [
    {
     "data": {
      "text/plain": [
       "'FSDS'"
      ]
     },
     "execution_count": 43,
     "metadata": {},
     "output_type": "execute_result"
    }
   ],
   "source": [
    "Batch_Number.batchnumber"
   ]
  },
  {
   "cell_type": "code",
   "execution_count": null,
   "id": "73e2d353",
   "metadata": {},
   "outputs": [],
   "source": []
  },
  {
   "cell_type": "code",
   "execution_count": null,
   "id": "8ad6845c",
   "metadata": {
    "collapsed": true
   },
   "outputs": [],
   "source": []
  },
  {
   "cell_type": "raw",
   "id": "382152ae",
   "metadata": {},
   "source": []
  },
  {
   "cell_type": "markdown",
   "id": "21b361de",
   "metadata": {},
   "source": [
    "# ABSTRACTION"
   ]
  },
  {
   "cell_type": "markdown",
   "id": "c3172428",
   "metadata": {},
   "source": [
    "It is nothimg but creating a blueprint.And then we have to override it or redefine it etc. is called Abstraction."
   ]
  },
  {
   "cell_type": "code",
   "execution_count": 47,
   "id": "2545dd44",
   "metadata": {},
   "outputs": [],
   "source": [
    "class abc :\n",
    "    pass"
   ]
  },
  {
   "cell_type": "code",
   "execution_count": 50,
   "id": "edecca29",
   "metadata": {},
   "outputs": [],
   "source": [
    "from abc import abstractmethod\n",
    "class data_project:\n",
    "    \n",
    "    @abstractmethod\n",
    "    def read_file(self):\n",
    "        pass\n",
    "    \n",
    "    def validate_file_name(self):\n",
    "        pass\n",
    "    \n",
    "    def validate_datatype(self):\n",
    "        pass\n",
    "    \n",
    "    def validate_db_conn(self):\n",
    "        pass\n",
    "    \n",
    "    def create_conn(self):\n",
    "        pass\n",
    "    \n",
    "    def insert_data(self):\n",
    "        pass\n",
    "    \n",
    "    def delete_data(self):\n",
    "        pass\n",
    "    \n",
    "    def update_data(self):\n",
    "        pass\n",
    "    \n",
    "    def perform_stats(self):\n",
    "        pass\n",
    "    \n",
    "    def perform_eda(self):\n",
    "        pass"
   ]
  },
  {
   "cell_type": "code",
   "execution_count": 51,
   "id": "b3b6ec87",
   "metadata": {},
   "outputs": [],
   "source": [
    "class db_conn(data_project):\n",
    "    pass"
   ]
  },
  {
   "cell_type": "code",
   "execution_count": 53,
   "id": "3a9d4478",
   "metadata": {},
   "outputs": [],
   "source": [
    "# overloading and overriding"
   ]
  },
  {
   "cell_type": "code",
   "execution_count": 55,
   "id": "7c07402e",
   "metadata": {},
   "outputs": [],
   "source": [
    "#Overloading\n",
    "class test:\n",
    "    \n",
    "    def fun(self):\n",
    "        print(\"this is my sample class\")\n",
    "        \n",
    "    def __str__(self):\n",
    "        return str(\"this is a fun called at atime of object print\")"
   ]
  },
  {
   "cell_type": "code",
   "execution_count": 56,
   "id": "a4f979a6",
   "metadata": {},
   "outputs": [],
   "source": [
    "t = test()"
   ]
  },
  {
   "cell_type": "code",
   "execution_count": 57,
   "id": "eba62071",
   "metadata": {},
   "outputs": [
    {
     "name": "stdout",
     "output_type": "stream",
     "text": [
      "this is a fun called at atime of object print\n"
     ]
    }
   ],
   "source": [
    "print(t)"
   ]
  },
  {
   "cell_type": "code",
   "execution_count": 58,
   "id": "74e02b08",
   "metadata": {},
   "outputs": [
    {
     "data": {
      "text/plain": [
       "<__main__.test at 0x1b416156ee0>"
      ]
     },
     "execution_count": 58,
     "metadata": {},
     "output_type": "execute_result"
    }
   ],
   "source": [
    "t"
   ]
  },
  {
   "cell_type": "markdown",
   "id": "0fe83898",
   "metadata": {},
   "source": [
    "__init__=It is a constructor and it is inbuilt function.\n",
    "__str__=It is for giving the msgs and it is also inbuilt function."
   ]
  }
 ],
 "metadata": {
  "kernelspec": {
   "display_name": "Python 3 (ipykernel)",
   "language": "python",
   "name": "python3"
  },
  "language_info": {
   "codemirror_mode": {
    "name": "ipython",
    "version": 3
   },
   "file_extension": ".py",
   "mimetype": "text/x-python",
   "name": "python",
   "nbconvert_exporter": "python",
   "pygments_lexer": "ipython3",
   "version": "3.9.12"
  }
 },
 "nbformat": 4,
 "nbformat_minor": 5
}
