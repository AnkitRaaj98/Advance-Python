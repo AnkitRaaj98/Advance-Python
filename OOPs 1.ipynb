{
 "cells": [
  {
   "cell_type": "code",
   "execution_count": 10,
   "id": "6232bb15",
   "metadata": {},
   "outputs": [],
   "source": [
    "class car:\n",
    "    def __init__(self, body_type,engine,fuel_type):\n",
    "        self.body_type1 = body_type\n",
    "        self.engine = engine\n",
    "        self.fuel_type = fuel_type\n",
    "        \n",
    "    def test(self):\n",
    "        print(\"this is my first method in car class\")\n",
    "        "
   ]
  },
  {
   "cell_type": "code",
   "execution_count": 13,
   "id": "5a5fffc8",
   "metadata": {},
   "outputs": [],
   "source": [
    "fortuner = car(\"suv\",\"bs4\",\"petrol\")\n",
    "nexon = car(\"tata\",\"abc\",\"petrol\")"
   ]
  },
  {
   "cell_type": "code",
   "execution_count": 14,
   "id": "8cd7e082",
   "metadata": {},
   "outputs": [
    {
     "data": {
      "text/plain": [
       "'suv'"
      ]
     },
     "execution_count": 14,
     "metadata": {},
     "output_type": "execute_result"
    }
   ],
   "source": [
    "fortuner.body_type1"
   ]
  },
  {
   "cell_type": "code",
   "execution_count": 6,
   "id": "92646fce",
   "metadata": {},
   "outputs": [
    {
     "data": {
      "text/plain": [
       "'suv'"
      ]
     },
     "execution_count": 6,
     "metadata": {},
     "output_type": "execute_result"
    }
   ],
   "source": [
    "fortuner.body_type#previous variable"
   ]
  },
  {
   "cell_type": "code",
   "execution_count": 7,
   "id": "77071959",
   "metadata": {},
   "outputs": [
    {
     "data": {
      "text/plain": [
       "'abc'"
      ]
     },
     "execution_count": 7,
     "metadata": {},
     "output_type": "execute_result"
    }
   ],
   "source": [
    "nexon.engine"
   ]
  },
  {
   "cell_type": "code",
   "execution_count": 24,
   "id": "8b8bf8e8",
   "metadata": {},
   "outputs": [],
   "source": [
    "class car:\n",
    "    def __init__(ankit, body_type,engine,fuel_type):\n",
    "        ankit.a = body_type\n",
    "        ankit.b = engine\n",
    "        ankit.c = fuel_type\n",
    "        \n",
    "    def test(ankit):\n",
    "        print(\"this is my first method in car class\")\n",
    "        "
   ]
  },
  {
   "cell_type": "code",
   "execution_count": 25,
   "id": "c3ba52d4",
   "metadata": {},
   "outputs": [],
   "source": [
    "fortuner = car(\"suv\",\"bs4\",\"petrol\")\n",
    "nexon = car(\"tata\",\"abc\",\"petrol\")"
   ]
  },
  {
   "cell_type": "code",
   "execution_count": 26,
   "id": "23edffce",
   "metadata": {},
   "outputs": [
    {
     "data": {
      "text/plain": [
       "'suv'"
      ]
     },
     "execution_count": 26,
     "metadata": {},
     "output_type": "execute_result"
    }
   ],
   "source": [
    "fortuner.a"
   ]
  },
  {
   "cell_type": "code",
   "execution_count": 27,
   "id": "d24c201f",
   "metadata": {},
   "outputs": [
    {
     "data": {
      "text/plain": [
       "'bs4'"
      ]
     },
     "execution_count": 27,
     "metadata": {},
     "output_type": "execute_result"
    }
   ],
   "source": [
    "fortuner.b"
   ]
  },
  {
   "cell_type": "code",
   "execution_count": 29,
   "id": "99e6acd2",
   "metadata": {},
   "outputs": [
    {
     "name": "stdout",
     "output_type": "stream",
     "text": [
      "this is my first method in car class\n"
     ]
    }
   ],
   "source": [
    "fortuner.test()"
   ]
  },
  {
   "cell_type": "code",
   "execution_count": 35,
   "id": "e0f06b7c",
   "metadata": {},
   "outputs": [],
   "source": [
    "#outside the class\n",
    "def test(ankit):\n",
    "        print(\"this is my first method in car class\")"
   ]
  },
  {
   "cell_type": "code",
   "execution_count": 37,
   "id": "ee0ba469",
   "metadata": {},
   "outputs": [
    {
     "ename": "TypeError",
     "evalue": "test() missing 1 required positional argument: 'ankit'",
     "output_type": "error",
     "traceback": [
      "\u001b[1;31m---------------------------------------------------------------------------\u001b[0m",
      "\u001b[1;31mTypeError\u001b[0m                                 Traceback (most recent call last)",
      "Input \u001b[1;32mIn [37]\u001b[0m, in \u001b[0;36m<cell line: 1>\u001b[1;34m()\u001b[0m\n\u001b[1;32m----> 1\u001b[0m \u001b[43mtest\u001b[49m\u001b[43m(\u001b[49m\u001b[43m)\u001b[49m\n",
      "\u001b[1;31mTypeError\u001b[0m: test() missing 1 required positional argument: 'ankit'"
     ]
    }
   ],
   "source": [
    "test()"
   ]
  },
  {
   "cell_type": "code",
   "execution_count": 44,
   "id": "b48a7cde",
   "metadata": {},
   "outputs": [],
   "source": [
    "class car:\n",
    "        \n",
    "    def test(ankit):#Here ankit used as a pointer like (self)\n",
    "        print(\"this is my first method in car class\")\n",
    "        "
   ]
  },
  {
   "cell_type": "markdown",
   "id": "714022f1",
   "metadata": {},
   "source": [
    "__init__ = it is just a constructor which will help us out to pass the data to the class if it is required.\n",
    "And it is required when we would like to initialise some sort of variable at the time of object creation. "
   ]
  },
  {
   "cell_type": "code",
   "execution_count": 49,
   "id": "73bb3651",
   "metadata": {},
   "outputs": [],
   "source": [
    "x = car()"
   ]
  },
  {
   "cell_type": "code",
   "execution_count": 50,
   "id": "0a889911",
   "metadata": {},
   "outputs": [
    {
     "name": "stdout",
     "output_type": "stream",
     "text": [
      "<class '__main__.car'>\n"
     ]
    }
   ],
   "source": [
    "print(type(x))"
   ]
  },
  {
   "cell_type": "code",
   "execution_count": 48,
   "id": "70a07338",
   "metadata": {},
   "outputs": [
    {
     "name": "stdout",
     "output_type": "stream",
     "text": [
      "this is my first method in car class\n"
     ]
    }
   ],
   "source": [
    "x.test()"
   ]
  },
  {
   "cell_type": "code",
   "execution_count": 54,
   "id": "17eadbd2",
   "metadata": {},
   "outputs": [],
   "source": [
    "class list_parser:\n",
    "    \n",
    "    def parcer(self, a ):\n",
    "        if type(a) == list:\n",
    "            for i in a:\n",
    "                print(i)\n",
    "                \n",
    "    def reverser_list(self,z):\n",
    "        if type(z) == list:\n",
    "            return z[::1]"
   ]
  },
  {
   "cell_type": "code",
   "execution_count": 55,
   "id": "4b3cba16",
   "metadata": {},
   "outputs": [
    {
     "name": "stdout",
     "output_type": "stream",
     "text": [
      "1\n",
      "2\n",
      "3\n",
      "4\n",
      "5\n"
     ]
    }
   ],
   "source": [
    "b = list_parser()\n",
    "b.parcer([1,2,3,4,5])"
   ]
  },
  {
   "cell_type": "code",
   "execution_count": 56,
   "id": "cba7f28d",
   "metadata": {},
   "outputs": [
    {
     "data": {
      "text/plain": [
       "[1, 2, 3, 4, 5]"
      ]
     },
     "execution_count": 56,
     "metadata": {},
     "output_type": "execute_result"
    }
   ],
   "source": [
    "b.reverser_list([1,2,3,4,5])"
   ]
  },
  {
   "cell_type": "code",
   "execution_count": 65,
   "id": "5b2d12a2",
   "metadata": {},
   "outputs": [],
   "source": [
    "class list_parser:\n",
    "    def __init__(self, l):\n",
    "        self.l=l\n",
    "    \n",
    "    def parcer(self):\n",
    "        if type(self.l) == list:\n",
    "            for i in self.l:\n",
    "                print(i)\n",
    "                \n",
    "    def reverser_list(self):\n",
    "        if type(self.l) == list:\n",
    "            return self.l[::-1]"
   ]
  },
  {
   "cell_type": "code",
   "execution_count": 66,
   "id": "b362ed6b",
   "metadata": {},
   "outputs": [
    {
     "name": "stdout",
     "output_type": "stream",
     "text": [
      "2\n",
      "3\n",
      "4\n",
      "5\n"
     ]
    }
   ],
   "source": [
    "b = list_parser([2,3,4,5])\n",
    "b.parcer()"
   ]
  },
  {
   "cell_type": "code",
   "execution_count": 67,
   "id": "04ffd3ec",
   "metadata": {},
   "outputs": [
    {
     "data": {
      "text/plain": [
       "[5, 4, 3, 2]"
      ]
     },
     "execution_count": 67,
     "metadata": {},
     "output_type": "execute_result"
    }
   ],
   "source": [
    "b.reverser_list()"
   ]
  },
  {
   "cell_type": "code",
   "execution_count": 14,
   "id": "d9486042",
   "metadata": {},
   "outputs": [],
   "source": [
    "class dict_parsing:\n",
    "    \n",
    "    def __init__(self,a):\n",
    "        self.a = a\n",
    "        \n",
    "    def getkeys(self):\n",
    "        if self.notdict():\n",
    "            return list(self.a.keys())\n",
    "        \n",
    "    def getvalues(self):\n",
    "        if self.notdict():\n",
    "            return list(self.a.values())\n",
    "        \n",
    "    def notdict(self):\n",
    "        if type(self.a) !=dict:\n",
    "            raise Exception(self.a,'Not a dictionary')\n",
    "        return 1\n",
    "    def userinput(self):\n",
    "        self.a = eval(input())\n",
    "        print(self.a,typr(self.a))\n",
    "        print(self.getkeys())\n",
    "        print(self.getvalues())\n",
    "        \n",
    "    def insertion(self,k,v):\n",
    "        self.a[k]=v"
   ]
  },
  {
   "cell_type": "code",
   "execution_count": 21,
   "id": "5c2a6344",
   "metadata": {},
   "outputs": [
    {
     "ename": "Exception",
     "evalue": "([1, 2, 3, 4, 5], 'Not a dictionary')",
     "output_type": "error",
     "traceback": [
      "\u001b[1;31m---------------------------------------------------------------------------\u001b[0m",
      "\u001b[1;31mException\u001b[0m                                 Traceback (most recent call last)",
      "Input \u001b[1;32mIn [21]\u001b[0m, in \u001b[0;36m<cell line: 2>\u001b[1;34m()\u001b[0m\n\u001b[0;32m      1\u001b[0m d\u001b[38;5;241m=\u001b[39mdict_parsing([\u001b[38;5;241m1\u001b[39m,\u001b[38;5;241m2\u001b[39m,\u001b[38;5;241m3\u001b[39m,\u001b[38;5;241m4\u001b[39m,\u001b[38;5;241m5\u001b[39m])\n\u001b[1;32m----> 2\u001b[0m \u001b[43md\u001b[49m\u001b[38;5;241;43m.\u001b[39;49m\u001b[43mnotdict\u001b[49m\u001b[43m(\u001b[49m\u001b[43m)\u001b[49m\n",
      "Input \u001b[1;32mIn [14]\u001b[0m, in \u001b[0;36mdict_parsing.notdict\u001b[1;34m(self)\u001b[0m\n\u001b[0;32m     14\u001b[0m \u001b[38;5;28;01mdef\u001b[39;00m \u001b[38;5;21mnotdict\u001b[39m(\u001b[38;5;28mself\u001b[39m):\n\u001b[0;32m     15\u001b[0m     \u001b[38;5;28;01mif\u001b[39;00m \u001b[38;5;28mtype\u001b[39m(\u001b[38;5;28mself\u001b[39m\u001b[38;5;241m.\u001b[39ma) \u001b[38;5;241m!=\u001b[39m\u001b[38;5;28mdict\u001b[39m:\n\u001b[1;32m---> 16\u001b[0m         \u001b[38;5;28;01mraise\u001b[39;00m \u001b[38;5;167;01mException\u001b[39;00m(\u001b[38;5;28mself\u001b[39m\u001b[38;5;241m.\u001b[39ma,\u001b[38;5;124m'\u001b[39m\u001b[38;5;124mNot a dictionary\u001b[39m\u001b[38;5;124m'\u001b[39m)\n\u001b[0;32m     17\u001b[0m     \u001b[38;5;28;01mreturn\u001b[39;00m \u001b[38;5;241m1\u001b[39m\n",
      "\u001b[1;31mException\u001b[0m: ([1, 2, 3, 4, 5], 'Not a dictionary')"
     ]
    }
   ],
   "source": [
    "d=dict_parsing([1,2,3,4,5])\n",
    "d.notdict()"
   ]
  },
  {
   "cell_type": "code",
   "execution_count": 22,
   "id": "3e860367",
   "metadata": {},
   "outputs": [
    {
     "name": "stdout",
     "output_type": "stream",
     "text": [
      "4\n"
     ]
    },
    {
     "ename": "NameError",
     "evalue": "name 'typr' is not defined",
     "output_type": "error",
     "traceback": [
      "\u001b[1;31m---------------------------------------------------------------------------\u001b[0m",
      "\u001b[1;31mNameError\u001b[0m                                 Traceback (most recent call last)",
      "Input \u001b[1;32mIn [22]\u001b[0m, in \u001b[0;36m<cell line: 1>\u001b[1;34m()\u001b[0m\n\u001b[1;32m----> 1\u001b[0m \u001b[43md\u001b[49m\u001b[38;5;241;43m.\u001b[39;49m\u001b[43muserinput\u001b[49m\u001b[43m(\u001b[49m\u001b[43m)\u001b[49m\n",
      "Input \u001b[1;32mIn [14]\u001b[0m, in \u001b[0;36mdict_parsing.userinput\u001b[1;34m(self)\u001b[0m\n\u001b[0;32m     18\u001b[0m \u001b[38;5;28;01mdef\u001b[39;00m \u001b[38;5;21muserinput\u001b[39m(\u001b[38;5;28mself\u001b[39m):\n\u001b[0;32m     19\u001b[0m     \u001b[38;5;28mself\u001b[39m\u001b[38;5;241m.\u001b[39ma \u001b[38;5;241m=\u001b[39m \u001b[38;5;28meval\u001b[39m(\u001b[38;5;28minput\u001b[39m())\n\u001b[1;32m---> 20\u001b[0m     \u001b[38;5;28mprint\u001b[39m(\u001b[38;5;28mself\u001b[39m\u001b[38;5;241m.\u001b[39ma,\u001b[43mtypr\u001b[49m(\u001b[38;5;28mself\u001b[39m\u001b[38;5;241m.\u001b[39ma))\n\u001b[0;32m     21\u001b[0m     \u001b[38;5;28mprint\u001b[39m(\u001b[38;5;28mself\u001b[39m\u001b[38;5;241m.\u001b[39mgetkeys())\n\u001b[0;32m     22\u001b[0m     \u001b[38;5;28mprint\u001b[39m(\u001b[38;5;28mself\u001b[39m\u001b[38;5;241m.\u001b[39mgetvalues())\n",
      "\u001b[1;31mNameError\u001b[0m: name 'typr' is not defined"
     ]
    }
   ],
   "source": [
    "d.userinput()"
   ]
  },
  {
   "cell_type": "code",
   "execution_count": 19,
   "id": "865dd759",
   "metadata": {},
   "outputs": [
    {
     "ename": "Exception",
     "evalue": "([1, 2, 3, 4, 5], 'Not a dictionary')",
     "output_type": "error",
     "traceback": [
      "\u001b[1;31m---------------------------------------------------------------------------\u001b[0m",
      "\u001b[1;31mException\u001b[0m                                 Traceback (most recent call last)",
      "Input \u001b[1;32mIn [19]\u001b[0m, in \u001b[0;36m<cell line: 1>\u001b[1;34m()\u001b[0m\n\u001b[1;32m----> 1\u001b[0m \u001b[43md\u001b[49m\u001b[38;5;241;43m.\u001b[39;49m\u001b[43mgetkeys\u001b[49m\u001b[43m(\u001b[49m\u001b[43m)\u001b[49m\n",
      "Input \u001b[1;32mIn [14]\u001b[0m, in \u001b[0;36mdict_parsing.getkeys\u001b[1;34m(self)\u001b[0m\n\u001b[0;32m      6\u001b[0m \u001b[38;5;28;01mdef\u001b[39;00m \u001b[38;5;21mgetkeys\u001b[39m(\u001b[38;5;28mself\u001b[39m):\n\u001b[1;32m----> 7\u001b[0m     \u001b[38;5;28;01mif\u001b[39;00m \u001b[38;5;28;43mself\u001b[39;49m\u001b[38;5;241;43m.\u001b[39;49m\u001b[43mnotdict\u001b[49m\u001b[43m(\u001b[49m\u001b[43m)\u001b[49m:\n\u001b[0;32m      8\u001b[0m         \u001b[38;5;28;01mreturn\u001b[39;00m \u001b[38;5;28mlist\u001b[39m(\u001b[38;5;28mself\u001b[39m\u001b[38;5;241m.\u001b[39ma\u001b[38;5;241m.\u001b[39mkeys())\n",
      "Input \u001b[1;32mIn [14]\u001b[0m, in \u001b[0;36mdict_parsing.notdict\u001b[1;34m(self)\u001b[0m\n\u001b[0;32m     14\u001b[0m \u001b[38;5;28;01mdef\u001b[39;00m \u001b[38;5;21mnotdict\u001b[39m(\u001b[38;5;28mself\u001b[39m):\n\u001b[0;32m     15\u001b[0m     \u001b[38;5;28;01mif\u001b[39;00m \u001b[38;5;28mtype\u001b[39m(\u001b[38;5;28mself\u001b[39m\u001b[38;5;241m.\u001b[39ma) \u001b[38;5;241m!=\u001b[39m\u001b[38;5;28mdict\u001b[39m:\n\u001b[1;32m---> 16\u001b[0m         \u001b[38;5;28;01mraise\u001b[39;00m \u001b[38;5;167;01mException\u001b[39;00m(\u001b[38;5;28mself\u001b[39m\u001b[38;5;241m.\u001b[39ma,\u001b[38;5;124m'\u001b[39m\u001b[38;5;124mNot a dictionary\u001b[39m\u001b[38;5;124m'\u001b[39m)\n\u001b[0;32m     17\u001b[0m     \u001b[38;5;28;01mreturn\u001b[39;00m \u001b[38;5;241m1\u001b[39m\n",
      "\u001b[1;31mException\u001b[0m: ([1, 2, 3, 4, 5], 'Not a dictionary')"
     ]
    }
   ],
   "source": [
    "d.getkeys()"
   ]
  },
  {
   "cell_type": "code",
   "execution_count": 24,
   "id": "44a5142f",
   "metadata": {},
   "outputs": [
    {
     "ename": "TypeError",
     "evalue": "'int' object does not support item assignment",
     "output_type": "error",
     "traceback": [
      "\u001b[1;31m---------------------------------------------------------------------------\u001b[0m",
      "\u001b[1;31mTypeError\u001b[0m                                 Traceback (most recent call last)",
      "Input \u001b[1;32mIn [24]\u001b[0m, in \u001b[0;36m<cell line: 1>\u001b[1;34m()\u001b[0m\n\u001b[1;32m----> 1\u001b[0m \u001b[43md\u001b[49m\u001b[38;5;241;43m.\u001b[39;49m\u001b[43minsertion\u001b[49m\u001b[43m(\u001b[49m\u001b[38;5;124;43m\"\u001b[39;49m\u001b[38;5;124;43mk\u001b[39;49m\u001b[38;5;124;43m\"\u001b[39;49m\u001b[43m,\u001b[49m\u001b[43m[\u001b[49m\u001b[38;5;241;43m24\u001b[39;49m\u001b[43m,\u001b[49m\u001b[38;5;241;43m53\u001b[39;49m\u001b[43m,\u001b[49m\u001b[38;5;241;43m84\u001b[39;49m\u001b[43m,\u001b[49m\u001b[38;5;241;43m2\u001b[39;49m\u001b[43m]\u001b[49m\u001b[43m)\u001b[49m\n",
      "Input \u001b[1;32mIn [14]\u001b[0m, in \u001b[0;36mdict_parsing.insertion\u001b[1;34m(self, k, v)\u001b[0m\n\u001b[0;32m     24\u001b[0m \u001b[38;5;28;01mdef\u001b[39;00m \u001b[38;5;21minsertion\u001b[39m(\u001b[38;5;28mself\u001b[39m,k,v):\n\u001b[1;32m---> 25\u001b[0m     \u001b[38;5;28mself\u001b[39m\u001b[38;5;241m.\u001b[39ma[k]\u001b[38;5;241m=\u001b[39mv\n",
      "\u001b[1;31mTypeError\u001b[0m: 'int' object does not support item assignment"
     ]
    }
   ],
   "source": [
    "d.insertion(\"k\",[24,53,84,2])"
   ]
  },
  {
   "cell_type": "code",
   "execution_count": 20,
   "id": "cc98f838",
   "metadata": {},
   "outputs": [
    {
     "ename": "Exception",
     "evalue": "([1, 2, 3, 4, 5], 'Not a dictionary')",
     "output_type": "error",
     "traceback": [
      "\u001b[1;31m---------------------------------------------------------------------------\u001b[0m",
      "\u001b[1;31mException\u001b[0m                                 Traceback (most recent call last)",
      "Input \u001b[1;32mIn [20]\u001b[0m, in \u001b[0;36m<cell line: 1>\u001b[1;34m()\u001b[0m\n\u001b[1;32m----> 1\u001b[0m \u001b[43md\u001b[49m\u001b[38;5;241;43m.\u001b[39;49m\u001b[43mgetvalues\u001b[49m\u001b[43m(\u001b[49m\u001b[43m)\u001b[49m\n",
      "Input \u001b[1;32mIn [14]\u001b[0m, in \u001b[0;36mdict_parsing.getvalues\u001b[1;34m(self)\u001b[0m\n\u001b[0;32m     10\u001b[0m \u001b[38;5;28;01mdef\u001b[39;00m \u001b[38;5;21mgetvalues\u001b[39m(\u001b[38;5;28mself\u001b[39m):\n\u001b[1;32m---> 11\u001b[0m     \u001b[38;5;28;01mif\u001b[39;00m \u001b[38;5;28;43mself\u001b[39;49m\u001b[38;5;241;43m.\u001b[39;49m\u001b[43mnotdict\u001b[49m\u001b[43m(\u001b[49m\u001b[43m)\u001b[49m:\n\u001b[0;32m     12\u001b[0m         \u001b[38;5;28;01mreturn\u001b[39;00m \u001b[38;5;28mlist\u001b[39m(\u001b[38;5;28mself\u001b[39m\u001b[38;5;241m.\u001b[39ma\u001b[38;5;241m.\u001b[39mvalues())\n",
      "Input \u001b[1;32mIn [14]\u001b[0m, in \u001b[0;36mdict_parsing.notdict\u001b[1;34m(self)\u001b[0m\n\u001b[0;32m     14\u001b[0m \u001b[38;5;28;01mdef\u001b[39;00m \u001b[38;5;21mnotdict\u001b[39m(\u001b[38;5;28mself\u001b[39m):\n\u001b[0;32m     15\u001b[0m     \u001b[38;5;28;01mif\u001b[39;00m \u001b[38;5;28mtype\u001b[39m(\u001b[38;5;28mself\u001b[39m\u001b[38;5;241m.\u001b[39ma) \u001b[38;5;241m!=\u001b[39m\u001b[38;5;28mdict\u001b[39m:\n\u001b[1;32m---> 16\u001b[0m         \u001b[38;5;28;01mraise\u001b[39;00m \u001b[38;5;167;01mException\u001b[39;00m(\u001b[38;5;28mself\u001b[39m\u001b[38;5;241m.\u001b[39ma,\u001b[38;5;124m'\u001b[39m\u001b[38;5;124mNot a dictionary\u001b[39m\u001b[38;5;124m'\u001b[39m)\n\u001b[0;32m     17\u001b[0m     \u001b[38;5;28;01mreturn\u001b[39;00m \u001b[38;5;241m1\u001b[39m\n",
      "\u001b[1;31mException\u001b[0m: ([1, 2, 3, 4, 5], 'Not a dictionary')"
     ]
    }
   ],
   "source": [
    "d.getvalues()"
   ]
  },
  {
   "cell_type": "code",
   "execution_count": 25,
   "id": "77502113",
   "metadata": {},
   "outputs": [
    {
     "data": {
      "text/plain": [
       "<_io.TextIOWrapper name='mydict.py' mode='w' encoding='cp1252'>"
      ]
     },
     "execution_count": 25,
     "metadata": {},
     "output_type": "execute_result"
    }
   ],
   "source": [
    "open(\"mydict.py\" , \"w\")"
   ]
  },
  {
   "cell_type": "code",
   "execution_count": 26,
   "id": "a00a55b7",
   "metadata": {},
   "outputs": [
    {
     "name": "stdout",
     "output_type": "stream",
     "text": [
      " Volume in drive C is Windows\n",
      " Volume Serial Number is 4085-8304\n",
      "\n",
      " Directory of C:\\Users\\ABHI\n",
      "\n",
      "04/27/2023  04:24 AM    <DIR>          .\n",
      "04/27/2023  04:24 AM    <DIR>          ..\n",
      "03/04/2022  08:42 AM    <DIR>          .atom\n",
      "01/09/2023  04:10 AM                 6 .bash_history\n",
      "04/25/2023  04:48 AM    <DIR>          .conda\n",
      "07/14/2022  09:40 PM                25 .condarc\n",
      "07/14/2022  09:39 PM    <DIR>          .continuum\n",
      "10/18/2021  12:02 PM    <DIR>          .eclipse\n",
      "03/26/2023  04:06 AM                53 .git-for-windows-updater\n",
      "04/25/2023  04:46 AM    <DIR>          .idea\n",
      "04/27/2023  04:20 AM    <DIR>          .ipynb_checkpoints\n",
      "07/14/2022  09:42 PM    <DIR>          .ipython\n",
      "02/23/2023  11:29 AM    <DIR>          .jupyter\n",
      "03/24/2022  01:53 AM    <DIR>          .m2\n",
      "02/23/2023  11:28 AM    <DIR>          .matplotlib\n",
      "03/23/2022  11:58 PM    <DIR>          .tooling\n",
      "03/17/2022  04:36 AM    <DIR>          .vscode\n",
      "04/25/2023  02:46 AM    <DIR>          __pycache__\n",
      "02/06/2022  09:41 PM    <DIR>          3D Objects\n",
      "07/14/2022  09:35 PM    <DIR>          anaconda3\n",
      "02/06/2022  09:41 PM    <DIR>          Contacts\n",
      "04/09/2023  09:37 AM    <DIR>          Desktop\n",
      "07/14/2022  09:35 PM    <DIR>          Documents\n",
      "04/26/2023  11:42 AM    <DIR>          Downloads\n",
      "04/23/2023  04:45 AM            35,159 Exception Handling  Class 2.ipynb\n",
      "04/22/2023  03:48 AM             8,626 Exception Handling Class 1 Part 1.ipynb\n",
      "02/06/2022  09:41 PM    <DIR>          Favorites\n",
      "07/15/2022  12:51 AM             2,620 First_program.ipynb\n",
      "03/03/2023  01:44 AM            24,083 For Loops While Loops.ipynb\n",
      "03/05/2023  06:11 AM            15,166 Function 1.ipynb\n",
      "03/06/2023  03:00 AM            32,057 Functions 2.ipynb\n",
      "08/06/2022  11:46 PM               860 functions using list and string .ipynb\n",
      "08/14/2022  09:34 AM            29,407 Functions.ipynb\n",
      "02/25/2023  12:43 PM            14,577 If ,Else & For Loop.ipynb\n",
      "04/21/2023  12:16 PM            86,510 ITERATOR GENERATOR FILE SYSTEM.ipynb\n",
      "08/11/2022  01:59 AM            10,483 lecture 3.ipynb\n",
      "02/06/2022  09:41 PM    <DIR>          Links\n",
      "07/27/2022  06:06 AM             6,739 LIST.ipynb\n",
      "08/02/2022  11:59 PM               589 list1.ipynb\n",
      "04/23/2023  06:17 AM             3,932 Logging.ipynb\n",
      "08/04/2022  12:11 AM               589 Loops.ipynb\n",
      "04/25/2023  07:21 AM            35,640 Module & Packages.ipynb\n",
      "04/25/2023  01:51 AM               187 module1.py\n",
      "02/06/2022  09:41 PM    <DIR>          Music\n",
      "02/26/2023  02:32 PM             1,531 My Cosmetics.ipynb\n",
      "04/25/2023  02:46 AM               241 my_module.py\n",
      "04/27/2023  04:24 AM                 0 mydict.py\n",
      "01/21/2022  04:56 AM    <DIR>          OneDrive\n",
      "04/27/2023  04:23 AM            19,822 OOPs 1.ipynb\n",
      "08/13/2022  04:01 AM            10,586 Patterns.ipynb\n",
      "02/06/2022  09:41 PM    <DIR>          Pictures\n",
      "03/24/2022  01:14 AM    <DIR>          Postman\n",
      "04/24/2023  08:39 AM             7,499 PYHTON BASICS ASSIGNM,ENT 5.ipynb\n",
      "04/22/2023  09:06 AM             4,775 PYHTON BASICS ASSIGNMENT 3.ipynb\n",
      "04/22/2023  09:57 AM             9,462 PYHTON BASICS ASSIGNMENT 4.ipynb\n",
      "04/26/2023  11:42 AM             8,882 PYTHON BASICS AASIGNMENT 6.ipynb\n",
      "04/19/2023  12:05 AM             5,948 PYTHON BASICS ASSIGNMENT 1.ipynb\n",
      "04/20/2023  12:32 AM            10,721 PYTHON BASICS ASSIGNMENT 2.ipynb\n",
      "02/23/2023  06:14 AM            15,972 Python Basics.ipynb\n",
      "08/10/2022  01:48 AM               646 python numbers.ipynb\n",
      "03/04/2023  03:48 AM             6,515 Python Program Discussion In Loops  .ipynb\n",
      "03/04/2023  06:02 AM             9,589 Python Program Discussion In Loops.ipynb\n",
      "02/06/2022  09:41 PM    <DIR>          Saved Games\n",
      "02/06/2022  09:41 PM    <DIR>          Searches\n",
      "07/14/2022  09:51 PM               916 second_program.ipynb\n",
      "08/15/2022  04:27 AM            26,965 sets.ipynb\n",
      "02/23/2023  11:33 AM               718 String ,Lists ,Indexing .ipynb\n",
      "02/24/2023  03:38 AM            43,911 String ,Lists ,Indexing.ipynb\n",
      "04/23/2023  05:35 AM             1,246 test.log\n",
      "04/22/2023  03:00 AM                23 test.txt\n",
      "04/25/2023  02:09 AM               252 test1.py\n",
      "04/23/2023  01:50 AM                22 test1.txt\n",
      "04/23/2023  06:07 AM             2,433 test2.log\n",
      "04/21/2023  07:17 AM                49 test2.txt\n",
      "04/23/2023  06:20 AM               655 test4.log\n",
      "04/23/2023  02:10 AM                 0 test42.txt\n",
      "02/25/2023  03:05 AM            40,003 Tuple ,Set & Dict.ipynb\n",
      "07/16/2022  01:30 AM             1,175 Untitled.ipynb\n",
      "07/17/2022  11:38 AM               589 Untitled1.ipynb\n",
      "02/23/2023  11:23 AM               589 Untitled10.ipynb\n",
      "02/23/2023  11:43 AM                72 Untitled11.ipynb\n",
      "02/23/2023  11:30 AM                72 Untitled12.ipynb\n",
      "04/20/2023  02:55 AM               589 Untitled13.ipynb\n",
      "04/27/2023  04:22 AM               589 Untitled14.ipynb\n",
      "07/28/2022  01:58 AM               589 Untitled2.ipynb\n",
      "08/13/2022  08:18 AM            10,010 Untitled3.ipynb\n",
      "08/14/2022  05:04 AM            40,575 Untitled4.ipynb\n",
      "09/05/2022  03:04 AM               589 Untitled5.ipynb\n",
      "09/10/2022  10:13 PM               589 Untitled6.ipynb\n",
      "09/23/2022  12:19 AM               589 Untitled7.ipynb\n",
      "02/22/2023  01:56 AM               589 Untitled8.ipynb\n",
      "02/23/2023  11:19 AM               589 Untitled9.ipynb\n",
      "03/29/2022  07:32 AM    <DIR>          Videos\n",
      "09/11/2022  05:25 AM         9,192,878 working with files.ipynb\n",
      "              64 File(s)      9,787,362 bytes\n",
      "              30 Dir(s)  58,522,984,448 bytes free\n"
     ]
    }
   ],
   "source": [
    "ls"
   ]
  },
  {
   "cell_type": "code",
   "execution_count": null,
   "id": "cee1712c",
   "metadata": {},
   "outputs": [],
   "source": []
  }
 ],
 "metadata": {
  "kernelspec": {
   "display_name": "Python 3 (ipykernel)",
   "language": "python",
   "name": "python3"
  },
  "language_info": {
   "codemirror_mode": {
    "name": "ipython",
    "version": 3
   },
   "file_extension": ".py",
   "mimetype": "text/x-python",
   "name": "python",
   "nbconvert_exporter": "python",
   "pygments_lexer": "ipython3",
   "version": "3.9.12"
  }
 },
 "nbformat": 4,
 "nbformat_minor": 5
}
