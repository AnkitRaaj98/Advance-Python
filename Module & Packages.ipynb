{
 "cells": [
  {
   "cell_type": "code",
   "execution_count": 1,
   "id": "de859512",
   "metadata": {},
   "outputs": [],
   "source": [
    "import os"
   ]
  },
  {
   "cell_type": "code",
   "execution_count": null,
   "id": "b9cad8ef",
   "metadata": {},
   "outputs": [],
   "source": [
    "def test(a,b):\n",
    "    return a,b"
   ]
  },
  {
   "cell_type": "markdown",
   "id": "5c59f1d2",
   "metadata": {},
   "source": [
    "Modules are piece of code or collection of code which we can keep inside the files.\n",
    "we are supposed to write once and use many times this is where modules comes into picture."
   ]
  },
  {
   "cell_type": "code",
   "execution_count": 3,
   "id": "bc97417c",
   "metadata": {},
   "outputs": [
    {
     "data": {
      "text/plain": [
       "'C:\\\\Users\\\\ABHI'"
      ]
     },
     "execution_count": 3,
     "metadata": {},
     "output_type": "execute_result"
    }
   ],
   "source": [
    "pwd()"
   ]
  },
  {
   "cell_type": "code",
   "execution_count": 4,
   "id": "0d74c53e",
   "metadata": {},
   "outputs": [
    {
     "name": "stdout",
     "output_type": "stream",
     "text": [
      " Volume in drive C is Windows\n",
      " Volume Serial Number is 4085-8304\n",
      "\n",
      " Directory of C:\\Users\\ABHI\n",
      "\n",
      "04/25/2023  12:58 AM    <DIR>          .\n",
      "04/25/2023  12:58 AM    <DIR>          ..\n",
      "03/04/2022  08:42 AM    <DIR>          .atom\n",
      "01/09/2023  04:10 AM                 6 .bash_history\n",
      "02/23/2023  10:24 PM    <DIR>          .conda\n",
      "07/14/2022  09:40 PM                25 .condarc\n",
      "07/14/2022  09:39 PM    <DIR>          .continuum\n",
      "10/18/2021  12:02 PM    <DIR>          .eclipse\n",
      "03/26/2023  04:06 AM                53 .git-for-windows-updater\n",
      "04/25/2023  12:09 AM    <DIR>          .ipynb_checkpoints\n",
      "07/14/2022  09:42 PM    <DIR>          .ipython\n",
      "02/23/2023  11:29 AM    <DIR>          .jupyter\n",
      "03/24/2022  01:53 AM    <DIR>          .m2\n",
      "02/23/2023  11:28 AM    <DIR>          .matplotlib\n",
      "03/23/2022  11:58 PM    <DIR>          .tooling\n",
      "03/17/2022  04:36 AM    <DIR>          .vscode\n",
      "02/06/2022  09:41 PM    <DIR>          3D Objects\n",
      "07/14/2022  09:35 PM    <DIR>          anaconda3\n",
      "02/06/2022  09:41 PM    <DIR>          Contacts\n",
      "04/09/2023  09:37 AM    <DIR>          Desktop\n",
      "07/14/2022  09:35 PM    <DIR>          Documents\n",
      "04/25/2023  12:37 AM    <DIR>          Downloads\n",
      "04/23/2023  04:45 AM            35,159 Exception Handling  Class 2.ipynb\n",
      "04/22/2023  03:48 AM             8,626 Exception Handling Class 1 Part 1.ipynb\n",
      "02/06/2022  09:41 PM    <DIR>          Favorites\n",
      "07/15/2022  12:51 AM             2,620 First_program.ipynb\n",
      "03/03/2023  01:44 AM            24,083 For Loops While Loops.ipynb\n",
      "03/05/2023  06:11 AM            15,166 Function 1.ipynb\n",
      "03/06/2023  03:00 AM            32,057 Functions 2.ipynb\n",
      "08/06/2022  11:46 PM               860 functions using list and string .ipynb\n",
      "08/14/2022  09:34 AM            29,407 Functions.ipynb\n",
      "02/25/2023  12:43 PM            14,577 If ,Else & For Loop.ipynb\n",
      "04/21/2023  12:16 PM            86,510 ITERATOR GENERATOR FILE SYSTEM.ipynb\n",
      "08/11/2022  01:59 AM            10,483 lecture 3.ipynb\n",
      "02/06/2022  09:41 PM    <DIR>          Links\n",
      "07/27/2022  06:06 AM             6,739 LIST.ipynb\n",
      "08/02/2022  11:59 PM               589 list1.ipynb\n",
      "04/23/2023  06:17 AM             3,932 Logging.ipynb\n",
      "08/04/2022  12:11 AM               589 Loops.ipynb\n",
      "04/25/2023  12:58 AM             1,545 Module & Packages.ipynb\n",
      "04/25/2023  12:54 AM                 0 module1.py\n",
      "02/06/2022  09:41 PM    <DIR>          Music\n",
      "02/26/2023  02:32 PM             1,531 My Cosmetics.ipynb\n",
      "01/21/2022  04:56 AM    <DIR>          OneDrive\n",
      "08/13/2022  04:01 AM            10,586 Patterns.ipynb\n",
      "02/06/2022  09:41 PM    <DIR>          Pictures\n",
      "03/24/2022  01:14 AM    <DIR>          Postman\n",
      "04/24/2023  08:39 AM             7,499 PYHTON BASICS ASSIGNM,ENT 5.ipynb\n",
      "04/22/2023  09:06 AM             4,775 PYHTON BASICS ASSIGNMENT 3.ipynb\n",
      "04/22/2023  09:57 AM             9,462 PYHTON BASICS ASSIGNMENT 4.ipynb\n",
      "04/19/2023  12:05 AM             5,948 PYTHON BASICS ASSIGNMENT 1.ipynb\n",
      "04/20/2023  12:32 AM            10,721 PYTHON BASICS ASSIGNMENT 2.ipynb\n",
      "02/23/2023  06:14 AM            15,972 Python Basics.ipynb\n",
      "08/10/2022  01:48 AM               646 python numbers.ipynb\n",
      "03/04/2023  03:48 AM             6,515 Python Program Discussion In Loops  .ipynb\n",
      "03/04/2023  06:02 AM             9,589 Python Program Discussion In Loops.ipynb\n",
      "02/06/2022  09:41 PM    <DIR>          Saved Games\n",
      "02/06/2022  09:41 PM    <DIR>          Searches\n",
      "07/14/2022  09:51 PM               916 second_program.ipynb\n",
      "08/15/2022  04:27 AM            26,965 sets.ipynb\n",
      "02/23/2023  11:33 AM               718 String ,Lists ,Indexing .ipynb\n",
      "02/24/2023  03:38 AM            43,911 String ,Lists ,Indexing.ipynb\n",
      "04/23/2023  05:35 AM             1,246 test.log\n",
      "04/22/2023  03:00 AM                23 test.txt\n",
      "04/23/2023  01:50 AM                22 test1.txt\n",
      "04/23/2023  06:07 AM             2,433 test2.log\n",
      "04/21/2023  07:17 AM                49 test2.txt\n",
      "04/23/2023  06:20 AM               655 test4.log\n",
      "04/23/2023  02:10 AM                 0 test42.txt\n",
      "02/25/2023  03:05 AM            40,003 Tuple ,Set & Dict.ipynb\n",
      "07/16/2022  01:30 AM             1,175 Untitled.ipynb\n",
      "07/17/2022  11:38 AM               589 Untitled1.ipynb\n",
      "02/23/2023  11:23 AM               589 Untitled10.ipynb\n",
      "02/23/2023  11:43 AM                72 Untitled11.ipynb\n",
      "02/23/2023  11:30 AM                72 Untitled12.ipynb\n",
      "04/20/2023  02:55 AM               589 Untitled13.ipynb\n",
      "07/28/2022  01:58 AM               589 Untitled2.ipynb\n",
      "08/13/2022  08:18 AM            10,010 Untitled3.ipynb\n",
      "08/14/2022  05:04 AM            40,575 Untitled4.ipynb\n",
      "09/05/2022  03:04 AM               589 Untitled5.ipynb\n",
      "09/10/2022  10:13 PM               589 Untitled6.ipynb\n",
      "09/23/2022  12:19 AM               589 Untitled7.ipynb\n",
      "02/22/2023  01:56 AM               589 Untitled8.ipynb\n",
      "02/23/2023  11:19 AM               589 Untitled9.ipynb\n",
      "03/29/2022  07:32 AM    <DIR>          Videos\n",
      "09/11/2022  05:25 AM         9,192,878 working with files.ipynb\n",
      "              58 File(s)      9,723,294 bytes\n",
      "              28 Dir(s)  76,526,219,264 bytes free\n"
     ]
    }
   ],
   "source": [
    "ls"
   ]
  },
  {
   "cell_type": "code",
   "execution_count": 5,
   "id": "5ce222c4",
   "metadata": {},
   "outputs": [
    {
     "name": "stdout",
     "output_type": "stream",
     "text": [
      " Volume in drive C is Windows\n",
      " Volume Serial Number is 4085-8304\n",
      "\n",
      " Directory of C:\\Users\\ABHI\n",
      "\n",
      "04/25/2023  01:00 AM    <DIR>          .\n",
      "04/25/2023  01:00 AM    <DIR>          ..\n",
      "03/04/2022  08:42 AM    <DIR>          .atom\n",
      "01/09/2023  04:10 AM                 6 .bash_history\n",
      "02/23/2023  10:24 PM    <DIR>          .conda\n",
      "07/14/2022  09:40 PM                25 .condarc\n",
      "07/14/2022  09:39 PM    <DIR>          .continuum\n",
      "10/18/2021  12:02 PM    <DIR>          .eclipse\n",
      "03/26/2023  04:06 AM                53 .git-for-windows-updater\n",
      "04/25/2023  12:09 AM    <DIR>          .ipynb_checkpoints\n",
      "07/14/2022  09:42 PM    <DIR>          .ipython\n",
      "02/23/2023  11:29 AM    <DIR>          .jupyter\n",
      "03/24/2022  01:53 AM    <DIR>          .m2\n",
      "02/23/2023  11:28 AM    <DIR>          .matplotlib\n",
      "03/23/2022  11:58 PM    <DIR>          .tooling\n",
      "03/17/2022  04:36 AM    <DIR>          .vscode\n",
      "02/06/2022  09:41 PM    <DIR>          3D Objects\n",
      "07/14/2022  09:35 PM    <DIR>          anaconda3\n",
      "02/06/2022  09:41 PM    <DIR>          Contacts\n",
      "04/09/2023  09:37 AM    <DIR>          Desktop\n",
      "07/14/2022  09:35 PM    <DIR>          Documents\n",
      "04/25/2023  12:37 AM    <DIR>          Downloads\n",
      "04/23/2023  04:45 AM            35,159 Exception Handling  Class 2.ipynb\n",
      "04/22/2023  03:48 AM             8,626 Exception Handling Class 1 Part 1.ipynb\n",
      "02/06/2022  09:41 PM    <DIR>          Favorites\n",
      "07/15/2022  12:51 AM             2,620 First_program.ipynb\n",
      "03/03/2023  01:44 AM            24,083 For Loops While Loops.ipynb\n",
      "03/05/2023  06:11 AM            15,166 Function 1.ipynb\n",
      "03/06/2023  03:00 AM            32,057 Functions 2.ipynb\n",
      "08/06/2022  11:46 PM               860 functions using list and string .ipynb\n",
      "08/14/2022  09:34 AM            29,407 Functions.ipynb\n",
      "02/25/2023  12:43 PM            14,577 If ,Else & For Loop.ipynb\n",
      "04/21/2023  12:16 PM            86,510 ITERATOR GENERATOR FILE SYSTEM.ipynb\n",
      "08/11/2022  01:59 AM            10,483 lecture 3.ipynb\n",
      "02/06/2022  09:41 PM    <DIR>          Links\n",
      "07/27/2022  06:06 AM             6,739 LIST.ipynb\n",
      "08/02/2022  11:59 PM               589 list1.ipynb\n",
      "04/23/2023  06:17 AM             3,932 Logging.ipynb\n",
      "08/04/2022  12:11 AM               589 Loops.ipynb\n",
      "04/25/2023  01:00 AM             7,779 Module & Packages.ipynb\n",
      "04/25/2023  12:54 AM                 0 module1.py\n",
      "02/06/2022  09:41 PM    <DIR>          Music\n",
      "02/26/2023  02:32 PM             1,531 My Cosmetics.ipynb\n",
      "01/21/2022  04:56 AM    <DIR>          OneDrive\n",
      "08/13/2022  04:01 AM            10,586 Patterns.ipynb\n",
      "02/06/2022  09:41 PM    <DIR>          Pictures\n",
      "03/24/2022  01:14 AM    <DIR>          Postman\n",
      "04/24/2023  08:39 AM             7,499 PYHTON BASICS ASSIGNM,ENT 5.ipynb\n",
      "04/22/2023  09:06 AM             4,775 PYHTON BASICS ASSIGNMENT 3.ipynb\n",
      "04/22/2023  09:57 AM             9,462 PYHTON BASICS ASSIGNMENT 4.ipynb\n",
      "04/19/2023  12:05 AM             5,948 PYTHON BASICS ASSIGNMENT 1.ipynb\n",
      "04/20/2023  12:32 AM            10,721 PYTHON BASICS ASSIGNMENT 2.ipynb\n",
      "02/23/2023  06:14 AM            15,972 Python Basics.ipynb\n",
      "08/10/2022  01:48 AM               646 python numbers.ipynb\n",
      "03/04/2023  03:48 AM             6,515 Python Program Discussion In Loops  .ipynb\n",
      "03/04/2023  06:02 AM             9,589 Python Program Discussion In Loops.ipynb\n",
      "02/06/2022  09:41 PM    <DIR>          Saved Games\n",
      "02/06/2022  09:41 PM    <DIR>          Searches\n",
      "07/14/2022  09:51 PM               916 second_program.ipynb\n",
      "08/15/2022  04:27 AM            26,965 sets.ipynb\n",
      "02/23/2023  11:33 AM               718 String ,Lists ,Indexing .ipynb\n",
      "02/24/2023  03:38 AM            43,911 String ,Lists ,Indexing.ipynb\n",
      "04/23/2023  05:35 AM             1,246 test.log\n",
      "04/22/2023  03:00 AM                23 test.txt\n",
      "04/23/2023  01:50 AM                22 test1.txt\n",
      "04/23/2023  06:07 AM             2,433 test2.log\n",
      "04/21/2023  07:17 AM                49 test2.txt\n",
      "04/23/2023  06:20 AM               655 test4.log\n",
      "04/23/2023  02:10 AM                 0 test42.txt\n",
      "02/25/2023  03:05 AM            40,003 Tuple ,Set & Dict.ipynb\n",
      "07/16/2022  01:30 AM             1,175 Untitled.ipynb\n",
      "07/17/2022  11:38 AM               589 Untitled1.ipynb\n",
      "02/23/2023  11:23 AM               589 Untitled10.ipynb\n",
      "02/23/2023  11:43 AM                72 Untitled11.ipynb\n",
      "02/23/2023  11:30 AM                72 Untitled12.ipynb\n",
      "04/20/2023  02:55 AM               589 Untitled13.ipynb\n",
      "07/28/2022  01:58 AM               589 Untitled2.ipynb\n",
      "08/13/2022  08:18 AM            10,010 Untitled3.ipynb\n",
      "08/14/2022  05:04 AM            40,575 Untitled4.ipynb\n",
      "09/05/2022  03:04 AM               589 Untitled5.ipynb\n",
      "09/10/2022  10:13 PM               589 Untitled6.ipynb\n",
      "09/23/2022  12:19 AM               589 Untitled7.ipynb\n",
      "02/22/2023  01:56 AM               589 Untitled8.ipynb\n",
      "02/23/2023  11:19 AM               589 Untitled9.ipynb\n",
      "03/29/2022  07:32 AM    <DIR>          Videos\n",
      "09/11/2022  05:25 AM         9,192,878 working with files.ipynb\n",
      "              58 File(s)      9,729,528 bytes\n",
      "              28 Dir(s)  76,522,856,448 bytes free\n"
     ]
    }
   ],
   "source": [
    "ls"
   ]
  },
  {
   "cell_type": "markdown",
   "id": "2b8572e4",
   "metadata": {},
   "source": [
    "When we don't want to use notepad++ then we have to do this.(Belo)"
   ]
  },
  {
   "cell_type": "code",
   "execution_count": 6,
   "id": "72a89cf3",
   "metadata": {},
   "outputs": [
    {
     "data": {
      "text/plain": [
       "<_io.TextIOWrapper name='test1.py' mode='w' encoding='cp1252'>"
      ]
     },
     "execution_count": 6,
     "metadata": {},
     "output_type": "execute_result"
    }
   ],
   "source": [
    "open(\"test1.py\",\"w\")"
   ]
  },
  {
   "cell_type": "code",
   "execution_count": 7,
   "id": "7b372391",
   "metadata": {},
   "outputs": [
    {
     "name": "stdout",
     "output_type": "stream",
     "text": [
      " Volume in drive C is Windows\n",
      " Volume Serial Number is 4085-8304\n",
      "\n",
      " Directory of C:\\Users\\ABHI\n",
      "\n",
      "04/25/2023  01:10 AM    <DIR>          .\n",
      "04/25/2023  01:10 AM    <DIR>          ..\n",
      "03/04/2022  08:42 AM    <DIR>          .atom\n",
      "01/09/2023  04:10 AM                 6 .bash_history\n",
      "02/23/2023  10:24 PM    <DIR>          .conda\n",
      "07/14/2022  09:40 PM                25 .condarc\n",
      "07/14/2022  09:39 PM    <DIR>          .continuum\n",
      "10/18/2021  12:02 PM    <DIR>          .eclipse\n",
      "03/26/2023  04:06 AM                53 .git-for-windows-updater\n",
      "04/25/2023  12:09 AM    <DIR>          .ipynb_checkpoints\n",
      "07/14/2022  09:42 PM    <DIR>          .ipython\n",
      "02/23/2023  11:29 AM    <DIR>          .jupyter\n",
      "03/24/2022  01:53 AM    <DIR>          .m2\n",
      "02/23/2023  11:28 AM    <DIR>          .matplotlib\n",
      "03/23/2022  11:58 PM    <DIR>          .tooling\n",
      "03/17/2022  04:36 AM    <DIR>          .vscode\n",
      "02/06/2022  09:41 PM    <DIR>          3D Objects\n",
      "07/14/2022  09:35 PM    <DIR>          anaconda3\n",
      "02/06/2022  09:41 PM    <DIR>          Contacts\n",
      "04/09/2023  09:37 AM    <DIR>          Desktop\n",
      "07/14/2022  09:35 PM    <DIR>          Documents\n",
      "04/25/2023  12:37 AM    <DIR>          Downloads\n",
      "04/23/2023  04:45 AM            35,159 Exception Handling  Class 2.ipynb\n",
      "04/22/2023  03:48 AM             8,626 Exception Handling Class 1 Part 1.ipynb\n",
      "02/06/2022  09:41 PM    <DIR>          Favorites\n",
      "07/15/2022  12:51 AM             2,620 First_program.ipynb\n",
      "03/03/2023  01:44 AM            24,083 For Loops While Loops.ipynb\n",
      "03/05/2023  06:11 AM            15,166 Function 1.ipynb\n",
      "03/06/2023  03:00 AM            32,057 Functions 2.ipynb\n",
      "08/06/2022  11:46 PM               860 functions using list and string .ipynb\n",
      "08/14/2022  09:34 AM            29,407 Functions.ipynb\n",
      "02/25/2023  12:43 PM            14,577 If ,Else & For Loop.ipynb\n",
      "04/21/2023  12:16 PM            86,510 ITERATOR GENERATOR FILE SYSTEM.ipynb\n",
      "08/11/2022  01:59 AM            10,483 lecture 3.ipynb\n",
      "02/06/2022  09:41 PM    <DIR>          Links\n",
      "07/27/2022  06:06 AM             6,739 LIST.ipynb\n",
      "08/02/2022  11:59 PM               589 list1.ipynb\n",
      "04/23/2023  06:17 AM             3,932 Logging.ipynb\n",
      "08/04/2022  12:11 AM               589 Loops.ipynb\n",
      "04/25/2023  01:10 AM            14,576 Module & Packages.ipynb\n",
      "04/25/2023  12:54 AM                 0 module1.py\n",
      "02/06/2022  09:41 PM    <DIR>          Music\n",
      "02/26/2023  02:32 PM             1,531 My Cosmetics.ipynb\n",
      "01/21/2022  04:56 AM    <DIR>          OneDrive\n",
      "08/13/2022  04:01 AM            10,586 Patterns.ipynb\n",
      "02/06/2022  09:41 PM    <DIR>          Pictures\n",
      "03/24/2022  01:14 AM    <DIR>          Postman\n",
      "04/24/2023  08:39 AM             7,499 PYHTON BASICS ASSIGNM,ENT 5.ipynb\n",
      "04/22/2023  09:06 AM             4,775 PYHTON BASICS ASSIGNMENT 3.ipynb\n",
      "04/22/2023  09:57 AM             9,462 PYHTON BASICS ASSIGNMENT 4.ipynb\n",
      "04/19/2023  12:05 AM             5,948 PYTHON BASICS ASSIGNMENT 1.ipynb\n",
      "04/20/2023  12:32 AM            10,721 PYTHON BASICS ASSIGNMENT 2.ipynb\n",
      "02/23/2023  06:14 AM            15,972 Python Basics.ipynb\n",
      "08/10/2022  01:48 AM               646 python numbers.ipynb\n",
      "03/04/2023  03:48 AM             6,515 Python Program Discussion In Loops  .ipynb\n",
      "03/04/2023  06:02 AM             9,589 Python Program Discussion In Loops.ipynb\n",
      "02/06/2022  09:41 PM    <DIR>          Saved Games\n",
      "02/06/2022  09:41 PM    <DIR>          Searches\n",
      "07/14/2022  09:51 PM               916 second_program.ipynb\n",
      "08/15/2022  04:27 AM            26,965 sets.ipynb\n",
      "02/23/2023  11:33 AM               718 String ,Lists ,Indexing .ipynb\n",
      "02/24/2023  03:38 AM            43,911 String ,Lists ,Indexing.ipynb\n",
      "04/23/2023  05:35 AM             1,246 test.log\n",
      "04/22/2023  03:00 AM                23 test.txt\n",
      "04/25/2023  01:10 AM                 0 test1.py\n",
      "04/23/2023  01:50 AM                22 test1.txt\n",
      "04/23/2023  06:07 AM             2,433 test2.log\n",
      "04/21/2023  07:17 AM                49 test2.txt\n",
      "04/23/2023  06:20 AM               655 test4.log\n",
      "04/23/2023  02:10 AM                 0 test42.txt\n",
      "02/25/2023  03:05 AM            40,003 Tuple ,Set & Dict.ipynb\n",
      "07/16/2022  01:30 AM             1,175 Untitled.ipynb\n",
      "07/17/2022  11:38 AM               589 Untitled1.ipynb\n",
      "02/23/2023  11:23 AM               589 Untitled10.ipynb\n",
      "02/23/2023  11:43 AM                72 Untitled11.ipynb\n",
      "02/23/2023  11:30 AM                72 Untitled12.ipynb\n",
      "04/20/2023  02:55 AM               589 Untitled13.ipynb\n",
      "07/28/2022  01:58 AM               589 Untitled2.ipynb\n",
      "08/13/2022  08:18 AM            10,010 Untitled3.ipynb\n",
      "08/14/2022  05:04 AM            40,575 Untitled4.ipynb\n",
      "09/05/2022  03:04 AM               589 Untitled5.ipynb\n",
      "09/10/2022  10:13 PM               589 Untitled6.ipynb\n",
      "09/23/2022  12:19 AM               589 Untitled7.ipynb\n",
      "02/22/2023  01:56 AM               589 Untitled8.ipynb\n",
      "02/23/2023  11:19 AM               589 Untitled9.ipynb\n",
      "03/29/2022  07:32 AM    <DIR>          Videos\n",
      "09/11/2022  05:25 AM         9,192,878 working with files.ipynb\n",
      "              59 File(s)      9,736,325 bytes\n",
      "              28 Dir(s)  76,522,266,624 bytes free\n"
     ]
    }
   ],
   "source": [
    "ls"
   ]
  },
  {
   "cell_type": "code",
   "execution_count": 24,
   "id": "f36c7ddd",
   "metadata": {},
   "outputs": [],
   "source": [
    "import test1"
   ]
  },
  {
   "cell_type": "code",
   "execution_count": 25,
   "id": "6b199d5e",
   "metadata": {},
   "outputs": [
    {
     "data": {
      "text/plain": [
       "9"
      ]
     },
     "execution_count": 25,
     "metadata": {},
     "output_type": "execute_result"
    }
   ],
   "source": [
    "test1.test(4,5)"
   ]
  },
  {
   "cell_type": "code",
   "execution_count": 26,
   "id": "edbd69a4",
   "metadata": {},
   "outputs": [
    {
     "data": {
      "text/plain": [
       "0.5"
      ]
     },
     "execution_count": 26,
     "metadata": {},
     "output_type": "execute_result"
    }
   ],
   "source": [
    "test1.test4(4,8)"
   ]
  },
  {
   "cell_type": "code",
   "execution_count": 27,
   "id": "894124ab",
   "metadata": {},
   "outputs": [
    {
     "name": "stdout",
     "output_type": "stream",
     "text": [
      "this is my code written in module test2\n"
     ]
    }
   ],
   "source": [
    "test1.test5()"
   ]
  },
  {
   "cell_type": "markdown",
   "id": "57e1da9f",
   "metadata": {},
   "source": [
    "If i want use only one function.\n"
   ]
  },
  {
   "cell_type": "code",
   "execution_count": 28,
   "id": "ee5b5fd1",
   "metadata": {},
   "outputs": [],
   "source": [
    "from test1 import test5"
   ]
  },
  {
   "cell_type": "code",
   "execution_count": 29,
   "id": "b95fac0e",
   "metadata": {},
   "outputs": [
    {
     "name": "stdout",
     "output_type": "stream",
     "text": [
      "this is my code written in module test2\n"
     ]
    }
   ],
   "source": [
    "test5()"
   ]
  },
  {
   "cell_type": "markdown",
   "id": "2ea1f37b",
   "metadata": {},
   "source": [
    "If i want to use everything."
   ]
  },
  {
   "cell_type": "code",
   "execution_count": 1,
   "id": "41fe7c64",
   "metadata": {},
   "outputs": [],
   "source": [
    "from test1 import *"
   ]
  },
  {
   "cell_type": "code",
   "execution_count": 2,
   "id": "93c7fa7b",
   "metadata": {},
   "outputs": [
    {
     "data": {
      "text/plain": [
       "2.0"
      ]
     },
     "execution_count": 2,
     "metadata": {},
     "output_type": "execute_result"
    }
   ],
   "source": [
    "test4(4,2)"
   ]
  },
  {
   "cell_type": "code",
   "execution_count": 3,
   "id": "3675d554",
   "metadata": {},
   "outputs": [
    {
     "data": {
      "text/plain": [
       "20"
      ]
     },
     "execution_count": 3,
     "metadata": {},
     "output_type": "execute_result"
    }
   ],
   "source": [
    "test1(4,5)"
   ]
  },
  {
   "cell_type": "code",
   "execution_count": 4,
   "id": "61972e48",
   "metadata": {},
   "outputs": [
    {
     "data": {
      "text/plain": [
       "['In',\n",
       " 'Out',\n",
       " '_',\n",
       " '_2',\n",
       " '_3',\n",
       " '__',\n",
       " '___',\n",
       " '__builtin__',\n",
       " '__builtins__',\n",
       " '__doc__',\n",
       " '__loader__',\n",
       " '__name__',\n",
       " '__package__',\n",
       " '__spec__',\n",
       " '_dh',\n",
       " '_i',\n",
       " '_i1',\n",
       " '_i2',\n",
       " '_i3',\n",
       " '_i4',\n",
       " '_ih',\n",
       " '_ii',\n",
       " '_iii',\n",
       " '_oh',\n",
       " 'exit',\n",
       " 'get_ipython',\n",
       " 'quit',\n",
       " 'test',\n",
       " 'test1',\n",
       " 'test4',\n",
       " 'test5']"
      ]
     },
     "execution_count": 4,
     "metadata": {},
     "output_type": "execute_result"
    }
   ],
   "source": [
    "dir()"
   ]
  },
  {
   "cell_type": "code",
   "execution_count": 5,
   "id": "60d1da1c",
   "metadata": {},
   "outputs": [
    {
     "data": {
      "text/plain": [
       "<_io.TextIOWrapper name='my_module.py' mode='w' encoding='cp1252'>"
      ]
     },
     "execution_count": 5,
     "metadata": {},
     "output_type": "execute_result"
    }
   ],
   "source": [
    "open(\"my_module.py\",\"w\")"
   ]
  },
  {
   "cell_type": "code",
   "execution_count": 1,
   "id": "8bdfb16b",
   "metadata": {},
   "outputs": [
    {
     "name": "stdout",
     "output_type": "stream",
     "text": [
      " Volume in drive C is Windows\n",
      " Volume Serial Number is 4085-8304\n",
      "\n",
      " Directory of C:\\Users\\ABHI\n",
      "\n",
      "04/25/2023  02:26 AM    <DIR>          .\n",
      "04/25/2023  02:26 AM    <DIR>          ..\n",
      "03/04/2022  08:42 AM    <DIR>          .atom\n",
      "01/09/2023  04:10 AM                 6 .bash_history\n",
      "02/23/2023  10:24 PM    <DIR>          .conda\n",
      "07/14/2022  09:40 PM                25 .condarc\n",
      "07/14/2022  09:39 PM    <DIR>          .continuum\n",
      "10/18/2021  12:02 PM    <DIR>          .eclipse\n",
      "03/26/2023  04:06 AM                53 .git-for-windows-updater\n",
      "04/25/2023  12:09 AM    <DIR>          .ipynb_checkpoints\n",
      "07/14/2022  09:42 PM    <DIR>          .ipython\n",
      "02/23/2023  11:29 AM    <DIR>          .jupyter\n",
      "03/24/2022  01:53 AM    <DIR>          .m2\n",
      "02/23/2023  11:28 AM    <DIR>          .matplotlib\n",
      "03/23/2022  11:58 PM    <DIR>          .tooling\n",
      "03/17/2022  04:36 AM    <DIR>          .vscode\n",
      "04/25/2023  02:10 AM    <DIR>          __pycache__\n",
      "02/06/2022  09:41 PM    <DIR>          3D Objects\n",
      "07/14/2022  09:35 PM    <DIR>          anaconda3\n",
      "02/06/2022  09:41 PM    <DIR>          Contacts\n",
      "04/09/2023  09:37 AM    <DIR>          Desktop\n",
      "07/14/2022  09:35 PM    <DIR>          Documents\n",
      "04/25/2023  12:37 AM    <DIR>          Downloads\n",
      "04/23/2023  04:45 AM            35,159 Exception Handling  Class 2.ipynb\n",
      "04/22/2023  03:48 AM             8,626 Exception Handling Class 1 Part 1.ipynb\n",
      "02/06/2022  09:41 PM    <DIR>          Favorites\n",
      "07/15/2022  12:51 AM             2,620 First_program.ipynb\n",
      "03/03/2023  01:44 AM            24,083 For Loops While Loops.ipynb\n",
      "03/05/2023  06:11 AM            15,166 Function 1.ipynb\n",
      "03/06/2023  03:00 AM            32,057 Functions 2.ipynb\n",
      "08/06/2022  11:46 PM               860 functions using list and string .ipynb\n",
      "08/14/2022  09:34 AM            29,407 Functions.ipynb\n",
      "02/25/2023  12:43 PM            14,577 If ,Else & For Loop.ipynb\n",
      "04/21/2023  12:16 PM            86,510 ITERATOR GENERATOR FILE SYSTEM.ipynb\n",
      "08/11/2022  01:59 AM            10,483 lecture 3.ipynb\n",
      "02/06/2022  09:41 PM    <DIR>          Links\n",
      "07/27/2022  06:06 AM             6,739 LIST.ipynb\n",
      "08/02/2022  11:59 PM               589 list1.ipynb\n",
      "04/23/2023  06:17 AM             3,932 Logging.ipynb\n",
      "08/04/2022  12:11 AM               589 Loops.ipynb\n",
      "04/25/2023  02:26 AM            24,883 Module & Packages.ipynb\n",
      "04/25/2023  01:51 AM               187 module1.py\n",
      "02/06/2022  09:41 PM    <DIR>          Music\n",
      "02/26/2023  02:32 PM             1,531 My Cosmetics.ipynb\n",
      "04/25/2023  02:31 AM               236 my_module.py\n",
      "01/21/2022  04:56 AM    <DIR>          OneDrive\n",
      "08/13/2022  04:01 AM            10,586 Patterns.ipynb\n",
      "02/06/2022  09:41 PM    <DIR>          Pictures\n",
      "03/24/2022  01:14 AM    <DIR>          Postman\n",
      "04/24/2023  08:39 AM             7,499 PYHTON BASICS ASSIGNM,ENT 5.ipynb\n",
      "04/22/2023  09:06 AM             4,775 PYHTON BASICS ASSIGNMENT 3.ipynb\n",
      "04/22/2023  09:57 AM             9,462 PYHTON BASICS ASSIGNMENT 4.ipynb\n",
      "04/19/2023  12:05 AM             5,948 PYTHON BASICS ASSIGNMENT 1.ipynb\n",
      "04/20/2023  12:32 AM            10,721 PYTHON BASICS ASSIGNMENT 2.ipynb\n",
      "02/23/2023  06:14 AM            15,972 Python Basics.ipynb\n",
      "08/10/2022  01:48 AM               646 python numbers.ipynb\n",
      "03/04/2023  03:48 AM             6,515 Python Program Discussion In Loops  .ipynb\n",
      "03/04/2023  06:02 AM             9,589 Python Program Discussion In Loops.ipynb\n",
      "02/06/2022  09:41 PM    <DIR>          Saved Games\n",
      "02/06/2022  09:41 PM    <DIR>          Searches\n",
      "07/14/2022  09:51 PM               916 second_program.ipynb\n",
      "08/15/2022  04:27 AM            26,965 sets.ipynb\n",
      "02/23/2023  11:33 AM               718 String ,Lists ,Indexing .ipynb\n",
      "02/24/2023  03:38 AM            43,911 String ,Lists ,Indexing.ipynb\n",
      "04/23/2023  05:35 AM             1,246 test.log\n",
      "04/22/2023  03:00 AM                23 test.txt\n",
      "04/25/2023  02:09 AM               252 test1.py\n",
      "04/23/2023  01:50 AM                22 test1.txt\n",
      "04/23/2023  06:07 AM             2,433 test2.log\n",
      "04/21/2023  07:17 AM                49 test2.txt\n",
      "04/23/2023  06:20 AM               655 test4.log\n",
      "04/23/2023  02:10 AM                 0 test42.txt\n",
      "02/25/2023  03:05 AM            40,003 Tuple ,Set & Dict.ipynb\n",
      "07/16/2022  01:30 AM             1,175 Untitled.ipynb\n",
      "07/17/2022  11:38 AM               589 Untitled1.ipynb\n",
      "02/23/2023  11:23 AM               589 Untitled10.ipynb\n",
      "02/23/2023  11:43 AM                72 Untitled11.ipynb\n",
      "02/23/2023  11:30 AM                72 Untitled12.ipynb\n",
      "04/20/2023  02:55 AM               589 Untitled13.ipynb\n",
      "07/28/2022  01:58 AM               589 Untitled2.ipynb\n",
      "08/13/2022  08:18 AM            10,010 Untitled3.ipynb\n",
      "08/14/2022  05:04 AM            40,575 Untitled4.ipynb\n",
      "09/05/2022  03:04 AM               589 Untitled5.ipynb\n",
      "09/10/2022  10:13 PM               589 Untitled6.ipynb\n",
      "09/23/2022  12:19 AM               589 Untitled7.ipynb\n",
      "02/22/2023  01:56 AM               589 Untitled8.ipynb\n",
      "02/23/2023  11:19 AM               589 Untitled9.ipynb\n",
      "03/29/2022  07:32 AM    <DIR>          Videos\n",
      "09/11/2022  05:25 AM         9,192,878 working with files.ipynb\n",
      "              60 File(s)      9,747,307 bytes\n",
      "              29 Dir(s)  76,507,332,608 bytes free\n"
     ]
    }
   ],
   "source": [
    "ls"
   ]
  },
  {
   "cell_type": "code",
   "execution_count": 1,
   "id": "f801cd9b",
   "metadata": {},
   "outputs": [],
   "source": [
    "import my_module"
   ]
  },
  {
   "cell_type": "code",
   "execution_count": 2,
   "id": "6f459ee4",
   "metadata": {},
   "outputs": [
    {
     "data": {
      "text/plain": [
       "['data science', 'blockchain', 'drone', 'robotics', 'clouds']"
      ]
     },
     "execution_count": 2,
     "metadata": {},
     "output_type": "execute_result"
    }
   ],
   "source": [
    "my_module.get_course()"
   ]
  },
  {
   "cell_type": "code",
   "execution_count": 3,
   "id": "b7a59cff",
   "metadata": {},
   "outputs": [
    {
     "data": {
      "text/plain": [
       "['greetings from Ineuron']"
      ]
     },
     "execution_count": 3,
     "metadata": {},
     "output_type": "execute_result"
    }
   ],
   "source": [
    "my_module.greetings()"
   ]
  },
  {
   "cell_type": "code",
   "execution_count": 4,
   "id": "740ee707",
   "metadata": {},
   "outputs": [],
   "source": [
    "import my_module"
   ]
  },
  {
   "cell_type": "code",
   "execution_count": 5,
   "id": "604d37d7",
   "metadata": {},
   "outputs": [
    {
     "data": {
      "text/plain": [
       "['greetings from Ineuron']"
      ]
     },
     "execution_count": 5,
     "metadata": {},
     "output_type": "execute_result"
    }
   ],
   "source": [
    "my_module.greetings()"
   ]
  },
  {
   "cell_type": "markdown",
   "id": "c775569b",
   "metadata": {},
   "source": [
    "# PACKAGES"
   ]
  },
  {
   "cell_type": "markdown",
   "id": "6b9668a6",
   "metadata": {},
   "source": [
    "Packages is a collection of module and module is py file. "
   ]
  },
  {
   "cell_type": "markdown",
   "id": "3514885b",
   "metadata": {},
   "source": [
    "# OOPS"
   ]
  },
  {
   "cell_type": "code",
   "execution_count": 7,
   "id": "d41c8c3a",
   "metadata": {},
   "outputs": [
    {
     "name": "stdout",
     "output_type": "stream",
     "text": [
      "1\n",
      "2\n",
      "3\n",
      "3\n",
      "44\n"
     ]
    }
   ],
   "source": [
    "l=[1,2,3,3,44,]\n",
    "for i in l:\n",
    "    print(i)"
   ]
  },
  {
   "cell_type": "code",
   "execution_count": 8,
   "id": "aa64909e",
   "metadata": {},
   "outputs": [],
   "source": [
    "class car:\n",
    "    pass"
   ]
  },
  {
   "cell_type": "code",
   "execution_count": 9,
   "id": "a8762a42",
   "metadata": {},
   "outputs": [],
   "source": [
    "class car:\n",
    "    def __init__(self ,brand_name,fueltype,body_type):\n",
    "        \n",
    "        self.brand_name =brand_name\n",
    "        self.fueltype =fueltype\n",
    "        self.body_type =body_type\n",
    "        \n",
    "    def desc_car(self):\n",
    "        print(self.brand_name,self.fueltype,self.body_type)"
   ]
  },
  {
   "cell_type": "code",
   "execution_count": 13,
   "id": "a88ac817",
   "metadata": {},
   "outputs": [],
   "source": [
    "innova = car(\"toyota\",\"petrol\",\"suv\")\n",
    "nexon = car(\"tata\",\"petrol\",\"min suv\")"
   ]
  },
  {
   "cell_type": "code",
   "execution_count": 14,
   "id": "7734781c",
   "metadata": {},
   "outputs": [
    {
     "name": "stdout",
     "output_type": "stream",
     "text": [
      "toyota petrol suv\n"
     ]
    }
   ],
   "source": [
    "innova.desc_car()"
   ]
  },
  {
   "cell_type": "code",
   "execution_count": 15,
   "id": "cfcadc3b",
   "metadata": {},
   "outputs": [
    {
     "data": {
      "text/plain": [
       "'toyota'"
      ]
     },
     "execution_count": 15,
     "metadata": {},
     "output_type": "execute_result"
    }
   ],
   "source": [
    "innova.brand_name"
   ]
  },
  {
   "cell_type": "code",
   "execution_count": 16,
   "id": "8e963f80",
   "metadata": {},
   "outputs": [
    {
     "name": "stdout",
     "output_type": "stream",
     "text": [
      "tata petrol min suv\n"
     ]
    }
   ],
   "source": [
    "nexon.desc_car()"
   ]
  },
  {
   "cell_type": "markdown",
   "id": "39a57908",
   "metadata": {},
   "source": [
    "__init__ is a constructor.\n",
    "\n",
    "Constructor = It is nothing but a kind of entity/method/function which helps my class to take an input. "
   ]
  },
  {
   "cell_type": "code",
   "execution_count": 17,
   "id": "47adf8d5",
   "metadata": {},
   "outputs": [
    {
     "name": "stdout",
     "output_type": "stream",
     "text": [
      "10\n"
     ]
    }
   ],
   "source": [
    "a=10\n",
    "print(a)"
   ]
  }
 ],
 "metadata": {
  "kernelspec": {
   "display_name": "Python 3 (ipykernel)",
   "language": "python",
   "name": "python3"
  },
  "language_info": {
   "codemirror_mode": {
    "name": "ipython",
    "version": 3
   },
   "file_extension": ".py",
   "mimetype": "text/x-python",
   "name": "python",
   "nbconvert_exporter": "python",
   "pygments_lexer": "ipython3",
   "version": "3.9.12"
  }
 },
 "nbformat": 4,
 "nbformat_minor": 5
}
