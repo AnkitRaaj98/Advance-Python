{
 "cells": [
  {
   "cell_type": "code",
   "execution_count": 4,
   "id": "c44c3b71",
   "metadata": {},
   "outputs": [
    {
     "name": "stdout",
     "output_type": "stream",
     "text": [
      "this is my handler\n",
      "1\n",
      "2\n",
      "3\n",
      "4\n"
     ]
    }
   ],
   "source": [
    "try:\n",
    "    f=open(\"test1\" , 'r')\n",
    "    f.write(\"this is my code with exceptioon handling\")\n",
    "    print(\"tghis is my code sfter write ops\")\n",
    "except:\n",
    "    print(\"this is my handler\")\n",
    "l=[1,2,3,4]\n",
    "for i in l:\n",
    "    print(i)"
   ]
  },
  {
   "cell_type": "code",
   "execution_count": 5,
   "id": "68a6dc8e",
   "metadata": {},
   "outputs": [
    {
     "ename": "FileNotFoundError",
     "evalue": "[Errno 2] No such file or directory: 'test1'",
     "output_type": "error",
     "traceback": [
      "\u001b[1;31m---------------------------------------------------------------------------\u001b[0m",
      "\u001b[1;31mFileNotFoundError\u001b[0m                         Traceback (most recent call last)",
      "Input \u001b[1;32mIn [5]\u001b[0m, in \u001b[0;36m<cell line: 1>\u001b[1;34m()\u001b[0m\n\u001b[1;32m----> 1\u001b[0m f\u001b[38;5;241m=\u001b[39m\u001b[38;5;28;43mopen\u001b[39;49m\u001b[43m(\u001b[49m\u001b[38;5;124;43m\"\u001b[39;49m\u001b[38;5;124;43mtest1\u001b[39;49m\u001b[38;5;124;43m\"\u001b[39;49m\u001b[43m \u001b[49m\u001b[43m,\u001b[49m\u001b[43m \u001b[49m\u001b[38;5;124;43m'\u001b[39;49m\u001b[38;5;124;43mr\u001b[39;49m\u001b[38;5;124;43m'\u001b[39;49m\u001b[43m)\u001b[49m\n\u001b[0;32m      2\u001b[0m f\u001b[38;5;241m.\u001b[39mwrite(\u001b[38;5;124m\"\u001b[39m\u001b[38;5;124mthis is my code with exceptioon handling\u001b[39m\u001b[38;5;124m\"\u001b[39m)\n\u001b[0;32m      3\u001b[0m \u001b[38;5;28mprint\u001b[39m(\u001b[38;5;124m\"\u001b[39m\u001b[38;5;124mtghis is my code sfter write ops\u001b[39m\u001b[38;5;124m\"\u001b[39m)\n",
      "\u001b[1;31mFileNotFoundError\u001b[0m: [Errno 2] No such file or directory: 'test1'"
     ]
    }
   ],
   "source": [
    "f=open(\"test1\" , 'r')\n",
    "f.write(\"this is my code with exceptioon handling\")\n",
    "print(\"tghis is my code sfter write ops\")\n",
    "l=[1,2,3,4]\n",
    "for i in l:\n",
    "    print(i)"
   ]
  },
  {
   "cell_type": "code",
   "execution_count": 7,
   "id": "c422c1da",
   "metadata": {},
   "outputs": [
    {
     "name": "stdout",
     "output_type": "stream",
     "text": [
      "this is my handler\n",
      "1\n",
      "2\n",
      "3\n",
      "4\n"
     ]
    }
   ],
   "source": [
    "try:\n",
    "    f=open(\"test1\" , 'r')\n",
    "    f.write(\"this is my code with exceptioon handling\")\n",
    "    print(\"tghis is my code sfter write ops\")\n",
    "except:\n",
    "    print(\"this is my handler\")\n",
    "try:\n",
    "    l=[1,2,3,4]\n",
    "    for i in l:\n",
    "        print(i)\n",
    "except:\n",
    "    print(\"this is a handler for for loop\")  #We can use millions of try & except block.\n",
    "    "
   ]
  },
  {
   "cell_type": "code",
   "execution_count": 9,
   "id": "1a4424bc",
   "metadata": {},
   "outputs": [
    {
     "name": "stdout",
     "output_type": "stream",
     "text": [
      "code\n",
      "invalid literal for int() with base 10: 'code'\n"
     ]
    }
   ],
   "source": [
    "try:\n",
    "    d={\"key1\":\"ankit\",\"key2\":\"[1,2,3,4]\",\"key3\":(4,5,6,7,8)}\n",
    "    d[\"key4\"]=int(input())\n",
    "except Exception as ankit:  #Exception is a superclass\n",
    "    print(ankit)"
   ]
  },
  {
   "cell_type": "code",
   "execution_count": 11,
   "id": "3e525979",
   "metadata": {},
   "outputs": [
    {
     "name": "stdout",
     "output_type": "stream",
     "text": [
      "code\n",
      "invalid literal for int() with base 10: 'code'\n"
     ]
    }
   ],
   "source": [
    "try:\n",
    "    d={\"key1\":\"ankit\",\"key2\":\"[1,2,3,4]\",\"key3\":(4,5,6,7,8)}\n",
    "    d[\"key4\"]=int(input())\n",
    "except ValueError as ankit:  #Exception is a superclass\n",
    "    print(ankit)"
   ]
  },
  {
   "cell_type": "code",
   "execution_count": 14,
   "id": "4a639366",
   "metadata": {},
   "outputs": [
    {
     "name": "stdout",
     "output_type": "stream",
     "text": [
      "code\n"
     ]
    },
    {
     "ename": "NameError",
     "evalue": "name 'Write' is not defined",
     "output_type": "error",
     "traceback": [
      "\u001b[1;31m---------------------------------------------------------------------------\u001b[0m",
      "\u001b[1;31mValueError\u001b[0m                                Traceback (most recent call last)",
      "Input \u001b[1;32mIn [14]\u001b[0m, in \u001b[0;36m<cell line: 1>\u001b[1;34m()\u001b[0m\n\u001b[0;32m      2\u001b[0m     d\u001b[38;5;241m=\u001b[39m{\u001b[38;5;124m\"\u001b[39m\u001b[38;5;124mkey1\u001b[39m\u001b[38;5;124m\"\u001b[39m:\u001b[38;5;124m\"\u001b[39m\u001b[38;5;124mankit\u001b[39m\u001b[38;5;124m\"\u001b[39m,\u001b[38;5;124m\"\u001b[39m\u001b[38;5;124mkey2\u001b[39m\u001b[38;5;124m\"\u001b[39m:\u001b[38;5;124m\"\u001b[39m\u001b[38;5;124m[1,2,3,4]\u001b[39m\u001b[38;5;124m\"\u001b[39m,\u001b[38;5;124m\"\u001b[39m\u001b[38;5;124mkey3\u001b[39m\u001b[38;5;124m\"\u001b[39m:(\u001b[38;5;241m4\u001b[39m,\u001b[38;5;241m5\u001b[39m,\u001b[38;5;241m6\u001b[39m,\u001b[38;5;241m7\u001b[39m,\u001b[38;5;241m8\u001b[39m)}\n\u001b[1;32m----> 3\u001b[0m     d[\u001b[38;5;124m\"\u001b[39m\u001b[38;5;124mkey4\u001b[39m\u001b[38;5;124m\"\u001b[39m]\u001b[38;5;241m=\u001b[39m\u001b[38;5;28;43mint\u001b[39;49m\u001b[43m(\u001b[49m\u001b[38;5;28;43minput\u001b[39;49m\u001b[43m(\u001b[49m\u001b[43m)\u001b[49m\u001b[43m)\u001b[49m\n\u001b[0;32m      4\u001b[0m \u001b[38;5;28;01mexcept\u001b[39;00m Write \u001b[38;5;28;01mas\u001b[39;00m ankit:  \u001b[38;5;66;03m#We cannot write anything else here. \u001b[39;00m\n\u001b[0;32m      5\u001b[0m                          \u001b[38;5;66;03m#We can only write that particular error name or Exception to avoid the error.\u001b[39;00m\n",
      "\u001b[1;31mValueError\u001b[0m: invalid literal for int() with base 10: 'code'",
      "\nDuring handling of the above exception, another exception occurred:\n",
      "\u001b[1;31mNameError\u001b[0m                                 Traceback (most recent call last)",
      "Input \u001b[1;32mIn [14]\u001b[0m, in \u001b[0;36m<cell line: 1>\u001b[1;34m()\u001b[0m\n\u001b[0;32m      2\u001b[0m     d\u001b[38;5;241m=\u001b[39m{\u001b[38;5;124m\"\u001b[39m\u001b[38;5;124mkey1\u001b[39m\u001b[38;5;124m\"\u001b[39m:\u001b[38;5;124m\"\u001b[39m\u001b[38;5;124mankit\u001b[39m\u001b[38;5;124m\"\u001b[39m,\u001b[38;5;124m\"\u001b[39m\u001b[38;5;124mkey2\u001b[39m\u001b[38;5;124m\"\u001b[39m:\u001b[38;5;124m\"\u001b[39m\u001b[38;5;124m[1,2,3,4]\u001b[39m\u001b[38;5;124m\"\u001b[39m,\u001b[38;5;124m\"\u001b[39m\u001b[38;5;124mkey3\u001b[39m\u001b[38;5;124m\"\u001b[39m:(\u001b[38;5;241m4\u001b[39m,\u001b[38;5;241m5\u001b[39m,\u001b[38;5;241m6\u001b[39m,\u001b[38;5;241m7\u001b[39m,\u001b[38;5;241m8\u001b[39m)}\n\u001b[0;32m      3\u001b[0m     d[\u001b[38;5;124m\"\u001b[39m\u001b[38;5;124mkey4\u001b[39m\u001b[38;5;124m\"\u001b[39m]\u001b[38;5;241m=\u001b[39m\u001b[38;5;28mint\u001b[39m(\u001b[38;5;28minput\u001b[39m())\n\u001b[1;32m----> 4\u001b[0m \u001b[38;5;28;01mexcept\u001b[39;00m \u001b[43mWrite\u001b[49m \u001b[38;5;28;01mas\u001b[39;00m ankit:  \u001b[38;5;66;03m#We cannot write anything else here. \u001b[39;00m\n\u001b[0;32m      5\u001b[0m                          \u001b[38;5;66;03m#We can only write that particular error name or Exception to avoid the error.\u001b[39;00m\n\u001b[0;32m      6\u001b[0m     \u001b[38;5;28mprint\u001b[39m(ankit)\n",
      "\u001b[1;31mNameError\u001b[0m: name 'Write' is not defined"
     ]
    }
   ],
   "source": [
    "try:\n",
    "    d={\"key1\":\"ankit\",\"key2\":\"[1,2,3,4]\",\"key3\":(4,5,6,7,8)}\n",
    "    d[\"key4\"]=int(input())\n",
    "except Write as ankit:  #We cannot write anything else here. \n",
    "                         #We can only write that particular error name or Exception to avoid the error.\n",
    "    print(ankit)"
   ]
  },
  {
   "cell_type": "markdown",
   "id": "15dfbd3e",
   "metadata": {},
   "source": [
    "It is very good to use superclass exception because nature of error will always going to depends upon code."
   ]
  },
  {
   "cell_type": "code",
   "execution_count": 1,
   "id": "54ef41ce",
   "metadata": {},
   "outputs": [
    {
     "name": "stdout",
     "output_type": "stream",
     "text": [
      "code\n",
      "invalid literal for int() with base 10: 'code'\n"
     ]
    }
   ],
   "source": [
    "try:\n",
    "    d={\"key1\":\"ankit\",\"key2\":\"[1,2,3,4]\",\"key3\":(4,5,6,7,8)}\n",
    "    d[\"key4\"]=int(input())\n",
    "    f = open(\"test2\" , \"r\")\n",
    "except Exception as ankit: \n",
    "    print(ankit)"
   ]
  },
  {
   "cell_type": "markdown",
   "id": "ad92396c",
   "metadata": {},
   "source": [
    "we can also use multiple except."
   ]
  },
  {
   "cell_type": "code",
   "execution_count": 5,
   "id": "a6729a39",
   "metadata": {},
   "outputs": [
    {
     "name": "stdout",
     "output_type": "stream",
     "text": [
      "2455\n",
      "[Errno 2] No such file or directory: 'test2'\n"
     ]
    }
   ],
   "source": [
    "try:\n",
    "    d={\"key1\":\"ankit\",\"key2\":\"[1,2,3,4]\",\"key3\":(4,5,6,7,8)}\n",
    "    d[\"key4\"]=int(input())\n",
    "    f=open(\"test2\",\"r\")\n",
    "except ValueError as ankit:  #Exception is a superclass\n",
    "    print(ankit)\n",
    "except FileNotFoundError as e:\n",
    "    print(e)\n",
    "except Exception as ee:\n",
    "    print(\"this is my exception class\" , ee)"
   ]
  },
  {
   "cell_type": "code",
   "execution_count": 6,
   "id": "87833724",
   "metadata": {},
   "outputs": [
    {
     "name": "stdout",
     "output_type": "stream",
     "text": [
      "ankit\n",
      "this is my exception class invalid literal for int() with base 10: 'ankit'\n"
     ]
    }
   ],
   "source": [
    "try:\n",
    "    d={\"key1\":\"ankit\",\"key2\":\"[1,2,3,4]\",\"key3\":(4,5,6,7,8)}\n",
    "    d[\"key4\"]=int(input())\n",
    "    f=open(\"test2\",\"r\")\n",
    "except Exception as ee: #this is my parent class exception\n",
    "    print(\"this is my exception class\" , ee)\n",
    "except ValueError as ankit:  #Exception is a superclass\n",
    "    print(ankit)\n",
    "except FileNotFoundError as e:\n",
    "    print(e)\n"
   ]
  },
  {
   "cell_type": "markdown",
   "id": "700338ad",
   "metadata": {},
   "source": [
    "# Else block"
   ]
  },
  {
   "cell_type": "code",
   "execution_count": 7,
   "id": "e7a82a36",
   "metadata": {},
   "outputs": [
    {
     "ename": "SyntaxError",
     "evalue": "invalid syntax (3535452887.py, line 1)",
     "output_type": "error",
     "traceback": [
      "\u001b[1;36m  Input \u001b[1;32mIn [7]\u001b[1;36m\u001b[0m\n\u001b[1;33m    try;\u001b[0m\n\u001b[1;37m       ^\u001b[0m\n\u001b[1;31mSyntaxError\u001b[0m\u001b[1;31m:\u001b[0m invalid syntax\n"
     ]
    }
   ],
   "source": [
    "try;"
   ]
  },
  {
   "cell_type": "code",
   "execution_count": 14,
   "id": "a5015107",
   "metadata": {},
   "outputs": [
    {
     "name": "stdout",
     "output_type": "stream",
     "text": [
      "this eill execute once my try block execute succesfully\n"
     ]
    }
   ],
   "source": [
    "try:\n",
    "    f=open(\"test1.txt\" , \"w\")\n",
    "    f.write(\"this is my code in try\")\n",
    "except Exceptiion as e:\n",
    "    print(\"this will handle an error\")\n",
    "else:\n",
    "    print(\"this eill execute once my try block execute succesfully\")\n",
    "    f.close()"
   ]
  },
  {
   "cell_type": "code",
   "execution_count": 18,
   "id": "b0a2ec83",
   "metadata": {},
   "outputs": [
    {
     "name": "stdout",
     "output_type": "stream",
     "text": [
      "this will handle an error\n"
     ]
    }
   ],
   "source": [
    "try:\n",
    "    f=open(\"test1.txt\" , \"r\")\n",
    "    f.write(\"this is my code in try\")\n",
    "except Exception as e:\n",
    "    print(\"this will handle an error\")\n",
    "else:\n",
    "    print(\"this eill execute once my try block execute succesfully\")\n",
    "    f.close()"
   ]
  },
  {
   "cell_type": "code",
   "execution_count": 20,
   "id": "a6c3e493",
   "metadata": {},
   "outputs": [
    {
     "name": "stdout",
     "output_type": "stream",
     "text": [
      "this will handle an error [Errno 2] No such file or directory: 'test5.txt'\n"
     ]
    }
   ],
   "source": [
    "try:\n",
    "    f=open(\"test5.txt\" , \"r\")\n",
    "    f.write(\"this is my code in try\")\n",
    "except Exception as e:\n",
    "    print(\"this will handle an error\", e)\n",
    "else:\n",
    "    print(\"this eill execute once my try block execute succesfully\")\n",
    "    f.close()"
   ]
  },
  {
   "cell_type": "markdown",
   "id": "6b2c7627",
   "metadata": {},
   "source": [
    "# Finally block"
   ]
  },
  {
   "cell_type": "code",
   "execution_count": 21,
   "id": "46482b98",
   "metadata": {},
   "outputs": [
    {
     "name": "stdout",
     "output_type": "stream",
     "text": [
      "ankit [Errno 2] No such file or directory: 'test42'\n",
      "this execute for sure everytime\n"
     ]
    }
   ],
   "source": [
    "try:\n",
    "    f = open(\"test42\",'r')\n",
    "except Exception as e:\n",
    "    print(\"ankit\",e)\n",
    "finally:\n",
    "    print(\"this execute for sure everytime\")"
   ]
  },
  {
   "cell_type": "code",
   "execution_count": 23,
   "id": "cd403427",
   "metadata": {},
   "outputs": [
    {
     "name": "stdout",
     "output_type": "stream",
     "text": [
      "ankit [Errno 2] No such file or directory: 'test42'\n",
      "this execute for sure everytime\n"
     ]
    }
   ],
   "source": [
    "try:\n",
    "    f = open(\"test42\",'r')\n",
    "except Exception as e:\n",
    "    print(\"ankit\",e)\n",
    "else:\n",
    "    print(\"execute when the try block succesfully executed\")\n",
    "finally:\n",
    "    print(\"this execute for sure everytime\")"
   ]
  },
  {
   "cell_type": "code",
   "execution_count": 24,
   "id": "03b70025",
   "metadata": {},
   "outputs": [
    {
     "name": "stdout",
     "output_type": "stream",
     "text": [
      "execute when the try block succesfully executed\n",
      "this execute for sure everytime\n"
     ]
    }
   ],
   "source": [
    "try:\n",
    "    f = open(\"test42.txt\",'w')\n",
    "except Exception as e:\n",
    "    print(\"ankit\",e)\n",
    "else:\n",
    "    print(\"execute when the try block succesfully executed\")\n",
    "finally:\n",
    "    print(\"this execute for sure everytime\")"
   ]
  },
  {
   "cell_type": "code",
   "execution_count": 25,
   "id": "28e84360",
   "metadata": {},
   "outputs": [
    {
     "name": "stdout",
     "output_type": "stream",
     "text": [
      "execute when the try block succesfully executed\n",
      "this execute for sure everytime\n"
     ]
    },
    {
     "ename": "FileNotFoundError",
     "evalue": "[Errno 2] No such file or directory: 'ankit'",
     "output_type": "error",
     "traceback": [
      "\u001b[1;31m---------------------------------------------------------------------------\u001b[0m",
      "\u001b[1;31mFileNotFoundError\u001b[0m                         Traceback (most recent call last)",
      "Input \u001b[1;32mIn [25]\u001b[0m, in \u001b[0;36m<cell line: 1>\u001b[1;34m()\u001b[0m\n\u001b[0;32m      7\u001b[0m \u001b[38;5;28;01mfinally\u001b[39;00m:\n\u001b[0;32m      8\u001b[0m     \u001b[38;5;28mprint\u001b[39m(\u001b[38;5;124m\"\u001b[39m\u001b[38;5;124mthis execute for sure everytime\u001b[39m\u001b[38;5;124m\"\u001b[39m)\n\u001b[1;32m----> 9\u001b[0m     f\u001b[38;5;241m=\u001b[39m\u001b[38;5;28;43mopen\u001b[39;49m\u001b[43m(\u001b[49m\u001b[38;5;124;43m\"\u001b[39;49m\u001b[38;5;124;43mankit\u001b[39;49m\u001b[38;5;124;43m\"\u001b[39;49m\u001b[43m)\u001b[49m\n",
      "\u001b[1;31mFileNotFoundError\u001b[0m: [Errno 2] No such file or directory: 'ankit'"
     ]
    }
   ],
   "source": [
    "try:\n",
    "    f = open(\"test42.txt\",'w')\n",
    "except Exception as e:\n",
    "    print(\"ankit\",e)\n",
    "else:\n",
    "    print(\"execute when the try block succesfully executed\")\n",
    "finally:\n",
    "    print(\"this execute for sure everytime\")\n",
    "    f=open(\"ankit\")"
   ]
  },
  {
   "cell_type": "code",
   "execution_count": 26,
   "id": "3b7cc93c",
   "metadata": {},
   "outputs": [
    {
     "name": "stdout",
     "output_type": "stream",
     "text": [
      "execute when the try block succesfully executed\n",
      "this execute for sure everytime\n",
      "handle\n",
      "it will come to this nblock for sure\n"
     ]
    }
   ],
   "source": [
    "try:\n",
    "    f = open(\"test42.txt\",'w')\n",
    "except Exception as e:\n",
    "    print(\"ankit\",e)\n",
    "else:\n",
    "    print(\"execute when the try block succesfully executed\")\n",
    "finally:\n",
    "    print(\"this execute for sure everytime\")\n",
    "    try:\n",
    "        f=open(\"ankit\")\n",
    "    except:\n",
    "        print(\"handle\")\n",
    "    finally:\n",
    "        print(\"it will come to this nblock for sure\")\n",
    "    "
   ]
  },
  {
   "cell_type": "code",
   "execution_count": 28,
   "id": "197ff1e8",
   "metadata": {},
   "outputs": [],
   "source": [
    "def askint():\n",
    "    a=int(input())\n",
    "    return a"
   ]
  },
  {
   "cell_type": "code",
   "execution_count": 30,
   "id": "56b107db",
   "metadata": {},
   "outputs": [
    {
     "name": "stdout",
     "output_type": "stream",
     "text": [
      "46\n"
     ]
    },
    {
     "data": {
      "text/plain": [
       "46"
      ]
     },
     "execution_count": 30,
     "metadata": {},
     "output_type": "execute_result"
    }
   ],
   "source": [
    "askint()"
   ]
  },
  {
   "cell_type": "code",
   "execution_count": 31,
   "id": "f931e4d2",
   "metadata": {},
   "outputs": [
    {
     "name": "stdout",
     "output_type": "stream",
     "text": [
      "ankit\n"
     ]
    },
    {
     "ename": "ValueError",
     "evalue": "invalid literal for int() with base 10: 'ankit'",
     "output_type": "error",
     "traceback": [
      "\u001b[1;31m---------------------------------------------------------------------------\u001b[0m",
      "\u001b[1;31mValueError\u001b[0m                                Traceback (most recent call last)",
      "Input \u001b[1;32mIn [31]\u001b[0m, in \u001b[0;36m<cell line: 1>\u001b[1;34m()\u001b[0m\n\u001b[1;32m----> 1\u001b[0m \u001b[43maskint\u001b[49m\u001b[43m(\u001b[49m\u001b[43m)\u001b[49m\n",
      "Input \u001b[1;32mIn [28]\u001b[0m, in \u001b[0;36maskint\u001b[1;34m()\u001b[0m\n\u001b[0;32m      1\u001b[0m \u001b[38;5;28;01mdef\u001b[39;00m \u001b[38;5;21maskint\u001b[39m():\n\u001b[1;32m----> 2\u001b[0m     a\u001b[38;5;241m=\u001b[39m\u001b[38;5;28;43mint\u001b[39;49m\u001b[43m(\u001b[49m\u001b[38;5;28;43minput\u001b[39;49m\u001b[43m(\u001b[49m\u001b[43m)\u001b[49m\u001b[43m)\u001b[49m\n\u001b[0;32m      3\u001b[0m     \u001b[38;5;28;01mreturn\u001b[39;00m a\n",
      "\u001b[1;31mValueError\u001b[0m: invalid literal for int() with base 10: 'ankit'"
     ]
    }
   ],
   "source": [
    "askint()"
   ]
  },
  {
   "cell_type": "code",
   "execution_count": 32,
   "id": "6eb938b5",
   "metadata": {},
   "outputs": [],
   "source": [
    "def askint1():\n",
    "    try:\n",
    "        a=int(input())\n",
    "        return a\n",
    "    except Exception as e:\n",
    "        print(\"this is mu input error\")"
   ]
  },
  {
   "cell_type": "code",
   "execution_count": 36,
   "id": "b4518ba1",
   "metadata": {},
   "outputs": [
    {
     "name": "stdout",
     "output_type": "stream",
     "text": [
      "4458\n"
     ]
    },
    {
     "data": {
      "text/plain": [
       "4458"
      ]
     },
     "execution_count": 36,
     "metadata": {},
     "output_type": "execute_result"
    }
   ],
   "source": [
    "askint1()"
   ]
  },
  {
   "cell_type": "code",
   "execution_count": 37,
   "id": "28988c0a",
   "metadata": {},
   "outputs": [
    {
     "name": "stdout",
     "output_type": "stream",
     "text": [
      "ankit\n",
      "this is mu input error\n"
     ]
    }
   ],
   "source": [
    "askint1()"
   ]
  },
  {
   "cell_type": "code",
   "execution_count": 38,
   "id": "c33af013",
   "metadata": {},
   "outputs": [],
   "source": [
    "def Survey():\n",
    "\n",
    "    print('1) Blue')\n",
    "    print('2) Red')\n",
    "    print('3) Yellow')\n",
    "\n",
    "    while True:\n",
    "        try:\n",
    "            question = int(input('Out of these options\\(1,2,3), which is your favourite?'))\n",
    "            break\n",
    "        except:\n",
    "            print(\"That's not a valid option!\")\n",
    "\n",
    "    if question == 1:\n",
    "        print('Nice!')\n",
    "    elif question == 2:\n",
    "        print('Cool')\n",
    "    elif question == 3:\n",
    "        print('Awesome!')\n",
    "    else:\n",
    "        print('That\\'s not an option!')\n",
    "    "
   ]
  },
  {
   "cell_type": "code",
   "execution_count": 39,
   "id": "36aff11c",
   "metadata": {},
   "outputs": [
    {
     "name": "stdout",
     "output_type": "stream",
     "text": [
      "1) Blue\n",
      "2) Red\n",
      "3) Yellow\n",
      "Out of these options\\(1,2,3), which is your favourite?2\n",
      "Cool\n"
     ]
    }
   ],
   "source": [
    "Survey()"
   ]
  },
  {
   "cell_type": "code",
   "execution_count": 40,
   "id": "53ac7e5c",
   "metadata": {},
   "outputs": [
    {
     "name": "stdout",
     "output_type": "stream",
     "text": [
      "1) Blue\n",
      "2) Red\n",
      "3) Yellow\n",
      "Out of these options\\(1,2,3), which is your favourite?4\n",
      "That's not an option!\n"
     ]
    }
   ],
   "source": [
    "Survey()"
   ]
  },
  {
   "cell_type": "code",
   "execution_count": 41,
   "id": "60f3f5a1",
   "metadata": {},
   "outputs": [
    {
     "name": "stdout",
     "output_type": "stream",
     "text": [
      "Enter an integer number: jomfo\n"
     ]
    },
    {
     "ename": "ValueError",
     "evalue": "invalid literal for int() with base 10: 'jomfo'",
     "output_type": "error",
     "traceback": [
      "\u001b[1;31m---------------------------------------------------------------------------\u001b[0m",
      "\u001b[1;31mValueError\u001b[0m                                Traceback (most recent call last)",
      "Input \u001b[1;32mIn [41]\u001b[0m, in \u001b[0;36m<cell line: 1>\u001b[1;34m()\u001b[0m\n\u001b[1;32m----> 1\u001b[0m num \u001b[38;5;241m=\u001b[39m \u001b[38;5;28;43mint\u001b[39;49m\u001b[43m(\u001b[49m\u001b[38;5;28;43minput\u001b[39;49m\u001b[43m(\u001b[49m\u001b[38;5;124;43m\"\u001b[39;49m\u001b[38;5;124;43mEnter an integer number: \u001b[39;49m\u001b[38;5;124;43m\"\u001b[39;49m\u001b[43m)\u001b[49m\u001b[43m)\u001b[49m\n\u001b[0;32m      2\u001b[0m \u001b[38;5;28mprint\u001b[39m(\u001b[38;5;124m\"\u001b[39m\u001b[38;5;124mnum:\u001b[39m\u001b[38;5;124m\"\u001b[39m, num)\n",
      "\u001b[1;31mValueError\u001b[0m: invalid literal for int() with base 10: 'jomfo'"
     ]
    }
   ],
   "source": [
    "num = int(input(\"Enter an integer number: \"))\n",
    "print(\"num:\", num)"
   ]
  },
  {
   "cell_type": "code",
   "execution_count": 45,
   "id": "98bf8b74",
   "metadata": {},
   "outputs": [
    {
     "name": "stdout",
     "output_type": "stream",
     "text": [
      "Enter an integer number: jdnklsi\n",
      "Please input integer only... invalid literal for int() with base 10: 'jdnklsi'\n"
     ]
    }
   ],
   "source": [
    "\n",
    "try:\n",
    "  num = int(input(\"Enter an integer number: \"))\n",
    "  print(\"num:\", num)\n",
    "except Exception as e:\n",
    "    print(\"Please input integer only...\",e)"
   ]
  },
  {
   "cell_type": "code",
   "execution_count": 48,
   "id": "c8794ff7",
   "metadata": {},
   "outputs": [],
   "source": [
    "def ank():\n",
    "    try:\n",
    "        num = int(input(\"Enter an integer number: \"))\n",
    "        print(\"num:\", num)\n",
    "    except Exception as e:\n",
    "        print(\"Please input integer only...\",e)"
   ]
  },
  {
   "cell_type": "code",
   "execution_count": 51,
   "id": "a04d204f",
   "metadata": {},
   "outputs": [
    {
     "name": "stdout",
     "output_type": "stream",
     "text": [
      "Enter an integer number: fhsiks\n",
      "Please input integer only... invalid literal for int() with base 10: 'fhsiks'\n"
     ]
    }
   ],
   "source": [
    "ank()"
   ]
  },
  {
   "cell_type": "code",
   "execution_count": 52,
   "id": "ccb8a229",
   "metadata": {},
   "outputs": [
    {
     "name": "stdout",
     "output_type": "stream",
     "text": [
      "enter the integerankit\n",
      "you did not enter an integer invalid literal for int() with base 10: 'ankit'\n",
      "enter the integerankit\n",
      "you did not enter an integer invalid literal for int() with base 10: 'ankit'\n",
      "enter the integerfgjsjs\n",
      "you did not enter an integer invalid literal for int() with base 10: 'fgjsjs'\n",
      "enter the integer24\n"
     ]
    },
    {
     "data": {
      "text/plain": [
       "'yes you have enterd integer'"
      ]
     },
     "execution_count": 52,
     "metadata": {},
     "output_type": "execute_result"
    }
   ],
   "source": [
    "def fun():\n",
    "    flag=True\n",
    "    while flag:\n",
    "        try:\n",
    "            a=int(input(\"enter the integer\"))\n",
    "            if type(a)==int:\n",
    "                return \"yes you have enterd integer\"\n",
    "                flag=False\n",
    "        except Exception as e:\n",
    "            print(\"you did not enter an integer\",e)\n",
    "            \n",
    "fun()"
   ]
  },
  {
   "cell_type": "code",
   "execution_count": 53,
   "id": "bcd232bc",
   "metadata": {},
   "outputs": [],
   "source": [
    "a= 6/10"
   ]
  },
  {
   "cell_type": "code",
   "execution_count": 54,
   "id": "a35aa7a8",
   "metadata": {},
   "outputs": [
    {
     "ename": "ZeroDivisionError",
     "evalue": "division by zero",
     "output_type": "error",
     "traceback": [
      "\u001b[1;31m---------------------------------------------------------------------------\u001b[0m",
      "\u001b[1;31mZeroDivisionError\u001b[0m                         Traceback (most recent call last)",
      "Input \u001b[1;32mIn [54]\u001b[0m, in \u001b[0;36m<cell line: 1>\u001b[1;34m()\u001b[0m\n\u001b[1;32m----> 1\u001b[0m \u001b[38;5;241;43m5\u001b[39;49m\u001b[38;5;241;43m/\u001b[39;49m\u001b[38;5;241;43m0\u001b[39;49m\n",
      "\u001b[1;31mZeroDivisionError\u001b[0m: division by zero"
     ]
    }
   ],
   "source": [
    "5/0"
   ]
  },
  {
   "cell_type": "code",
   "execution_count": 56,
   "id": "c02c1c4e",
   "metadata": {},
   "outputs": [
    {
     "name": "stdout",
     "output_type": "stream",
     "text": [
      "divide\n"
     ]
    }
   ],
   "source": [
    "try:\n",
    "    5/0\n",
    "except ZeroDivisionError as z:\n",
    "    print(\"divide\")"
   ]
  },
  {
   "cell_type": "code",
   "execution_count": 64,
   "id": "23d10006",
   "metadata": {},
   "outputs": [],
   "source": [
    "def test(a):\n",
    "    if a < 0:\n",
    "        raise exception(\"you have entered a negative value\",a)#here we created our own custom messeges\n",
    "    return a"
   ]
  },
  {
   "cell_type": "code",
   "execution_count": 65,
   "id": "7973c384",
   "metadata": {},
   "outputs": [
    {
     "ename": "NameError",
     "evalue": "name 'exception' is not defined",
     "output_type": "error",
     "traceback": [
      "\u001b[1;31m---------------------------------------------------------------------------\u001b[0m",
      "\u001b[1;31mNameError\u001b[0m                                 Traceback (most recent call last)",
      "Input \u001b[1;32mIn [65]\u001b[0m, in \u001b[0;36m<cell line: 1>\u001b[1;34m()\u001b[0m\n\u001b[1;32m----> 1\u001b[0m \u001b[43mtest\u001b[49m\u001b[43m(\u001b[49m\u001b[38;5;241;43m-\u001b[39;49m\u001b[38;5;241;43m4\u001b[39;49m\u001b[43m)\u001b[49m\n",
      "Input \u001b[1;32mIn [64]\u001b[0m, in \u001b[0;36mtest\u001b[1;34m(a)\u001b[0m\n\u001b[0;32m      1\u001b[0m \u001b[38;5;28;01mdef\u001b[39;00m \u001b[38;5;21mtest\u001b[39m(a):\n\u001b[0;32m      2\u001b[0m     \u001b[38;5;28;01mif\u001b[39;00m a \u001b[38;5;241m<\u001b[39m \u001b[38;5;241m0\u001b[39m:\n\u001b[1;32m----> 3\u001b[0m         \u001b[38;5;28;01mraise\u001b[39;00m \u001b[43mexception\u001b[49m(\u001b[38;5;124m\"\u001b[39m\u001b[38;5;124myou have entered a negative value\u001b[39m\u001b[38;5;124m\"\u001b[39m,a)\u001b[38;5;66;03m#here we created our own custom messeges\u001b[39;00m\n\u001b[0;32m      4\u001b[0m     \u001b[38;5;28;01mreturn\u001b[39;00m a\n",
      "\u001b[1;31mNameError\u001b[0m: name 'exception' is not defined"
     ]
    }
   ],
   "source": [
    "test(-4)"
   ]
  },
  {
   "cell_type": "code",
   "execution_count": 66,
   "id": "ec5ce6b2",
   "metadata": {},
   "outputs": [
    {
     "ename": "FileNotFoundError",
     "evalue": "[Errno 2] No such file or directory: 'ddksosklsjdgf'",
     "output_type": "error",
     "traceback": [
      "\u001b[1;31m---------------------------------------------------------------------------\u001b[0m",
      "\u001b[1;31mFileNotFoundError\u001b[0m                         Traceback (most recent call last)",
      "Input \u001b[1;32mIn [66]\u001b[0m, in \u001b[0;36m<cell line: 1>\u001b[1;34m()\u001b[0m\n\u001b[1;32m----> 1\u001b[0m g\u001b[38;5;241m=\u001b[39m\u001b[38;5;28;43mopen\u001b[39;49m\u001b[43m(\u001b[49m\u001b[38;5;124;43m\"\u001b[39;49m\u001b[38;5;124;43mddksosklsjdgf\u001b[39;49m\u001b[38;5;124;43m\"\u001b[39;49m\u001b[43m)\u001b[49m\n",
      "\u001b[1;31mFileNotFoundError\u001b[0m: [Errno 2] No such file or directory: 'ddksosklsjdgf'"
     ]
    }
   ],
   "source": [
    "g=open(\"ddksosklsjdgf\")"
   ]
  },
  {
   "cell_type": "raw",
   "id": "8513d1a2",
   "metadata": {},
   "source": [
    "raise is a keyword which helps us out to create our own exception."
   ]
  },
  {
   "cell_type": "code",
   "execution_count": 69,
   "id": "02ec9084",
   "metadata": {},
   "outputs": [],
   "source": [
    "def test1(a):\n",
    "    if a < 0:\n",
    "        raise ZeroDivisionError(\"you have entered a negative value\",a)#here we created our own custom messeges\n",
    "    return a"
   ]
  },
  {
   "cell_type": "code",
   "execution_count": 70,
   "id": "9c02a1ef",
   "metadata": {},
   "outputs": [
    {
     "ename": "ZeroDivisionError",
     "evalue": "('you have entered a negative value', -5)",
     "output_type": "error",
     "traceback": [
      "\u001b[1;31m---------------------------------------------------------------------------\u001b[0m",
      "\u001b[1;31mZeroDivisionError\u001b[0m                         Traceback (most recent call last)",
      "Input \u001b[1;32mIn [70]\u001b[0m, in \u001b[0;36m<cell line: 1>\u001b[1;34m()\u001b[0m\n\u001b[1;32m----> 1\u001b[0m \u001b[43mtest1\u001b[49m\u001b[43m(\u001b[49m\u001b[38;5;241;43m-\u001b[39;49m\u001b[38;5;241;43m5\u001b[39;49m\u001b[43m)\u001b[49m\n",
      "Input \u001b[1;32mIn [69]\u001b[0m, in \u001b[0;36mtest1\u001b[1;34m(a)\u001b[0m\n\u001b[0;32m      1\u001b[0m \u001b[38;5;28;01mdef\u001b[39;00m \u001b[38;5;21mtest1\u001b[39m(a):\n\u001b[0;32m      2\u001b[0m     \u001b[38;5;28;01mif\u001b[39;00m a \u001b[38;5;241m<\u001b[39m \u001b[38;5;241m0\u001b[39m:\n\u001b[1;32m----> 3\u001b[0m         \u001b[38;5;28;01mraise\u001b[39;00m \u001b[38;5;167;01mZeroDivisionError\u001b[39;00m(\u001b[38;5;124m\"\u001b[39m\u001b[38;5;124myou have entered a negative value\u001b[39m\u001b[38;5;124m\"\u001b[39m,a)\u001b[38;5;66;03m#here we created our own custom messeges\u001b[39;00m\n\u001b[0;32m      4\u001b[0m     \u001b[38;5;28;01mreturn\u001b[39;00m a\n",
      "\u001b[1;31mZeroDivisionError\u001b[0m: ('you have entered a negative value', -5)"
     ]
    }
   ],
   "source": [
    "test1(-5)"
   ]
  },
  {
   "cell_type": "code",
   "execution_count": 1,
   "id": "edbc22a8",
   "metadata": {},
   "outputs": [],
   "source": [
    "def test2(a):\n",
    "    if a == \"ankit\":\n",
    "        raise ZeroDivisionError(\"you have entered a negative value\",a)#here we created our own custom messeges\n",
    "    return a"
   ]
  },
  {
   "cell_type": "code",
   "execution_count": 2,
   "id": "f8152234",
   "metadata": {},
   "outputs": [
    {
     "ename": "ZeroDivisionError",
     "evalue": "('you have entered a negative value', 'ankit')",
     "output_type": "error",
     "traceback": [
      "\u001b[1;31m---------------------------------------------------------------------------\u001b[0m",
      "\u001b[1;31mZeroDivisionError\u001b[0m                         Traceback (most recent call last)",
      "Input \u001b[1;32mIn [2]\u001b[0m, in \u001b[0;36m<cell line: 1>\u001b[1;34m()\u001b[0m\n\u001b[1;32m----> 1\u001b[0m \u001b[43mtest2\u001b[49m\u001b[43m(\u001b[49m\u001b[38;5;124;43m\"\u001b[39;49m\u001b[38;5;124;43mankit\u001b[39;49m\u001b[38;5;124;43m\"\u001b[39;49m\u001b[43m)\u001b[49m\n",
      "Input \u001b[1;32mIn [1]\u001b[0m, in \u001b[0;36mtest2\u001b[1;34m(a)\u001b[0m\n\u001b[0;32m      1\u001b[0m \u001b[38;5;28;01mdef\u001b[39;00m \u001b[38;5;21mtest2\u001b[39m(a):\n\u001b[0;32m      2\u001b[0m     \u001b[38;5;28;01mif\u001b[39;00m a \u001b[38;5;241m==\u001b[39m \u001b[38;5;124m\"\u001b[39m\u001b[38;5;124mankit\u001b[39m\u001b[38;5;124m\"\u001b[39m:\n\u001b[1;32m----> 3\u001b[0m         \u001b[38;5;28;01mraise\u001b[39;00m \u001b[38;5;167;01mZeroDivisionError\u001b[39;00m(\u001b[38;5;124m\"\u001b[39m\u001b[38;5;124myou have entered a negative value\u001b[39m\u001b[38;5;124m\"\u001b[39m,a)\u001b[38;5;66;03m#here we created our own custom messeges\u001b[39;00m\n\u001b[0;32m      4\u001b[0m     \u001b[38;5;28;01mreturn\u001b[39;00m a\n",
      "\u001b[1;31mZeroDivisionError\u001b[0m: ('you have entered a negative value', 'ankit')"
     ]
    }
   ],
   "source": [
    "test2(\"ankit\")"
   ]
  },
  {
   "cell_type": "code",
   "execution_count": 3,
   "id": "bc71cfa6",
   "metadata": {},
   "outputs": [
    {
     "name": "stdout",
     "output_type": "stream",
     "text": [
      "ankit\n",
      "calling my raised exception\n"
     ]
    }
   ],
   "source": [
    "try:\n",
    "    a=input()\n",
    "    test(a)\n",
    "except Exception as e:\n",
    "    print(\"calling my raised exception\")"
   ]
  }
 ],
 "metadata": {
  "kernelspec": {
   "display_name": "Python 3 (ipykernel)",
   "language": "python",
   "name": "python3"
  },
  "language_info": {
   "codemirror_mode": {
    "name": "ipython",
    "version": 3
   },
   "file_extension": ".py",
   "mimetype": "text/x-python",
   "name": "python",
   "nbconvert_exporter": "python",
   "pygments_lexer": "ipython3",
   "version": "3.9.12"
  }
 },
 "nbformat": 4,
 "nbformat_minor": 5
}
